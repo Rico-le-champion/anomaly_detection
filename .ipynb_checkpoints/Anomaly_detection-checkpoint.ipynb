{
 "cells": [
  {
   "cell_type": "markdown",
   "id": "dce5692e",
   "metadata": {},
   "source": [
    "# Import libraries"
   ]
  },
  {
   "cell_type": "code",
   "execution_count": 71,
   "id": "7642b579",
   "metadata": {},
   "outputs": [],
   "source": [
    "import pandas as pd\n",
    "import numpy as np\n",
    "import matplotlib.pyplot as plt"
   ]
  },
  {
   "cell_type": "markdown",
   "id": "006246eb",
   "metadata": {},
   "source": [
    "# Load data"
   ]
  },
  {
   "cell_type": "code",
   "execution_count": 3,
   "id": "d086f4d1",
   "metadata": {},
   "outputs": [],
   "source": [
    "data=pd.read_csv('./data/tsfreshfeatures.csv')"
   ]
  },
  {
   "cell_type": "code",
   "execution_count": 8,
   "id": "cc910700",
   "metadata": {},
   "outputs": [],
   "source": [
    "data.rename(columns={\"Unnamed: 0\":\"index\"},inplace=True)"
   ]
  },
  {
   "cell_type": "code",
   "execution_count": 10,
   "id": "7bb3af6b",
   "metadata": {},
   "outputs": [],
   "source": [
    "data.set_index('index',inplace=True)"
   ]
  },
  {
   "cell_type": "markdown",
   "id": "6e478563",
   "metadata": {},
   "source": [
    "# Data pré-processing"
   ]
  },
  {
   "cell_type": "markdown",
   "id": "698daec7",
   "metadata": {},
   "source": [
    "## Removing empty columns"
   ]
  },
  {
   "cell_type": "code",
   "execution_count": 17,
   "id": "263242ba",
   "metadata": {},
   "outputs": [],
   "source": [
    "cols=data.isna().mean()!=0"
   ]
  },
  {
   "cell_type": "code",
   "execution_count": 21,
   "id": "8c589228",
   "metadata": {},
   "outputs": [],
   "source": [
    "nan_cols=cols[cols==True].index"
   ]
  },
  {
   "cell_type": "code",
   "execution_count": 31,
   "id": "3e0942da",
   "metadata": {},
   "outputs": [],
   "source": [
    "empty_col=data[nan_cols].isna().mean()==1"
   ]
  },
  {
   "cell_type": "code",
   "execution_count": 38,
   "id": "abbc422d",
   "metadata": {},
   "outputs": [],
   "source": [
    "data.drop(columns=empty_col[empty_col==True].index.tolist(),inplace=True)"
   ]
  },
  {
   "cell_type": "markdown",
   "id": "840ef950",
   "metadata": {},
   "source": [
    "## Removing constant columns"
   ]
  },
  {
   "cell_type": "code",
   "execution_count": 41,
   "id": "0507de03",
   "metadata": {},
   "outputs": [
    {
     "data": {
      "text/plain": [
       "(1637, 8113)"
      ]
     },
     "execution_count": 41,
     "metadata": {},
     "output_type": "execute_result"
    }
   ],
   "source": [
    "data.shape"
   ]
  },
  {
   "cell_type": "code",
   "execution_count": 43,
   "id": "1dde527b",
   "metadata": {},
   "outputs": [],
   "source": [
    "data=data.loc[:, (data != data.iloc[0]).any()] "
   ]
  },
  {
   "cell_type": "code",
   "execution_count": 44,
   "id": "812c057a",
   "metadata": {},
   "outputs": [
    {
     "data": {
      "text/plain": [
       "(1637, 7501)"
      ]
     },
     "execution_count": 44,
     "metadata": {},
     "output_type": "execute_result"
    }
   ],
   "source": [
    "data.shape"
   ]
  },
  {
   "cell_type": "markdown",
   "id": "110a5c95",
   "metadata": {},
   "source": [
    "## Remove last nans"
   ]
  },
  {
   "cell_type": "code",
   "execution_count": 59,
   "id": "4c2ed971",
   "metadata": {},
   "outputs": [
    {
     "data": {
      "text/plain": [
       "inf"
      ]
     },
     "execution_count": 59,
     "metadata": {},
     "output_type": "execute_result"
    }
   ],
   "source": [
    "data.max().max()"
   ]
  },
  {
   "cell_type": "code",
   "execution_count": 96,
   "id": "ff3dde18",
   "metadata": {},
   "outputs": [],
   "source": [
    "test=data.replace([np.inf, -np.inf], np.nan)\n",
    "data_cleaned=test.dropna(axis=1)"
   ]
  },
  {
   "cell_type": "markdown",
   "id": "893ba726",
   "metadata": {},
   "source": [
    "# Détection d'anomalies"
   ]
  },
  {
   "cell_type": "code",
   "execution_count": 63,
   "id": "587b72a0",
   "metadata": {},
   "outputs": [],
   "source": [
    "from sklearn.ensemble import IsolationForest"
   ]
  },
  {
   "cell_type": "code",
   "execution_count": 84,
   "id": "a6321ffc",
   "metadata": {},
   "outputs": [],
   "source": [
    "iforest = IsolationForest(n_estimators=100, max_samples='auto', \n",
    "                          contamination=0.05, max_features=4, \n",
    "                          bootstrap=False, n_jobs=-1, random_state=1)"
   ]
  },
  {
   "cell_type": "code",
   "execution_count": 97,
   "id": "584beeac",
   "metadata": {},
   "outputs": [
    {
     "name": "stderr",
     "output_type": "stream",
     "text": [
      "/home/rico/miniconda3/envs/AML/lib/python3.8/site-packages/sklearn/base.py:445: UserWarning:\n",
      "\n",
      "X does not have valid feature names, but IsolationForest was fitted with feature names\n",
      "\n",
      "/tmp/ipykernel_3801/3292693906.py:2: SettingWithCopyWarning:\n",
      "\n",
      "\n",
      "A value is trying to be set on a copy of a slice from a DataFrame.\n",
      "Try using .loc[row_indexer,col_indexer] = value instead\n",
      "\n",
      "See the caveats in the documentation: https://pandas.pydata.org/pandas-docs/stable/user_guide/indexing.html#returning-a-view-versus-a-copy\n",
      "\n",
      "/tmp/ipykernel_3801/3292693906.py:3: SettingWithCopyWarning:\n",
      "\n",
      "\n",
      "A value is trying to be set on a copy of a slice from a DataFrame.\n",
      "Try using .loc[row_indexer,col_indexer] = value instead\n",
      "\n",
      "See the caveats in the documentation: https://pandas.pydata.org/pandas-docs/stable/user_guide/indexing.html#returning-a-view-versus-a-copy\n",
      "\n"
     ]
    }
   ],
   "source": [
    "pred= iforest.fit_predict(data_cleaned)\n",
    "data_cleaned['scores']=iforest.decision_function(data_cleaned)\n",
    "data_cleaned['anomaly_label']=pred"
   ]
  },
  {
   "cell_type": "code",
   "execution_count": 98,
   "id": "643a5d74",
   "metadata": {},
   "outputs": [
    {
     "data": {
      "text/html": [
       "<div>\n",
       "<style scoped>\n",
       "    .dataframe tbody tr th:only-of-type {\n",
       "        vertical-align: middle;\n",
       "    }\n",
       "\n",
       "    .dataframe tbody tr th {\n",
       "        vertical-align: top;\n",
       "    }\n",
       "\n",
       "    .dataframe thead th {\n",
       "        text-align: right;\n",
       "    }\n",
       "</style>\n",
       "<table border=\"1\" class=\"dataframe\">\n",
       "  <thead>\n",
       "    <tr style=\"text-align: right;\">\n",
       "      <th></th>\n",
       "      <th>p1__variance_larger_than_standard_deviation</th>\n",
       "      <th>p1__has_duplicate_max</th>\n",
       "      <th>p1__has_duplicate_min</th>\n",
       "      <th>p1__has_duplicate</th>\n",
       "      <th>p1__sum_values</th>\n",
       "      <th>p1__abs_energy</th>\n",
       "      <th>p1__mean_abs_change</th>\n",
       "      <th>p1__mean_change</th>\n",
       "      <th>p1__median</th>\n",
       "      <th>p1__mean</th>\n",
       "      <th>...</th>\n",
       "      <th>window__energy_ratio_by_chunks__num_segments_10__segment_focus_7</th>\n",
       "      <th>window__energy_ratio_by_chunks__num_segments_10__segment_focus_8</th>\n",
       "      <th>window__energy_ratio_by_chunks__num_segments_10__segment_focus_9</th>\n",
       "      <th>window__lempel_ziv_complexity__bins_2</th>\n",
       "      <th>window__lempel_ziv_complexity__bins_3</th>\n",
       "      <th>window__lempel_ziv_complexity__bins_5</th>\n",
       "      <th>window__lempel_ziv_complexity__bins_10</th>\n",
       "      <th>window__lempel_ziv_complexity__bins_100</th>\n",
       "      <th>scores</th>\n",
       "      <th>anomaly_label</th>\n",
       "    </tr>\n",
       "    <tr>\n",
       "      <th>index</th>\n",
       "      <th></th>\n",
       "      <th></th>\n",
       "      <th></th>\n",
       "      <th></th>\n",
       "      <th></th>\n",
       "      <th></th>\n",
       "      <th></th>\n",
       "      <th></th>\n",
       "      <th></th>\n",
       "      <th></th>\n",
       "      <th></th>\n",
       "      <th></th>\n",
       "      <th></th>\n",
       "      <th></th>\n",
       "      <th></th>\n",
       "      <th></th>\n",
       "      <th></th>\n",
       "      <th></th>\n",
       "      <th></th>\n",
       "      <th></th>\n",
       "      <th></th>\n",
       "    </tr>\n",
       "  </thead>\n",
       "  <tbody>\n",
       "    <tr>\n",
       "      <th>1_1_1</th>\n",
       "      <td>0.0</td>\n",
       "      <td>1.0</td>\n",
       "      <td>0.0</td>\n",
       "      <td>1.0</td>\n",
       "      <td>-192.614108</td>\n",
       "      <td>405.598886</td>\n",
       "      <td>0.068423</td>\n",
       "      <td>-0.010094</td>\n",
       "      <td>-1.849016</td>\n",
       "      <td>-1.926141</td>\n",
       "      <td>...</td>\n",
       "      <td>0.100000</td>\n",
       "      <td>0.100000</td>\n",
       "      <td>0.100000</td>\n",
       "      <td>0.130000</td>\n",
       "      <td>0.130000</td>\n",
       "      <td>0.130000</td>\n",
       "      <td>0.130000</td>\n",
       "      <td>0.130000</td>\n",
       "      <td>-0.060739</td>\n",
       "      <td>-1</td>\n",
       "    </tr>\n",
       "    <tr>\n",
       "      <th>1_1_3</th>\n",
       "      <td>0.0</td>\n",
       "      <td>1.0</td>\n",
       "      <td>0.0</td>\n",
       "      <td>1.0</td>\n",
       "      <td>-153.435714</td>\n",
       "      <td>256.272205</td>\n",
       "      <td>0.053100</td>\n",
       "      <td>-0.009498</td>\n",
       "      <td>-1.448777</td>\n",
       "      <td>-1.534357</td>\n",
       "      <td>...</td>\n",
       "      <td>0.100000</td>\n",
       "      <td>0.100000</td>\n",
       "      <td>0.100000</td>\n",
       "      <td>0.130000</td>\n",
       "      <td>0.130000</td>\n",
       "      <td>0.130000</td>\n",
       "      <td>0.130000</td>\n",
       "      <td>0.130000</td>\n",
       "      <td>-0.016293</td>\n",
       "      <td>-1</td>\n",
       "    </tr>\n",
       "    <tr>\n",
       "      <th>1_1_5</th>\n",
       "      <td>0.0</td>\n",
       "      <td>1.0</td>\n",
       "      <td>1.0</td>\n",
       "      <td>1.0</td>\n",
       "      <td>-73.271465</td>\n",
       "      <td>68.510674</td>\n",
       "      <td>0.033989</td>\n",
       "      <td>0.013662</td>\n",
       "      <td>-0.874543</td>\n",
       "      <td>-0.732715</td>\n",
       "      <td>...</td>\n",
       "      <td>0.100000</td>\n",
       "      <td>0.100000</td>\n",
       "      <td>0.100000</td>\n",
       "      <td>0.130000</td>\n",
       "      <td>0.130000</td>\n",
       "      <td>0.130000</td>\n",
       "      <td>0.130000</td>\n",
       "      <td>0.130000</td>\n",
       "      <td>-0.028017</td>\n",
       "      <td>-1</td>\n",
       "    </tr>\n",
       "    <tr>\n",
       "      <th>1_1_62</th>\n",
       "      <td>1.0</td>\n",
       "      <td>1.0</td>\n",
       "      <td>1.0</td>\n",
       "      <td>1.0</td>\n",
       "      <td>33.639019</td>\n",
       "      <td>130.093035</td>\n",
       "      <td>0.039117</td>\n",
       "      <td>-0.019964</td>\n",
       "      <td>0.011388</td>\n",
       "      <td>0.336390</td>\n",
       "      <td>...</td>\n",
       "      <td>0.100000</td>\n",
       "      <td>0.100000</td>\n",
       "      <td>0.100000</td>\n",
       "      <td>0.130000</td>\n",
       "      <td>0.130000</td>\n",
       "      <td>0.130000</td>\n",
       "      <td>0.130000</td>\n",
       "      <td>0.130000</td>\n",
       "      <td>-0.035071</td>\n",
       "      <td>-1</td>\n",
       "    </tr>\n",
       "    <tr>\n",
       "      <th>1_1_68</th>\n",
       "      <td>1.0</td>\n",
       "      <td>0.0</td>\n",
       "      <td>1.0</td>\n",
       "      <td>1.0</td>\n",
       "      <td>-142.969225</td>\n",
       "      <td>367.268092</td>\n",
       "      <td>0.040963</td>\n",
       "      <td>0.040719</td>\n",
       "      <td>-1.528748</td>\n",
       "      <td>-1.906256</td>\n",
       "      <td>...</td>\n",
       "      <td>0.093333</td>\n",
       "      <td>0.093333</td>\n",
       "      <td>0.093333</td>\n",
       "      <td>0.146667</td>\n",
       "      <td>0.146667</td>\n",
       "      <td>0.146667</td>\n",
       "      <td>0.146667</td>\n",
       "      <td>0.146667</td>\n",
       "      <td>-0.102010</td>\n",
       "      <td>-1</td>\n",
       "    </tr>\n",
       "    <tr>\n",
       "      <th>...</th>\n",
       "      <td>...</td>\n",
       "      <td>...</td>\n",
       "      <td>...</td>\n",
       "      <td>...</td>\n",
       "      <td>...</td>\n",
       "      <td>...</td>\n",
       "      <td>...</td>\n",
       "      <td>...</td>\n",
       "      <td>...</td>\n",
       "      <td>...</td>\n",
       "      <td>...</td>\n",
       "      <td>...</td>\n",
       "      <td>...</td>\n",
       "      <td>...</td>\n",
       "      <td>...</td>\n",
       "      <td>...</td>\n",
       "      <td>...</td>\n",
       "      <td>...</td>\n",
       "      <td>...</td>\n",
       "      <td>...</td>\n",
       "      <td>...</td>\n",
       "    </tr>\n",
       "    <tr>\n",
       "      <th>4_3_59</th>\n",
       "      <td>0.0</td>\n",
       "      <td>1.0</td>\n",
       "      <td>1.0</td>\n",
       "      <td>1.0</td>\n",
       "      <td>-97.843157</td>\n",
       "      <td>144.927697</td>\n",
       "      <td>0.041629</td>\n",
       "      <td>-0.003845</td>\n",
       "      <td>-1.212743</td>\n",
       "      <td>-0.978432</td>\n",
       "      <td>...</td>\n",
       "      <td>0.100000</td>\n",
       "      <td>0.100000</td>\n",
       "      <td>0.100000</td>\n",
       "      <td>0.130000</td>\n",
       "      <td>0.130000</td>\n",
       "      <td>0.130000</td>\n",
       "      <td>0.130000</td>\n",
       "      <td>0.130000</td>\n",
       "      <td>-0.028638</td>\n",
       "      <td>-1</td>\n",
       "    </tr>\n",
       "    <tr>\n",
       "      <th>4_3_61</th>\n",
       "      <td>0.0</td>\n",
       "      <td>0.0</td>\n",
       "      <td>1.0</td>\n",
       "      <td>1.0</td>\n",
       "      <td>-98.497577</td>\n",
       "      <td>116.810033</td>\n",
       "      <td>0.029819</td>\n",
       "      <td>-0.014069</td>\n",
       "      <td>-1.040702</td>\n",
       "      <td>-0.984976</td>\n",
       "      <td>...</td>\n",
       "      <td>0.100000</td>\n",
       "      <td>0.100000</td>\n",
       "      <td>0.100000</td>\n",
       "      <td>0.130000</td>\n",
       "      <td>0.130000</td>\n",
       "      <td>0.130000</td>\n",
       "      <td>0.130000</td>\n",
       "      <td>0.130000</td>\n",
       "      <td>-0.032467</td>\n",
       "      <td>-1</td>\n",
       "    </tr>\n",
       "    <tr>\n",
       "      <th>4_3_63</th>\n",
       "      <td>0.0</td>\n",
       "      <td>1.0</td>\n",
       "      <td>1.0</td>\n",
       "      <td>1.0</td>\n",
       "      <td>-89.053723</td>\n",
       "      <td>127.656481</td>\n",
       "      <td>0.021805</td>\n",
       "      <td>0.018173</td>\n",
       "      <td>-1.225659</td>\n",
       "      <td>-0.890537</td>\n",
       "      <td>...</td>\n",
       "      <td>0.100000</td>\n",
       "      <td>0.100000</td>\n",
       "      <td>0.100000</td>\n",
       "      <td>0.130000</td>\n",
       "      <td>0.130000</td>\n",
       "      <td>0.130000</td>\n",
       "      <td>0.130000</td>\n",
       "      <td>0.130000</td>\n",
       "      <td>-0.033778</td>\n",
       "      <td>-1</td>\n",
       "    </tr>\n",
       "    <tr>\n",
       "      <th>4_4_160</th>\n",
       "      <td>0.0</td>\n",
       "      <td>0.0</td>\n",
       "      <td>1.0</td>\n",
       "      <td>1.0</td>\n",
       "      <td>-36.889446</td>\n",
       "      <td>33.437420</td>\n",
       "      <td>0.016850</td>\n",
       "      <td>0.015903</td>\n",
       "      <td>-0.344851</td>\n",
       "      <td>-0.485387</td>\n",
       "      <td>...</td>\n",
       "      <td>0.092105</td>\n",
       "      <td>0.092105</td>\n",
       "      <td>0.092105</td>\n",
       "      <td>0.144737</td>\n",
       "      <td>0.144737</td>\n",
       "      <td>0.144737</td>\n",
       "      <td>0.144737</td>\n",
       "      <td>0.144737</td>\n",
       "      <td>-0.027271</td>\n",
       "      <td>-1</td>\n",
       "    </tr>\n",
       "    <tr>\n",
       "      <th>4_4_79</th>\n",
       "      <td>0.0</td>\n",
       "      <td>1.0</td>\n",
       "      <td>0.0</td>\n",
       "      <td>1.0</td>\n",
       "      <td>94.520997</td>\n",
       "      <td>131.617703</td>\n",
       "      <td>0.017954</td>\n",
       "      <td>-0.016735</td>\n",
       "      <td>0.838810</td>\n",
       "      <td>0.945210</td>\n",
       "      <td>...</td>\n",
       "      <td>0.100000</td>\n",
       "      <td>0.100000</td>\n",
       "      <td>0.100000</td>\n",
       "      <td>0.130000</td>\n",
       "      <td>0.130000</td>\n",
       "      <td>0.130000</td>\n",
       "      <td>0.130000</td>\n",
       "      <td>0.130000</td>\n",
       "      <td>-0.024811</td>\n",
       "      <td>-1</td>\n",
       "    </tr>\n",
       "  </tbody>\n",
       "</table>\n",
       "<p>82 rows × 2631 columns</p>\n",
       "</div>"
      ],
      "text/plain": [
       "         p1__variance_larger_than_standard_deviation  p1__has_duplicate_max  \\\n",
       "index                                                                         \n",
       "1_1_1                                            0.0                    1.0   \n",
       "1_1_3                                            0.0                    1.0   \n",
       "1_1_5                                            0.0                    1.0   \n",
       "1_1_62                                           1.0                    1.0   \n",
       "1_1_68                                           1.0                    0.0   \n",
       "...                                              ...                    ...   \n",
       "4_3_59                                           0.0                    1.0   \n",
       "4_3_61                                           0.0                    0.0   \n",
       "4_3_63                                           0.0                    1.0   \n",
       "4_4_160                                          0.0                    0.0   \n",
       "4_4_79                                           0.0                    1.0   \n",
       "\n",
       "         p1__has_duplicate_min  p1__has_duplicate  p1__sum_values  \\\n",
       "index                                                               \n",
       "1_1_1                      0.0                1.0     -192.614108   \n",
       "1_1_3                      0.0                1.0     -153.435714   \n",
       "1_1_5                      1.0                1.0      -73.271465   \n",
       "1_1_62                     1.0                1.0       33.639019   \n",
       "1_1_68                     1.0                1.0     -142.969225   \n",
       "...                        ...                ...             ...   \n",
       "4_3_59                     1.0                1.0      -97.843157   \n",
       "4_3_61                     1.0                1.0      -98.497577   \n",
       "4_3_63                     1.0                1.0      -89.053723   \n",
       "4_4_160                    1.0                1.0      -36.889446   \n",
       "4_4_79                     0.0                1.0       94.520997   \n",
       "\n",
       "         p1__abs_energy  p1__mean_abs_change  p1__mean_change  p1__median  \\\n",
       "index                                                                       \n",
       "1_1_1        405.598886             0.068423        -0.010094   -1.849016   \n",
       "1_1_3        256.272205             0.053100        -0.009498   -1.448777   \n",
       "1_1_5         68.510674             0.033989         0.013662   -0.874543   \n",
       "1_1_62       130.093035             0.039117        -0.019964    0.011388   \n",
       "1_1_68       367.268092             0.040963         0.040719   -1.528748   \n",
       "...                 ...                  ...              ...         ...   \n",
       "4_3_59       144.927697             0.041629        -0.003845   -1.212743   \n",
       "4_3_61       116.810033             0.029819        -0.014069   -1.040702   \n",
       "4_3_63       127.656481             0.021805         0.018173   -1.225659   \n",
       "4_4_160       33.437420             0.016850         0.015903   -0.344851   \n",
       "4_4_79       131.617703             0.017954        -0.016735    0.838810   \n",
       "\n",
       "         p1__mean  ...  \\\n",
       "index              ...   \n",
       "1_1_1   -1.926141  ...   \n",
       "1_1_3   -1.534357  ...   \n",
       "1_1_5   -0.732715  ...   \n",
       "1_1_62   0.336390  ...   \n",
       "1_1_68  -1.906256  ...   \n",
       "...           ...  ...   \n",
       "4_3_59  -0.978432  ...   \n",
       "4_3_61  -0.984976  ...   \n",
       "4_3_63  -0.890537  ...   \n",
       "4_4_160 -0.485387  ...   \n",
       "4_4_79   0.945210  ...   \n",
       "\n",
       "         window__energy_ratio_by_chunks__num_segments_10__segment_focus_7  \\\n",
       "index                                                                       \n",
       "1_1_1                                             0.100000                  \n",
       "1_1_3                                             0.100000                  \n",
       "1_1_5                                             0.100000                  \n",
       "1_1_62                                            0.100000                  \n",
       "1_1_68                                            0.093333                  \n",
       "...                                                    ...                  \n",
       "4_3_59                                            0.100000                  \n",
       "4_3_61                                            0.100000                  \n",
       "4_3_63                                            0.100000                  \n",
       "4_4_160                                           0.092105                  \n",
       "4_4_79                                            0.100000                  \n",
       "\n",
       "         window__energy_ratio_by_chunks__num_segments_10__segment_focus_8  \\\n",
       "index                                                                       \n",
       "1_1_1                                             0.100000                  \n",
       "1_1_3                                             0.100000                  \n",
       "1_1_5                                             0.100000                  \n",
       "1_1_62                                            0.100000                  \n",
       "1_1_68                                            0.093333                  \n",
       "...                                                    ...                  \n",
       "4_3_59                                            0.100000                  \n",
       "4_3_61                                            0.100000                  \n",
       "4_3_63                                            0.100000                  \n",
       "4_4_160                                           0.092105                  \n",
       "4_4_79                                            0.100000                  \n",
       "\n",
       "         window__energy_ratio_by_chunks__num_segments_10__segment_focus_9  \\\n",
       "index                                                                       \n",
       "1_1_1                                             0.100000                  \n",
       "1_1_3                                             0.100000                  \n",
       "1_1_5                                             0.100000                  \n",
       "1_1_62                                            0.100000                  \n",
       "1_1_68                                            0.093333                  \n",
       "...                                                    ...                  \n",
       "4_3_59                                            0.100000                  \n",
       "4_3_61                                            0.100000                  \n",
       "4_3_63                                            0.100000                  \n",
       "4_4_160                                           0.092105                  \n",
       "4_4_79                                            0.100000                  \n",
       "\n",
       "         window__lempel_ziv_complexity__bins_2  \\\n",
       "index                                            \n",
       "1_1_1                                 0.130000   \n",
       "1_1_3                                 0.130000   \n",
       "1_1_5                                 0.130000   \n",
       "1_1_62                                0.130000   \n",
       "1_1_68                                0.146667   \n",
       "...                                        ...   \n",
       "4_3_59                                0.130000   \n",
       "4_3_61                                0.130000   \n",
       "4_3_63                                0.130000   \n",
       "4_4_160                               0.144737   \n",
       "4_4_79                                0.130000   \n",
       "\n",
       "         window__lempel_ziv_complexity__bins_3  \\\n",
       "index                                            \n",
       "1_1_1                                 0.130000   \n",
       "1_1_3                                 0.130000   \n",
       "1_1_5                                 0.130000   \n",
       "1_1_62                                0.130000   \n",
       "1_1_68                                0.146667   \n",
       "...                                        ...   \n",
       "4_3_59                                0.130000   \n",
       "4_3_61                                0.130000   \n",
       "4_3_63                                0.130000   \n",
       "4_4_160                               0.144737   \n",
       "4_4_79                                0.130000   \n",
       "\n",
       "         window__lempel_ziv_complexity__bins_5  \\\n",
       "index                                            \n",
       "1_1_1                                 0.130000   \n",
       "1_1_3                                 0.130000   \n",
       "1_1_5                                 0.130000   \n",
       "1_1_62                                0.130000   \n",
       "1_1_68                                0.146667   \n",
       "...                                        ...   \n",
       "4_3_59                                0.130000   \n",
       "4_3_61                                0.130000   \n",
       "4_3_63                                0.130000   \n",
       "4_4_160                               0.144737   \n",
       "4_4_79                                0.130000   \n",
       "\n",
       "         window__lempel_ziv_complexity__bins_10  \\\n",
       "index                                             \n",
       "1_1_1                                  0.130000   \n",
       "1_1_3                                  0.130000   \n",
       "1_1_5                                  0.130000   \n",
       "1_1_62                                 0.130000   \n",
       "1_1_68                                 0.146667   \n",
       "...                                         ...   \n",
       "4_3_59                                 0.130000   \n",
       "4_3_61                                 0.130000   \n",
       "4_3_63                                 0.130000   \n",
       "4_4_160                                0.144737   \n",
       "4_4_79                                 0.130000   \n",
       "\n",
       "         window__lempel_ziv_complexity__bins_100    scores  anomaly_label  \n",
       "index                                                                      \n",
       "1_1_1                                   0.130000 -0.060739             -1  \n",
       "1_1_3                                   0.130000 -0.016293             -1  \n",
       "1_1_5                                   0.130000 -0.028017             -1  \n",
       "1_1_62                                  0.130000 -0.035071             -1  \n",
       "1_1_68                                  0.146667 -0.102010             -1  \n",
       "...                                          ...       ...            ...  \n",
       "4_3_59                                  0.130000 -0.028638             -1  \n",
       "4_3_61                                  0.130000 -0.032467             -1  \n",
       "4_3_63                                  0.130000 -0.033778             -1  \n",
       "4_4_160                                 0.144737 -0.027271             -1  \n",
       "4_4_79                                  0.130000 -0.024811             -1  \n",
       "\n",
       "[82 rows x 2631 columns]"
      ]
     },
     "execution_count": 98,
     "metadata": {},
     "output_type": "execute_result"
    }
   ],
   "source": [
    "data_cleaned[data_cleaned.anomaly_label==-1]"
   ]
  },
  {
   "cell_type": "code",
   "execution_count": 103,
   "id": "25aff80b",
   "metadata": {},
   "outputs": [],
   "source": [
    "import seaborn as sns "
   ]
  },
  {
   "cell_type": "code",
   "execution_count": 99,
   "id": "9f010847",
   "metadata": {},
   "outputs": [
    {
     "name": "stderr",
     "output_type": "stream",
     "text": [
      "/tmp/ipykernel_3801/1008506410.py:1: SettingWithCopyWarning:\n",
      "\n",
      "\n",
      "A value is trying to be set on a copy of a slice from a DataFrame.\n",
      "Try using .loc[row_indexer,col_indexer] = value instead\n",
      "\n",
      "See the caveats in the documentation: https://pandas.pydata.org/pandas-docs/stable/user_guide/indexing.html#returning-a-view-versus-a-copy\n",
      "\n"
     ]
    }
   ],
   "source": [
    "data_cleaned['anomaly']=data_cleaned['anomaly_label'].apply(lambda x: 'outlier' if x==-1  else 'inlier')"
   ]
  },
  {
   "cell_type": "code",
   "execution_count": 106,
   "id": "d6f32701",
   "metadata": {},
   "outputs": [
    {
     "data": {
      "image/png": "[encoded data removed]",
      "text/plain": [
       "<Figure size 432x288 with 1 Axes>"
      ]
     },
     "metadata": {
      "needs_background": "light"
     },
     "output_type": "display_data"
    }
   ],
   "source": [
    "fig=sns.histplot(data=data_cleaned, x='scores',hue='anomaly')\n",
    "plt.show()"
   ]
  },
  {
   "cell_type": "markdown",
   "id": "a40c5acd",
   "metadata": {},
   "source": [
    "Having said that, If you are very confident about the results of Isolation Forest classifier and you have a capacity to train another model then you could use the output of Isolation Forest i.e -1/1 values as target-class to train a Random Forest classifier. This will give you feature importance for detecting anomaly."
   ]
  },
  {
   "cell_type": "code",
   "execution_count": null,
   "id": "cb405522",
   "metadata": {},
   "outputs": [],
   "source": []
  }
 ],
 "metadata": {
  "kernelspec": {
   "display_name": "Python 3 (ipykernel)",
   "language": "python",
   "name": "python3"
  },
  "language_info": {
   "codemirror_mode": {
    "name": "ipython",
    "version": 3
   },
   "file_extension": ".py",
   "mimetype": "text/x-python",
   "name": "python",
   "nbconvert_exporter": "python",
   "pygments_lexer": "ipython3",
   "version": "3.8.11"
  }
 },
 "nbformat": 4,
 "nbformat_minor": 5
}

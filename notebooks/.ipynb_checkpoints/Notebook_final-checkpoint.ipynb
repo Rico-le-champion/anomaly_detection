{
 "cells": [
  {
   "cell_type": "markdown",
   "id": "36315720-838f-49bc-b0b9-10d106dd6b6e",
   "metadata": {},
   "source": [
    "# Import des librairies"
   ]
  },
  {
   "cell_type": "code",
   "execution_count": 1,
   "id": "18d5ed96-c4d7-4c41-81ef-6f23039af6ff",
   "metadata": {},
   "outputs": [],
   "source": [
    "import pandas as pd\n",
    "import numpy as np\n",
    "import matplotlib.pyplot as plt\n",
    "import seaborn as sns\n",
    "from sklearn.ensemble import IsolationForest\n",
    "from sklearn.neighbors import LocalOutlierFactor\n",
    "from sklearn.decomposition import PCA\n",
    "from sklearn.preprocessing import MinMaxScaler"
   ]
  },
  {
   "cell_type": "markdown",
   "id": "6ca3eda0-b804-495e-8bd9-fbc024758091",
   "metadata": {},
   "source": [
    "# Chargement des données"
   ]
  },
  {
   "cell_type": "code",
   "execution_count": 2,
   "id": "ae23ecd7-ac57-45f6-b1c1-591c36f1500b",
   "metadata": {},
   "outputs": [],
   "source": [
    "df = pd.read_csv(\"../data/tsfresh_data_cleaned.csv\")\n",
    "df.drop(columns={\"Unnamed: 0\"}, inplace=True)\n",
    "df_full = pd.read_csv(\"../data/dataset.csv\")\n",
    "outliers_predictions = pd.DataFrame()\n",
    "outliers_predictions.index = df[\"index\"]"
   ]
  },
  {
   "cell_type": "markdown",
   "id": "de0cdb08-6d0b-4a10-af32-7d72b5ed1b51",
   "metadata": {},
   "source": [
    "## Netoyage des données"
   ]
  },
  {
   "cell_type": "markdown",
   "id": "6ca2eea2-f270-489a-b3f9-5a92e00eebf5",
   "metadata": {},
   "source": [
    "On supprime les variables trop corrélées entre elles"
   ]
  },
  {
   "cell_type": "markdown",
   "id": "2283f324-4196-4ddc-b555-7fa92a8c0cf2",
   "metadata": {},
   "source": [
    "Explqiuer tsfresh etc ?"
   ]
  },
  {
   "cell_type": "code",
   "execution_count": 3,
   "id": "2535d6b3-57e2-4257-a4fd-7f3e4683aa9c",
   "metadata": {},
   "outputs": [],
   "source": [
    "corr = df.corr()\n",
    "for col in corr.columns:\n",
    "    if len(corr[corr[col] == 1]) > 0.9:\n",
    "        temp = corr[corr[col] == 1]\n",
    "        to_be_removed = temp.index.tolist()\n",
    "        to_be_removed.remove(to_be_removed[0])\n",
    "        try:\n",
    "            df.drop(columns=to_be_removed, inplace=True)\n",
    "        except:\n",
    "            pass"
   ]
  },
  {
   "cell_type": "code",
   "execution_count": 4,
   "id": "cc1d6e69-a0eb-45d3-b8d1-a418f371cc3a",
   "metadata": {},
   "outputs": [],
   "source": [
    "def cycle(x):\n",
    "    return int(x[\"day_cycle_window\"].split(\"_\")[1])"
   ]
  },
  {
   "cell_type": "code",
   "execution_count": 5,
   "id": "3b292ccd-b2af-4739-8a70-752924c965b4",
   "metadata": {},
   "outputs": [],
   "source": [
    "df_full[\"cycle\"] = df_full.apply(cycle, axis=1)"
   ]
  },
  {
   "cell_type": "markdown",
   "id": "0bc7601d-2cdd-4de9-af66-72f37e70330d",
   "metadata": {},
   "source": [
    "## On concentre le travail par cycle"
   ]
  },
  {
   "cell_type": "markdown",
   "id": "92430117-57ed-4e2a-9d75-2cf431b04cf6",
   "metadata": {},
   "source": [
    "Nous avons vu dans l'analyse des données que selon le cycle, les comportmemtns n'étaient pas les mêmes, donc ici focus cycle par cycle"
   ]
  },
  {
   "cell_type": "code",
   "execution_count": 6,
   "id": "e82fc313-c42b-4234-9c20-90d91d2190d6",
   "metadata": {},
   "outputs": [],
   "source": [
    "df.set_index(\"index\", drop=True, inplace=True)"
   ]
  },
  {
   "cell_type": "code",
   "execution_count": 7,
   "id": "bc09f4e4-f1e2-4db0-aa88-74d069f9c386",
   "metadata": {},
   "outputs": [],
   "source": [
    "dict_df_cycles = {}\n",
    "dict_df_outliers = {}\n",
    "dict_df_cycles_full = {}\n",
    "for i in range(5):\n",
    "    dict_df_cycles[i] = df[df[\"cycle\"] == (i + 1)]\n",
    "\n",
    "    outliers_cycle_1 = pd.DataFrame()\n",
    "    outliers_cycle_1.index = dict_df_cycles[i].index\n",
    "    dict_df_outliers[i] = outliers_cycle_1\n",
    "\n",
    "    dict_df_cycles_full[i] = df_full[df_full[\"cycle\"] == (i + 1)].copy()"
   ]
  },
  {
   "cell_type": "markdown",
   "id": "e1480507-9434-4209-9f55-3295610d5c97",
   "metadata": {},
   "source": [
    "# IF sur chaque point "
   ]
  },
  {
   "cell_type": "markdown",
   "id": "ad05e1ac-f61f-4ee6-9f52-5dc6c02dbb59",
   "metadata": {},
   "source": [
    "On utilise un algortihtme pour identifier parmis tous les pas de temps ceux qui sont potentiellement anormaux. Onr egroupe ensuite ces observation pour regarder si des windows sortent du lot, pas les données tsfresh ici"
   ]
  },
  {
   "cell_type": "code",
   "execution_count": 8,
   "id": "3188a1ca-fe66-4401-8519-67aadc0046c5",
   "metadata": {},
   "outputs": [],
   "source": [
    "def isolation_forest_on_points(df_full_cycle_1, outliers_cycle_1):\n",
    "\n",
    "    iforest = IsolationForest()\n",
    "    pred = iforest.fit_predict(df_full_cycle_1.values)\n",
    "    df_full_cycle_1[\"mean_scores\"] = iforest.decision_function(df_full_cycle_1.values)\n",
    "    df_full_cycle_1[\"anomaly_label\"] = pred\n",
    "\n",
    "    print(\"Anomalies sur les points\")\n",
    "    df_full_cycle_1[\"anomaly\"] = df_full_cycle_1[\"anomaly_label\"].apply(\n",
    "        lambda x: \"outlier\" if x == -1 else \"inlier\"\n",
    "    )\n",
    "    fig = sns.histplot(data=df_full_cycle_1, x=\"mean_scores\", hue=\"anomaly\")\n",
    "    plt.show()\n",
    "    df_full_cycle_1.drop(columns=[\"anomaly\"], inplace=True)\n",
    "\n",
    "    df_temp = (\n",
    "        df_full_cycle_1[[\"day_cycle_window\", \"mean_scores\"]]\n",
    "        .groupby(\"day_cycle_window\")\n",
    "        .mean()[[\"mean_scores\"]]\n",
    "    )\n",
    "\n",
    "    print(\"Anomalies sur les windows, (il faut regarder les scores négatifs)\")\n",
    "    sns.histplot(df_temp[\"mean_scores\"])\n",
    "    plt.show()\n",
    "\n",
    "    outliers_cycle_1[\"RF_on_points\"] = np.where(df_temp[\"mean_scores\"] > 0, 0, 1)"
   ]
  },
  {
   "cell_type": "code",
   "execution_count": 9,
   "id": "e683093e-9034-4bb3-9989-0b875ee7cca7",
   "metadata": {},
   "outputs": [
    {
     "name": "stdout",
     "output_type": "stream",
     "text": [
      "\n",
      " Traitement du cycle numéro 1\n",
      "Anomalies sur les points\n"
     ]
    },
    {
     "data": {
      "image/png": "[encoded data removed]",
      "text/plain": [
       "<Figure size 432x288 with 1 Axes>"
      ]
     },
     "metadata": {
      "needs_background": "light"
     },
     "output_type": "display_data"
    },
    {
     "name": "stdout",
     "output_type": "stream",
     "text": [
      "Anomalies sur les windows, (il faut regarder les scores négatifs)\n"
     ]
    },
    {
     "data": {
      "image/png": "[encoded data removed]",
      "text/plain": [
       "<Figure size 432x288 with 1 Axes>"
      ]
     },
     "metadata": {
      "needs_background": "light"
     },
     "output_type": "display_data"
    },
    {
     "name": "stdout",
     "output_type": "stream",
     "text": [
      "\n",
      " Traitement du cycle numéro 2\n",
      "Anomalies sur les points\n"
     ]
    },
    {
     "data": {
      "image/png": "[encoded data removed]",
      "text/plain": [
       "<Figure size 432x288 with 1 Axes>"
      ]
     },
     "metadata": {
      "needs_background": "light"
     },
     "output_type": "display_data"
    },
    {
     "name": "stdout",
     "output_type": "stream",
     "text": [
      "Anomalies sur les windows, (il faut regarder les scores négatifs)\n"
     ]
    },
    {
     "data": {
      "image/png": "[encoded data removed]",
      "text/plain": [
       "<Figure size 432x288 with 1 Axes>"
      ]
     },
     "metadata": {
      "needs_background": "light"
     },
     "output_type": "display_data"
    },
    {
     "name": "stdout",
     "output_type": "stream",
     "text": [
      "\n",
      " Traitement du cycle numéro 3\n",
      "Anomalies sur les points\n"
     ]
    },
    {
     "data": {
      "image/png": "[encoded data removed]",
      "text/plain": [
       "<Figure size 432x288 with 1 Axes>"
      ]
     },
     "metadata": {
      "needs_background": "light"
     },
     "output_type": "display_data"
    },
    {
     "name": "stdout",
     "output_type": "stream",
     "text": [
      "Anomalies sur les windows, (il faut regarder les scores négatifs)\n"
     ]
    },
    {
     "data": {
      "image/png": "[encoded data removed]",
      "text/plain": [
       "<Figure size 432x288 with 1 Axes>"
      ]
     },
     "metadata": {
      "needs_background": "light"
     },
     "output_type": "display_data"
    },
    {
     "name": "stdout",
     "output_type": "stream",
     "text": [
      "\n",
      " Traitement du cycle numéro 4\n",
      "Anomalies sur les points\n"
     ]
    },
    {
     "data": {
      "image/png": "[encoded data removed]",
      "text/plain": [
       "<Figure size 432x288 with 1 Axes>"
      ]
     },
     "metadata": {
      "needs_background": "light"
     },
     "output_type": "display_data"
    },
    {
     "name": "stdout",
     "output_type": "stream",
     "text": [
      "Anomalies sur les windows, (il faut regarder les scores négatifs)\n"
     ]
    },
    {
     "data": {
      "image/png": "[encoded data removed]",
      "text/plain": [
       "<Figure size 432x288 with 1 Axes>"
      ]
     },
     "metadata": {
      "needs_background": "light"
     },
     "output_type": "display_data"
    },
    {
     "name": "stdout",
     "output_type": "stream",
     "text": [
      "\n",
      " Traitement du cycle numéro 5\n",
      "Anomalies sur les points\n"
     ]
    },
    {
     "data": {
      "image/png": "[encoded data removed]",
      "text/plain": [
       "<Figure size 432x288 with 1 Axes>"
      ]
     },
     "metadata": {
      "needs_background": "light"
     },
     "output_type": "display_data"
    },
    {
     "name": "stdout",
     "output_type": "stream",
     "text": [
      "Anomalies sur les windows, (il faut regarder les scores négatifs)\n"
     ]
    },
    {
     "data": {
      "image/png": "[encoded data removed]",
      "text/plain": [
       "<Figure size 432x288 with 1 Axes>"
      ]
     },
     "metadata": {
      "needs_background": "light"
     },
     "output_type": "display_data"
    }
   ],
   "source": [
    "for i in range(5):\n",
    "    print(\"\\n Traitement du cycle numéro\", str(i + 1))\n",
    "    isolation_forest_on_points(dict_df_cycles_full[i], dict_df_outliers[i])"
   ]
  },
  {
   "cell_type": "markdown",
   "id": "b461873b-a862-43cd-bc02-71d831abe679",
   "metadata": {},
   "source": [
    "Soit une grosse anomalie soit pleins de potentielles outliers donc que toute la fenetre l'est"
   ]
  },
  {
   "cell_type": "markdown",
   "id": "b34a74f3-3987-40ca-aef4-83b31de2d29f",
   "metadata": {},
   "source": [
    "# PCA + LOF"
   ]
  },
  {
   "cell_type": "markdown",
   "id": "90823117-b197-49c6-b954-98f0c92d95ea",
   "metadata": {},
   "source": [
    "Pouruqoi on la fait, je sais pas, trop de variables sans doute ?"
   ]
  },
  {
   "cell_type": "markdown",
   "id": "68fbbec0-d121-4e87-9e19-6f98db9d5aee",
   "metadata": {
    "tags": []
   },
   "source": [
    "On met toutes les avriables entre 0 et 1"
   ]
  },
  {
   "cell_type": "code",
   "execution_count": 10,
   "id": "5959e56c-a79d-4c44-904f-9b73deabf5b5",
   "metadata": {},
   "outputs": [],
   "source": [
    "def pca_lof(df_cycle_1, outliers_cycle_1):\n",
    "\n",
    "    scaler = MinMaxScaler()\n",
    "    df_scaled = pd.DataFrame(\n",
    "        scaler.fit_transform(df_cycle_1), columns=df_cycle_1.columns\n",
    "    )\n",
    "\n",
    "    pca = PCA()\n",
    "    pca.fit(df_scaled)\n",
    "    kep = np.sum(1 - (np.cumsum(pca.explained_variance_ratio_) > 0.95))\n",
    "    print(\"Nomnbre de variables gardées dans la pca : \", kep)\n",
    "    pca = PCA(n_components=kep)\n",
    "    df_pcaed = pd.DataFrame(pca.fit_transform(df_scaled))\n",
    "\n",
    "    temp = df_pcaed.select_dtypes(exclude=[\"object\"])\n",
    "\n",
    "    clf = LocalOutlierFactor(n_neighbors=5, contamination=0.15, novelty=True)\n",
    "    clf.fit(temp.values)\n",
    "\n",
    "    print(\n",
    "        \"Histogramme des scores donnés par le LOF, les anomalies sont les scores négatids\"\n",
    "    )\n",
    "    sns.histplot(clf.decision_function(temp.values))\n",
    "    plt.show()\n",
    "\n",
    "    outliers_cycle_1[\"LOF\"] = np.where(clf.decision_function(temp.values) > 0, 0, 1)"
   ]
  },
  {
   "cell_type": "markdown",
   "id": "664fbc93-bd8b-436b-b936-e99904df519e",
   "metadata": {},
   "source": [
    "On décide de garder les variables permettant d'expliquer 95% de la variance, c'est un choix"
   ]
  },
  {
   "cell_type": "markdown",
   "id": "38c12984-ef8e-404e-89aa-0e890f28b21f",
   "metadata": {},
   "source": [
    "On applique la PCA"
   ]
  },
  {
   "cell_type": "markdown",
   "id": "39a45fde-0c80-4275-a3ae-76952f64f600",
   "metadata": {},
   "source": [
    "On fait avec PCA, car ça à l'air de donner de meillerus résultats, je sais pas pourquoi, curse of dimensionnality peut être ?"
   ]
  },
  {
   "cell_type": "code",
   "execution_count": 11,
   "id": "6e2df154-8633-4d04-9a05-b6f75b312bed",
   "metadata": {},
   "outputs": [
    {
     "name": "stdout",
     "output_type": "stream",
     "text": [
      "\n",
      " Traitement du cycle numéro 1\n",
      "Nomnbre de variables gardées dans la pca :  197\n",
      "Histogramme des scores donnés par le LOF, les anomalies sont les scores négatids\n"
     ]
    },
    {
     "data": {
      "image/png": "[encoded data removed]",
      "text/plain": [
       "<Figure size 432x288 with 1 Axes>"
      ]
     },
     "metadata": {
      "needs_background": "light"
     },
     "output_type": "display_data"
    },
    {
     "name": "stdout",
     "output_type": "stream",
     "text": [
      "\n",
      " Traitement du cycle numéro 2\n",
      "Nomnbre de variables gardées dans la pca :  206\n",
      "Histogramme des scores donnés par le LOF, les anomalies sont les scores négatids\n"
     ]
    },
    {
     "data": {
      "image/png": "[encoded data removed]",
      "text/plain": [
       "<Figure size 432x288 with 1 Axes>"
      ]
     },
     "metadata": {
      "needs_background": "light"
     },
     "output_type": "display_data"
    },
    {
     "name": "stdout",
     "output_type": "stream",
     "text": [
      "\n",
      " Traitement du cycle numéro 3\n",
      "Nomnbre de variables gardées dans la pca :  174\n",
      "Histogramme des scores donnés par le LOF, les anomalies sont les scores négatids\n"
     ]
    },
    {
     "data": {
      "image/png": "[encoded data removed]",
      "text/plain": [
       "<Figure size 432x288 with 1 Axes>"
      ]
     },
     "metadata": {
      "needs_background": "light"
     },
     "output_type": "display_data"
    },
    {
     "name": "stdout",
     "output_type": "stream",
     "text": [
      "\n",
      " Traitement du cycle numéro 4\n",
      "Nomnbre de variables gardées dans la pca :  95\n",
      "Histogramme des scores donnés par le LOF, les anomalies sont les scores négatids\n"
     ]
    },
    {
     "data": {
      "image/png": "[encoded data removed]",
      "text/plain": [
       "<Figure size 432x288 with 1 Axes>"
      ]
     },
     "metadata": {
      "needs_background": "light"
     },
     "output_type": "display_data"
    },
    {
     "name": "stdout",
     "output_type": "stream",
     "text": [
      "\n",
      " Traitement du cycle numéro 5\n",
      "Nomnbre de variables gardées dans la pca :  44\n",
      "Histogramme des scores donnés par le LOF, les anomalies sont les scores négatids\n"
     ]
    },
    {
     "data": {
      "image/png": "[encoded data removed]",
      "text/plain": [
       "<Figure size 432x288 with 1 Axes>"
      ]
     },
     "metadata": {
      "needs_background": "light"
     },
     "output_type": "display_data"
    }
   ],
   "source": [
    "for i in range(5):\n",
    "    print(\"\\n Traitement du cycle numéro\", str(i + 1))\n",
    "    pca_lof(dict_df_cycles[i], dict_df_outliers[i])"
   ]
  },
  {
   "cell_type": "markdown",
   "id": "85ce9d43-2aba-4821-8350-d4ad8ba8887a",
   "metadata": {},
   "source": [
    "# Raw data and Isolation Forest"
   ]
  },
  {
   "cell_type": "markdown",
   "id": "8e2cb94e-fddb-4fb9-8807-06a06f5a8785",
   "metadata": {},
   "source": [
    "Isolation forest sur les données tsfresh"
   ]
  },
  {
   "cell_type": "code",
   "execution_count": 14,
   "id": "7a7fb06c-24ba-459f-b18e-9081185e9e18",
   "metadata": {},
   "outputs": [],
   "source": [
    "def raw_IF(df_cycle_1, outliers_cycle_1):\n",
    "    df_cycle = df_cycle_1.copy()\n",
    "    iforest = IsolationForest(random_state=2, max_features=10)\n",
    "    pred = iforest.fit_predict(df_cycle_1)\n",
    "    df_cycle[\"scores\"] = iforest.decision_function(df_cycle_1)\n",
    "    df_cycle[\"anomaly_label\"] = pred\n",
    "\n",
    "    df_cycle[\"anomaly\"] = df_cycle[\"anomaly_label\"].apply(\n",
    "        lambda x: \"outlier\" if x == -1 else \"inlier\"\n",
    "    )\n",
    "    fig = sns.histplot(data=df_cycle, x=\"scores\", hue=\"anomaly\")\n",
    "    plt.show()\n",
    "    df_cycle.drop(columns=[\"anomaly\"], inplace=True)\n",
    "\n",
    "    outliers_cycle_1[\"RF\"] = np.where(df_cycle[\"scores\"] > 0, 0, 1)"
   ]
  },
  {
   "cell_type": "code",
   "execution_count": 15,
   "id": "d9f3cd4a-5a48-48b8-b611-cc2d1816673d",
   "metadata": {},
   "outputs": [
    {
     "name": "stdout",
     "output_type": "stream",
     "text": [
      "\n",
      " Traitement du cycle numéro 1\n"
     ]
    },
    {
     "data": {
      "image/png": "[encoded data removed]",
      "text/plain": [
       "<Figure size 432x288 with 1 Axes>"
      ]
     },
     "metadata": {
      "needs_background": "light"
     },
     "output_type": "display_data"
    },
    {
     "name": "stdout",
     "output_type": "stream",
     "text": [
      "\n",
      " Traitement du cycle numéro 2\n"
     ]
    },
    {
     "data": {
      "image/png": "[encoded data removed]",
      "text/plain": [
       "<Figure size 432x288 with 1 Axes>"
      ]
     },
     "metadata": {
      "needs_background": "light"
     },
     "output_type": "display_data"
    },
    {
     "name": "stdout",
     "output_type": "stream",
     "text": [
      "\n",
      " Traitement du cycle numéro 3\n"
     ]
    },
    {
     "data": {
      "image/png": "[encoded data removed]",
      "text/plain": [
       "<Figure size 432x288 with 1 Axes>"
      ]
     },
     "metadata": {
      "needs_background": "light"
     },
     "output_type": "display_data"
    },
    {
     "name": "stdout",
     "output_type": "stream",
     "text": [
      "\n",
      " Traitement du cycle numéro 4\n"
     ]
    },
    {
     "data": {
      "image/png": "[encoded data removed]",
      "text/plain": [
       "<Figure size 432x288 with 1 Axes>"
      ]
     },
     "metadata": {
      "needs_background": "light"
     },
     "output_type": "display_data"
    },
    {
     "name": "stdout",
     "output_type": "stream",
     "text": [
      "\n",
      " Traitement du cycle numéro 5\n"
     ]
    },
    {
     "data": {
      "image/png": "[encoded data removed]",
      "text/plain": [
       "<Figure size 432x288 with 1 Axes>"
      ]
     },
     "metadata": {
      "needs_background": "light"
     },
     "output_type": "display_data"
    }
   ],
   "source": [
    "for i in range(5):\n",
    "    print(\"\\n Traitement du cycle numéro\", str(i + 1))\n",
    "    raw_IF(dict_df_cycles[i], dict_df_outliers[i])"
   ]
  },
  {
   "cell_type": "markdown",
   "id": "dd233b46-04ef-4d4d-9195-6cfeed12fb4c",
   "metadata": {},
   "source": [
    "# MAD"
   ]
  },
  {
   "cell_type": "markdown",
   "id": "58440a68-b959-4059-91da-1ac3c026fb4a",
   "metadata": {},
   "source": [
    "Ici truc un peu novateur, on s'intéresse aux écart à la médiane pour chaque variable(plus robuste aux outliers). On normalise ensuite ces écarts sur chaque variable. On somme ensuite ces écarts pour cahque individus. On peut ensuite visualiser sur l'histogramme leur répartition. Nous avons observé qu'une limite entre des potentielles outliers et le groupe central de la distributiuon centré autour de 0 est un écart type. Donc on considère comme outlier tout individus donc la somme des écarts à la médiane centré réduits est supérieur à l'écart type de la distribution"
   ]
  },
  {
   "cell_type": "code",
   "execution_count": 16,
   "id": "3be15126-6dac-42ff-8c3e-ba81f7fb7784",
   "metadata": {},
   "outputs": [],
   "source": [
    "def mad(df_cycle_1, outliers_cycle_1):\n",
    "    non_binary = df_cycle_1.apply(lambda x: x.nunique()) > 5\n",
    "    col_intersting = non_binary[non_binary == True].drop([\"window\"])\n",
    "    df_cycle_1_mad = df_cycle_1[col_intersting.index]\n",
    "\n",
    "    def MAD(col):\n",
    "        med = col.median()\n",
    "        mad = (col - med).abs().median()\n",
    "\n",
    "        anomalies = col - med\n",
    "        return anomalies.copy()\n",
    "\n",
    "    mad = df_cycle_1_mad.apply(MAD)\n",
    "    normalized_mad = (mad - mad.mean()) / mad.std()\n",
    "    temp = normalized_mad.sum(axis=1)\n",
    "    anomalie = (\n",
    "        temp - temp.std()\n",
    "    )  # Mets la cassure entre anomalies et pas anomalies à zéro\n",
    "\n",
    "    print(\"Les anomalies se situent à droite du trait rouge\")\n",
    "    sns.histplot(anomalie)\n",
    "    plt.axvline(x=0, color=\"r\")\n",
    "    plt.show()\n",
    "\n",
    "    outliers_cycle_1[\"MAD\"] = np.where(anomalie < 0, 0, 1)"
   ]
  },
  {
   "cell_type": "code",
   "execution_count": 17,
   "id": "0cc18d1a-d4b9-4abe-b9e5-a16c8e34c063",
   "metadata": {},
   "outputs": [
    {
     "name": "stdout",
     "output_type": "stream",
     "text": [
      "\n",
      " Traitement du cycle numéro 1\n",
      "Les anomalies se situent à droite du trait rouge\n"
     ]
    },
    {
     "data": {
      "image/png": "[encoded data removed]",
      "text/plain": [
       "<Figure size 432x288 with 1 Axes>"
      ]
     },
     "metadata": {
      "needs_background": "light"
     },
     "output_type": "display_data"
    },
    {
     "name": "stdout",
     "output_type": "stream",
     "text": [
      "\n",
      " Traitement du cycle numéro 2\n",
      "Les anomalies se situent à droite du trait rouge\n"
     ]
    },
    {
     "data": {
      "image/png": "[encoded data removed]",
      "text/plain": [
       "<Figure size 432x288 with 1 Axes>"
      ]
     },
     "metadata": {
      "needs_background": "light"
     },
     "output_type": "display_data"
    },
    {
     "name": "stdout",
     "output_type": "stream",
     "text": [
      "\n",
      " Traitement du cycle numéro 3\n",
      "Les anomalies se situent à droite du trait rouge\n"
     ]
    },
    {
     "data": {
      "image/png": "[encoded data removed]",
      "text/plain": [
       "<Figure size 432x288 with 1 Axes>"
      ]
     },
     "metadata": {
      "needs_background": "light"
     },
     "output_type": "display_data"
    },
    {
     "name": "stdout",
     "output_type": "stream",
     "text": [
      "\n",
      " Traitement du cycle numéro 4\n",
      "Les anomalies se situent à droite du trait rouge\n"
     ]
    },
    {
     "data": {
      "image/png": "[encoded data removed]",
      "text/plain": [
       "<Figure size 432x288 with 1 Axes>"
      ]
     },
     "metadata": {
      "needs_background": "light"
     },
     "output_type": "display_data"
    },
    {
     "name": "stdout",
     "output_type": "stream",
     "text": [
      "\n",
      " Traitement du cycle numéro 5\n",
      "Les anomalies se situent à droite du trait rouge\n"
     ]
    },
    {
     "data": {
      "image/png": "[encoded data removed]",
      "text/plain": [
       "<Figure size 432x288 with 1 Axes>"
      ]
     },
     "metadata": {
      "needs_background": "light"
     },
     "output_type": "display_data"
    }
   ],
   "source": [
    "for i in range(5):\n",
    "    print(\"\\n Traitement du cycle numéro\", str(i + 1))\n",
    "    mad(dict_df_cycles[i], dict_df_outliers[i])"
   ]
  },
  {
   "cell_type": "markdown",
   "id": "75b509cb-4e14-486c-a81b-fc606aba3872",
   "metadata": {},
   "source": [
    "# Résultats"
   ]
  },
  {
   "cell_type": "code",
   "execution_count": 18,
   "id": "af81549f-d8d2-4460-887d-a42d17feb7b4",
   "metadata": {},
   "outputs": [],
   "source": [
    "results = pd.concat([dict_df_outliers[i] for i in range(5)])"
   ]
  },
  {
   "cell_type": "code",
   "execution_count": 26,
   "id": "95d4fcee-83d2-4430-b615-500c1d30b9fa",
   "metadata": {},
   "outputs": [
    {
     "data": {
      "text/plain": [
       "Index(['1_1_1', '1_1_2', '1_1_3', '1_1_4', '1_1_5', '1_1_6', '1_1_62',\n",
       "       '1_1_68', '2_1_1', '2_1_126',\n",
       "       ...\n",
       "       '1_5_64', '1_5_65', '1_5_66', '1_5_67', '1_5_68', '1_5_69', '1_5_70',\n",
       "       '1_5_92', '1_5_93', '1_5_94'],\n",
       "      dtype='object', name='index', length=121)"
      ]
     },
     "execution_count": 26,
     "metadata": {},
     "output_type": "execute_result"
    }
   ],
   "source": [
    "windows_anomalies = results[results.sum(axis=1) > 1].index\n",
    "windows_anomalies"
   ]
  },
  {
   "cell_type": "code",
   "execution_count": null,
   "id": "6ffa50f6-b410-4f8c-ad53-91046898173b",
   "metadata": {},
   "outputs": [],
   "source": [
    "len(windows_anomalies)"
   ]
  },
  {
   "cell_type": "code",
   "execution_count": 19,
   "id": "dc3d0c68-4b46-42e8-b5c5-c149263f3125",
   "metadata": {},
   "outputs": [
    {
     "data": {
      "text/plain": [
       "0.07391569945021381"
      ]
     },
     "execution_count": 19,
     "metadata": {},
     "output_type": "execute_result"
    }
   ],
   "source": [
    "np.mean(results.sum(axis=1) > 1)"
   ]
  },
  {
   "cell_type": "code",
   "execution_count": 20,
   "id": "0416707d-3102-43d9-ac55-3d828407aa13",
   "metadata": {},
   "outputs": [
    {
     "data": {
      "text/html": [
       "<div>\n",
       "<style scoped>\n",
       "    .dataframe tbody tr th:only-of-type {\n",
       "        vertical-align: middle;\n",
       "    }\n",
       "\n",
       "    .dataframe tbody tr th {\n",
       "        vertical-align: top;\n",
       "    }\n",
       "\n",
       "    .dataframe thead th {\n",
       "        text-align: right;\n",
       "    }\n",
       "</style>\n",
       "<table border=\"1\" class=\"dataframe\">\n",
       "  <thead>\n",
       "    <tr style=\"text-align: right;\">\n",
       "      <th></th>\n",
       "      <th>RF_on_points</th>\n",
       "      <th>LOF</th>\n",
       "      <th>RF</th>\n",
       "      <th>MAD</th>\n",
       "    </tr>\n",
       "    <tr>\n",
       "      <th>index</th>\n",
       "      <th></th>\n",
       "      <th></th>\n",
       "      <th></th>\n",
       "      <th></th>\n",
       "    </tr>\n",
       "  </thead>\n",
       "  <tbody>\n",
       "    <tr>\n",
       "      <th>1_1_1</th>\n",
       "      <td>1</td>\n",
       "      <td>1</td>\n",
       "      <td>1</td>\n",
       "      <td>1</td>\n",
       "    </tr>\n",
       "    <tr>\n",
       "      <th>1_1_10</th>\n",
       "      <td>0</td>\n",
       "      <td>0</td>\n",
       "      <td>0</td>\n",
       "      <td>0</td>\n",
       "    </tr>\n",
       "    <tr>\n",
       "      <th>1_1_11</th>\n",
       "      <td>0</td>\n",
       "      <td>0</td>\n",
       "      <td>0</td>\n",
       "      <td>0</td>\n",
       "    </tr>\n",
       "    <tr>\n",
       "      <th>1_1_12</th>\n",
       "      <td>0</td>\n",
       "      <td>0</td>\n",
       "      <td>0</td>\n",
       "      <td>0</td>\n",
       "    </tr>\n",
       "    <tr>\n",
       "      <th>1_1_13</th>\n",
       "      <td>0</td>\n",
       "      <td>0</td>\n",
       "      <td>0</td>\n",
       "      <td>0</td>\n",
       "    </tr>\n",
       "    <tr>\n",
       "      <th>...</th>\n",
       "      <td>...</td>\n",
       "      <td>...</td>\n",
       "      <td>...</td>\n",
       "      <td>...</td>\n",
       "    </tr>\n",
       "    <tr>\n",
       "      <th>1_5_90</th>\n",
       "      <td>0</td>\n",
       "      <td>0</td>\n",
       "      <td>0</td>\n",
       "      <td>0</td>\n",
       "    </tr>\n",
       "    <tr>\n",
       "      <th>1_5_91</th>\n",
       "      <td>0</td>\n",
       "      <td>0</td>\n",
       "      <td>0</td>\n",
       "      <td>0</td>\n",
       "    </tr>\n",
       "    <tr>\n",
       "      <th>1_5_92</th>\n",
       "      <td>0</td>\n",
       "      <td>1</td>\n",
       "      <td>1</td>\n",
       "      <td>0</td>\n",
       "    </tr>\n",
       "    <tr>\n",
       "      <th>1_5_93</th>\n",
       "      <td>1</td>\n",
       "      <td>1</td>\n",
       "      <td>1</td>\n",
       "      <td>1</td>\n",
       "    </tr>\n",
       "    <tr>\n",
       "      <th>1_5_94</th>\n",
       "      <td>1</td>\n",
       "      <td>1</td>\n",
       "      <td>1</td>\n",
       "      <td>1</td>\n",
       "    </tr>\n",
       "  </tbody>\n",
       "</table>\n",
       "<p>1637 rows × 4 columns</p>\n",
       "</div>"
      ],
      "text/plain": [
       "        RF_on_points  LOF  RF  MAD\n",
       "index                             \n",
       "1_1_1              1    1   1    1\n",
       "1_1_10             0    0   0    0\n",
       "1_1_11             0    0   0    0\n",
       "1_1_12             0    0   0    0\n",
       "1_1_13             0    0   0    0\n",
       "...              ...  ...  ..  ...\n",
       "1_5_90             0    0   0    0\n",
       "1_5_91             0    0   0    0\n",
       "1_5_92             0    1   1    0\n",
       "1_5_93             1    1   1    1\n",
       "1_5_94             1    1   1    1\n",
       "\n",
       "[1637 rows x 4 columns]"
      ]
     },
     "execution_count": 20,
     "metadata": {},
     "output_type": "execute_result"
    }
   ],
   "source": [
    "results"
   ]
  },
  {
   "cell_type": "markdown",
   "id": "204df667-dd41-41aa-b5a5-5ac52c878e4b",
   "metadata": {},
   "source": [
    "Peutêtre en tracer quelques une qui sont bient des anomalies "
   ]
  },
  {
   "cell_type": "code",
   "execution_count": null,
   "id": "d11dbc5d-a8e0-4796-afeb-64fa8612adf3",
   "metadata": {},
   "outputs": [],
   "source": []
  }
 ],
 "metadata": {
  "kernelspec": {
   "display_name": "Python 3 (ipykernel)",
   "language": "python",
   "name": "python3"
  },
  "language_info": {
   "codemirror_mode": {
    "name": "ipython",
    "version": 3
   },
   "file_extension": ".py",
   "mimetype": "text/x-python",
   "name": "python",
   "nbconvert_exporter": "python",
   "pygments_lexer": "ipython3",
   "version": "3.8.12"
  }
 },
 "nbformat": 4,
 "nbformat_minor": 5
}

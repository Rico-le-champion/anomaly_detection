{
 "cells": [
  {
   "cell_type": "markdown",
   "id": "dce5692e",
   "metadata": {},
   "source": [
    "# Import libraries"
   ]
  },
  {
   "cell_type": "code",
   "execution_count": 23,
   "id": "7642b579",
   "metadata": {},
   "outputs": [],
   "source": [
    "import pandas as pd\n",
    "import numpy as np\n",
    "import matplotlib.pyplot as plt\n",
    "import seaborn as sns\n",
    "from sklearn.ensemble import IsolationForest"
   ]
  },
  {
   "cell_type": "markdown",
   "id": "006246eb",
   "metadata": {},
   "source": [
    "# Load data"
   ]
  },
  {
   "cell_type": "code",
   "execution_count": 3,
   "id": "d086f4d1",
   "metadata": {},
   "outputs": [],
   "source": [
    "data = pd.read_csv(\"../../data_anomaly/tsfreshfeatures.csv\")"
   ]
  },
  {
   "cell_type": "code",
   "execution_count": 4,
   "id": "cc910700",
   "metadata": {},
   "outputs": [],
   "source": [
    "data.rename(columns={\"Unnamed: 0\": \"index\"}, inplace=True)"
   ]
  },
  {
   "cell_type": "code",
   "execution_count": 5,
   "id": "7bb3af6b",
   "metadata": {},
   "outputs": [],
   "source": [
    "data.set_index(\"index\", inplace=True)"
   ]
  },
  {
   "cell_type": "markdown",
   "id": "6e478563",
   "metadata": {},
   "source": [
    "# Data pré-processing"
   ]
  },
  {
   "cell_type": "markdown",
   "id": "698daec7",
   "metadata": {},
   "source": [
    "## Removing empty columns"
   ]
  },
  {
   "cell_type": "code",
   "execution_count": 6,
   "id": "263242ba",
   "metadata": {},
   "outputs": [],
   "source": [
    "cols = data.isna().mean() != 0"
   ]
  },
  {
   "cell_type": "code",
   "execution_count": 7,
   "id": "8c589228",
   "metadata": {},
   "outputs": [],
   "source": [
    "nan_cols = cols[cols == True].index"
   ]
  },
  {
   "cell_type": "code",
   "execution_count": 8,
   "id": "3e0942da",
   "metadata": {},
   "outputs": [],
   "source": [
    "empty_col = data[nan_cols].isna().mean() == 1"
   ]
  },
  {
   "cell_type": "code",
   "execution_count": 9,
   "id": "abbc422d",
   "metadata": {},
   "outputs": [],
   "source": [
    "data.drop(columns=empty_col[empty_col == True].index.tolist(), inplace=True)"
   ]
  },
  {
   "cell_type": "markdown",
   "id": "840ef950",
   "metadata": {},
   "source": [
    "## Removing constant columns"
   ]
  },
  {
   "cell_type": "code",
   "execution_count": 10,
   "id": "0507de03",
   "metadata": {},
   "outputs": [
    {
     "data": {
      "text/plain": [
       "(1637, 8113)"
      ]
     },
     "execution_count": 10,
     "metadata": {},
     "output_type": "execute_result"
    }
   ],
   "source": [
    "data.shape"
   ]
  },
  {
   "cell_type": "code",
   "execution_count": 11,
   "id": "1dde527b",
   "metadata": {},
   "outputs": [],
   "source": [
    "data = data.loc[:, (data != data.iloc[0]).any()]"
   ]
  },
  {
   "cell_type": "code",
   "execution_count": 12,
   "id": "812c057a",
   "metadata": {},
   "outputs": [
    {
     "data": {
      "text/plain": [
       "(1637, 7501)"
      ]
     },
     "execution_count": 12,
     "metadata": {},
     "output_type": "execute_result"
    }
   ],
   "source": [
    "data.shape"
   ]
  },
  {
   "cell_type": "markdown",
   "id": "110a5c95",
   "metadata": {},
   "source": [
    "## Remove last nans"
   ]
  },
  {
   "cell_type": "code",
   "execution_count": 14,
   "id": "ff3dde18",
   "metadata": {},
   "outputs": [],
   "source": [
    "test = data.replace([np.inf, -np.inf], np.nan)\n",
    "data_cleaned = test.dropna(axis=1)"
   ]
  },
  {
   "cell_type": "code",
   "execution_count": null,
   "id": "67ce6f91-f04c-48a9-ae56-02086c16f161",
   "metadata": {},
   "outputs": [],
   "source": []
  },
  {
   "cell_type": "code",
   "execution_count": 16,
   "id": "a3ade9ae-37ea-4ee2-a546-3fd3bc0e3614",
   "metadata": {},
   "outputs": [],
   "source": [
    "data_cleaned = data_cleaned[data_cleaned.columns.drop(list(data_cleaned.filter(regex='day')))]"
   ]
  },
  {
   "cell_type": "code",
   "execution_count": 17,
   "id": "8d5849ac-935e-4d27-9a9c-d6581ce39525",
   "metadata": {},
   "outputs": [],
   "source": [
    "data_cleaned = data_cleaned[data_cleaned.columns.drop(list(data_cleaned.filter(regex='cycle')))]"
   ]
  },
  {
   "cell_type": "code",
   "execution_count": 18,
   "id": "ad565777-4a1c-427a-b098-b68f7f1925da",
   "metadata": {},
   "outputs": [],
   "source": [
    "data_cleaned = data_cleaned[data_cleaned.columns.drop(list(data_cleaned.filter(regex='window')))]"
   ]
  },
  {
   "cell_type": "code",
   "execution_count": 19,
   "id": "96197fcb-8afe-452d-bf3a-39ce359f4e14",
   "metadata": {},
   "outputs": [
    {
     "data": {
      "text/plain": [
       "(1637, 2428)"
      ]
     },
     "execution_count": 19,
     "metadata": {},
     "output_type": "execute_result"
    }
   ],
   "source": [
    "data_cleaned.shape"
   ]
  },
  {
   "cell_type": "markdown",
   "id": "893ba726",
   "metadata": {},
   "source": [
    "# Détection d'anomalies"
   ]
  },
  {
   "cell_type": "code",
   "execution_count": 20,
   "id": "a6321ffc",
   "metadata": {},
   "outputs": [],
   "source": [
    "iforest = IsolationForest(\n",
    "    n_estimators=100,\n",
    "    max_samples=\"auto\",\n",
    "    contamination=0.05,\n",
    "    max_features=4,\n",
    "    bootstrap=False,\n",
    "    n_jobs=-1,\n",
    "    random_state=1,\n",
    ")"
   ]
  },
  {
   "cell_type": "code",
   "execution_count": 21,
   "id": "584beeac",
   "metadata": {},
   "outputs": [
    {
     "name": "stderr",
     "output_type": "stream",
     "text": [
      "/home/rico/miniconda3/envs/AML/lib/python3.8/site-packages/sklearn/base.py:445: UserWarning: X does not have valid feature names, but IsolationForest was fitted with feature names\n",
      "  warnings.warn(\n"
     ]
    }
   ],
   "source": [
    "pred = iforest.fit_predict(data_cleaned)\n",
    "data_cleaned[\"scores\"] = iforest.decision_function(data_cleaned)\n",
    "data_cleaned[\"anomaly_label\"] = pred"
   ]
  },
  {
   "cell_type": "code",
   "execution_count": 22,
   "id": "643a5d74",
   "metadata": {},
   "outputs": [
    {
     "data": {
      "text/html": [
       "<div>\n",
       "<style scoped>\n",
       "    .dataframe tbody tr th:only-of-type {\n",
       "        vertical-align: middle;\n",
       "    }\n",
       "\n",
       "    .dataframe tbody tr th {\n",
       "        vertical-align: top;\n",
       "    }\n",
       "\n",
       "    .dataframe thead th {\n",
       "        text-align: right;\n",
       "    }\n",
       "</style>\n",
       "<table border=\"1\" class=\"dataframe\">\n",
       "  <thead>\n",
       "    <tr style=\"text-align: right;\">\n",
       "      <th></th>\n",
       "      <th>p1__variance_larger_than_standard_deviation</th>\n",
       "      <th>p1__has_duplicate_max</th>\n",
       "      <th>p1__has_duplicate_min</th>\n",
       "      <th>p1__has_duplicate</th>\n",
       "      <th>p1__sum_values</th>\n",
       "      <th>p1__abs_energy</th>\n",
       "      <th>p1__mean_abs_change</th>\n",
       "      <th>p1__mean_change</th>\n",
       "      <th>p1__median</th>\n",
       "      <th>p1__mean</th>\n",
       "      <th>...</th>\n",
       "      <th>p11__ratio_beyond_r_sigma__r_7</th>\n",
       "      <th>p11__count_above__t_0</th>\n",
       "      <th>p11__count_below__t_0</th>\n",
       "      <th>p11__lempel_ziv_complexity__bins_2</th>\n",
       "      <th>p11__lempel_ziv_complexity__bins_3</th>\n",
       "      <th>p11__lempel_ziv_complexity__bins_5</th>\n",
       "      <th>p11__lempel_ziv_complexity__bins_10</th>\n",
       "      <th>p11__lempel_ziv_complexity__bins_100</th>\n",
       "      <th>scores</th>\n",
       "      <th>anomaly_label</th>\n",
       "    </tr>\n",
       "    <tr>\n",
       "      <th>index</th>\n",
       "      <th></th>\n",
       "      <th></th>\n",
       "      <th></th>\n",
       "      <th></th>\n",
       "      <th></th>\n",
       "      <th></th>\n",
       "      <th></th>\n",
       "      <th></th>\n",
       "      <th></th>\n",
       "      <th></th>\n",
       "      <th></th>\n",
       "      <th></th>\n",
       "      <th></th>\n",
       "      <th></th>\n",
       "      <th></th>\n",
       "      <th></th>\n",
       "      <th></th>\n",
       "      <th></th>\n",
       "      <th></th>\n",
       "      <th></th>\n",
       "      <th></th>\n",
       "    </tr>\n",
       "  </thead>\n",
       "  <tbody>\n",
       "    <tr>\n",
       "      <th>1_1_1</th>\n",
       "      <td>0.0</td>\n",
       "      <td>1.0</td>\n",
       "      <td>0.0</td>\n",
       "      <td>1.0</td>\n",
       "      <td>-192.614108</td>\n",
       "      <td>405.598886</td>\n",
       "      <td>0.068423</td>\n",
       "      <td>-0.010094</td>\n",
       "      <td>-1.849016</td>\n",
       "      <td>-1.926141</td>\n",
       "      <td>...</td>\n",
       "      <td>0.0</td>\n",
       "      <td>0.000000</td>\n",
       "      <td>1.000000</td>\n",
       "      <td>0.170000</td>\n",
       "      <td>0.250000</td>\n",
       "      <td>0.290000</td>\n",
       "      <td>0.390000</td>\n",
       "      <td>0.570000</td>\n",
       "      <td>-0.072778</td>\n",
       "      <td>-1</td>\n",
       "    </tr>\n",
       "    <tr>\n",
       "      <th>1_1_3</th>\n",
       "      <td>0.0</td>\n",
       "      <td>1.0</td>\n",
       "      <td>0.0</td>\n",
       "      <td>1.0</td>\n",
       "      <td>-153.435714</td>\n",
       "      <td>256.272205</td>\n",
       "      <td>0.053100</td>\n",
       "      <td>-0.009498</td>\n",
       "      <td>-1.448777</td>\n",
       "      <td>-1.534357</td>\n",
       "      <td>...</td>\n",
       "      <td>0.0</td>\n",
       "      <td>0.000000</td>\n",
       "      <td>1.000000</td>\n",
       "      <td>0.130000</td>\n",
       "      <td>0.200000</td>\n",
       "      <td>0.270000</td>\n",
       "      <td>0.400000</td>\n",
       "      <td>0.620000</td>\n",
       "      <td>-0.019914</td>\n",
       "      <td>-1</td>\n",
       "    </tr>\n",
       "    <tr>\n",
       "      <th>1_1_5</th>\n",
       "      <td>0.0</td>\n",
       "      <td>1.0</td>\n",
       "      <td>1.0</td>\n",
       "      <td>1.0</td>\n",
       "      <td>-73.271465</td>\n",
       "      <td>68.510674</td>\n",
       "      <td>0.033989</td>\n",
       "      <td>0.013662</td>\n",
       "      <td>-0.874543</td>\n",
       "      <td>-0.732715</td>\n",
       "      <td>...</td>\n",
       "      <td>0.0</td>\n",
       "      <td>0.000000</td>\n",
       "      <td>1.000000</td>\n",
       "      <td>0.160000</td>\n",
       "      <td>0.220000</td>\n",
       "      <td>0.270000</td>\n",
       "      <td>0.340000</td>\n",
       "      <td>0.550000</td>\n",
       "      <td>-0.033595</td>\n",
       "      <td>-1</td>\n",
       "    </tr>\n",
       "    <tr>\n",
       "      <th>1_1_62</th>\n",
       "      <td>1.0</td>\n",
       "      <td>1.0</td>\n",
       "      <td>1.0</td>\n",
       "      <td>1.0</td>\n",
       "      <td>33.639019</td>\n",
       "      <td>130.093035</td>\n",
       "      <td>0.039117</td>\n",
       "      <td>-0.019964</td>\n",
       "      <td>0.011388</td>\n",
       "      <td>0.336390</td>\n",
       "      <td>...</td>\n",
       "      <td>0.0</td>\n",
       "      <td>0.420000</td>\n",
       "      <td>0.580000</td>\n",
       "      <td>0.160000</td>\n",
       "      <td>0.220000</td>\n",
       "      <td>0.280000</td>\n",
       "      <td>0.360000</td>\n",
       "      <td>0.550000</td>\n",
       "      <td>-0.038153</td>\n",
       "      <td>-1</td>\n",
       "    </tr>\n",
       "    <tr>\n",
       "      <th>1_1_68</th>\n",
       "      <td>1.0</td>\n",
       "      <td>0.0</td>\n",
       "      <td>1.0</td>\n",
       "      <td>1.0</td>\n",
       "      <td>-142.969225</td>\n",
       "      <td>367.268092</td>\n",
       "      <td>0.040963</td>\n",
       "      <td>0.040719</td>\n",
       "      <td>-1.528748</td>\n",
       "      <td>-1.906256</td>\n",
       "      <td>...</td>\n",
       "      <td>0.0</td>\n",
       "      <td>0.133333</td>\n",
       "      <td>0.866667</td>\n",
       "      <td>0.186667</td>\n",
       "      <td>0.240000</td>\n",
       "      <td>0.333333</td>\n",
       "      <td>0.360000</td>\n",
       "      <td>0.573333</td>\n",
       "      <td>-0.100211</td>\n",
       "      <td>-1</td>\n",
       "    </tr>\n",
       "    <tr>\n",
       "      <th>...</th>\n",
       "      <td>...</td>\n",
       "      <td>...</td>\n",
       "      <td>...</td>\n",
       "      <td>...</td>\n",
       "      <td>...</td>\n",
       "      <td>...</td>\n",
       "      <td>...</td>\n",
       "      <td>...</td>\n",
       "      <td>...</td>\n",
       "      <td>...</td>\n",
       "      <td>...</td>\n",
       "      <td>...</td>\n",
       "      <td>...</td>\n",
       "      <td>...</td>\n",
       "      <td>...</td>\n",
       "      <td>...</td>\n",
       "      <td>...</td>\n",
       "      <td>...</td>\n",
       "      <td>...</td>\n",
       "      <td>...</td>\n",
       "      <td>...</td>\n",
       "    </tr>\n",
       "    <tr>\n",
       "      <th>4_3_60</th>\n",
       "      <td>0.0</td>\n",
       "      <td>0.0</td>\n",
       "      <td>1.0</td>\n",
       "      <td>1.0</td>\n",
       "      <td>-70.595492</td>\n",
       "      <td>63.553967</td>\n",
       "      <td>0.020781</td>\n",
       "      <td>0.013343</td>\n",
       "      <td>-0.618099</td>\n",
       "      <td>-0.705955</td>\n",
       "      <td>...</td>\n",
       "      <td>0.0</td>\n",
       "      <td>1.000000</td>\n",
       "      <td>0.000000</td>\n",
       "      <td>0.180000</td>\n",
       "      <td>0.200000</td>\n",
       "      <td>0.270000</td>\n",
       "      <td>0.320000</td>\n",
       "      <td>0.490000</td>\n",
       "      <td>-0.007908</td>\n",
       "      <td>-1</td>\n",
       "    </tr>\n",
       "    <tr>\n",
       "      <th>4_3_61</th>\n",
       "      <td>0.0</td>\n",
       "      <td>0.0</td>\n",
       "      <td>1.0</td>\n",
       "      <td>1.0</td>\n",
       "      <td>-98.497577</td>\n",
       "      <td>116.810033</td>\n",
       "      <td>0.029819</td>\n",
       "      <td>-0.014069</td>\n",
       "      <td>-1.040702</td>\n",
       "      <td>-0.984976</td>\n",
       "      <td>...</td>\n",
       "      <td>0.0</td>\n",
       "      <td>1.000000</td>\n",
       "      <td>0.000000</td>\n",
       "      <td>0.170000</td>\n",
       "      <td>0.220000</td>\n",
       "      <td>0.310000</td>\n",
       "      <td>0.410000</td>\n",
       "      <td>0.590000</td>\n",
       "      <td>-0.037801</td>\n",
       "      <td>-1</td>\n",
       "    </tr>\n",
       "    <tr>\n",
       "      <th>4_3_63</th>\n",
       "      <td>0.0</td>\n",
       "      <td>1.0</td>\n",
       "      <td>1.0</td>\n",
       "      <td>1.0</td>\n",
       "      <td>-89.053723</td>\n",
       "      <td>127.656481</td>\n",
       "      <td>0.021805</td>\n",
       "      <td>0.018173</td>\n",
       "      <td>-1.225659</td>\n",
       "      <td>-0.890537</td>\n",
       "      <td>...</td>\n",
       "      <td>0.0</td>\n",
       "      <td>0.890000</td>\n",
       "      <td>0.110000</td>\n",
       "      <td>0.160000</td>\n",
       "      <td>0.210000</td>\n",
       "      <td>0.230000</td>\n",
       "      <td>0.290000</td>\n",
       "      <td>0.440000</td>\n",
       "      <td>-0.050739</td>\n",
       "      <td>-1</td>\n",
       "    </tr>\n",
       "    <tr>\n",
       "      <th>4_3_65</th>\n",
       "      <td>0.0</td>\n",
       "      <td>0.0</td>\n",
       "      <td>0.0</td>\n",
       "      <td>1.0</td>\n",
       "      <td>-12.722830</td>\n",
       "      <td>8.202225</td>\n",
       "      <td>0.032462</td>\n",
       "      <td>-0.032462</td>\n",
       "      <td>-0.599926</td>\n",
       "      <td>-0.578310</td>\n",
       "      <td>...</td>\n",
       "      <td>0.0</td>\n",
       "      <td>1.000000</td>\n",
       "      <td>0.000000</td>\n",
       "      <td>0.318182</td>\n",
       "      <td>0.409091</td>\n",
       "      <td>0.500000</td>\n",
       "      <td>0.545455</td>\n",
       "      <td>0.545455</td>\n",
       "      <td>-0.011141</td>\n",
       "      <td>-1</td>\n",
       "    </tr>\n",
       "    <tr>\n",
       "      <th>4_4_79</th>\n",
       "      <td>0.0</td>\n",
       "      <td>1.0</td>\n",
       "      <td>0.0</td>\n",
       "      <td>1.0</td>\n",
       "      <td>94.520997</td>\n",
       "      <td>131.617703</td>\n",
       "      <td>0.017954</td>\n",
       "      <td>-0.016735</td>\n",
       "      <td>0.838810</td>\n",
       "      <td>0.945210</td>\n",
       "      <td>...</td>\n",
       "      <td>0.0</td>\n",
       "      <td>1.000000</td>\n",
       "      <td>0.000000</td>\n",
       "      <td>0.140000</td>\n",
       "      <td>0.190000</td>\n",
       "      <td>0.270000</td>\n",
       "      <td>0.340000</td>\n",
       "      <td>0.560000</td>\n",
       "      <td>-0.005879</td>\n",
       "      <td>-1</td>\n",
       "    </tr>\n",
       "  </tbody>\n",
       "</table>\n",
       "<p>82 rows × 2430 columns</p>\n",
       "</div>"
      ],
      "text/plain": [
       "        p1__variance_larger_than_standard_deviation  p1__has_duplicate_max  \\\n",
       "index                                                                        \n",
       "1_1_1                                           0.0                    1.0   \n",
       "1_1_3                                           0.0                    1.0   \n",
       "1_1_5                                           0.0                    1.0   \n",
       "1_1_62                                          1.0                    1.0   \n",
       "1_1_68                                          1.0                    0.0   \n",
       "...                                             ...                    ...   \n",
       "4_3_60                                          0.0                    0.0   \n",
       "4_3_61                                          0.0                    0.0   \n",
       "4_3_63                                          0.0                    1.0   \n",
       "4_3_65                                          0.0                    0.0   \n",
       "4_4_79                                          0.0                    1.0   \n",
       "\n",
       "        p1__has_duplicate_min  p1__has_duplicate  p1__sum_values  \\\n",
       "index                                                              \n",
       "1_1_1                     0.0                1.0     -192.614108   \n",
       "1_1_3                     0.0                1.0     -153.435714   \n",
       "1_1_5                     1.0                1.0      -73.271465   \n",
       "1_1_62                    1.0                1.0       33.639019   \n",
       "1_1_68                    1.0                1.0     -142.969225   \n",
       "...                       ...                ...             ...   \n",
       "4_3_60                    1.0                1.0      -70.595492   \n",
       "4_3_61                    1.0                1.0      -98.497577   \n",
       "4_3_63                    1.0                1.0      -89.053723   \n",
       "4_3_65                    0.0                1.0      -12.722830   \n",
       "4_4_79                    0.0                1.0       94.520997   \n",
       "\n",
       "        p1__abs_energy  p1__mean_abs_change  p1__mean_change  p1__median  \\\n",
       "index                                                                      \n",
       "1_1_1       405.598886             0.068423        -0.010094   -1.849016   \n",
       "1_1_3       256.272205             0.053100        -0.009498   -1.448777   \n",
       "1_1_5        68.510674             0.033989         0.013662   -0.874543   \n",
       "1_1_62      130.093035             0.039117        -0.019964    0.011388   \n",
       "1_1_68      367.268092             0.040963         0.040719   -1.528748   \n",
       "...                ...                  ...              ...         ...   \n",
       "4_3_60       63.553967             0.020781         0.013343   -0.618099   \n",
       "4_3_61      116.810033             0.029819        -0.014069   -1.040702   \n",
       "4_3_63      127.656481             0.021805         0.018173   -1.225659   \n",
       "4_3_65        8.202225             0.032462        -0.032462   -0.599926   \n",
       "4_4_79      131.617703             0.017954        -0.016735    0.838810   \n",
       "\n",
       "        p1__mean  ...  p11__ratio_beyond_r_sigma__r_7  p11__count_above__t_0  \\\n",
       "index             ...                                                          \n",
       "1_1_1  -1.926141  ...                             0.0               0.000000   \n",
       "1_1_3  -1.534357  ...                             0.0               0.000000   \n",
       "1_1_5  -0.732715  ...                             0.0               0.000000   \n",
       "1_1_62  0.336390  ...                             0.0               0.420000   \n",
       "1_1_68 -1.906256  ...                             0.0               0.133333   \n",
       "...          ...  ...                             ...                    ...   \n",
       "4_3_60 -0.705955  ...                             0.0               1.000000   \n",
       "4_3_61 -0.984976  ...                             0.0               1.000000   \n",
       "4_3_63 -0.890537  ...                             0.0               0.890000   \n",
       "4_3_65 -0.578310  ...                             0.0               1.000000   \n",
       "4_4_79  0.945210  ...                             0.0               1.000000   \n",
       "\n",
       "        p11__count_below__t_0  p11__lempel_ziv_complexity__bins_2  \\\n",
       "index                                                               \n",
       "1_1_1                1.000000                            0.170000   \n",
       "1_1_3                1.000000                            0.130000   \n",
       "1_1_5                1.000000                            0.160000   \n",
       "1_1_62               0.580000                            0.160000   \n",
       "1_1_68               0.866667                            0.186667   \n",
       "...                       ...                                 ...   \n",
       "4_3_60               0.000000                            0.180000   \n",
       "4_3_61               0.000000                            0.170000   \n",
       "4_3_63               0.110000                            0.160000   \n",
       "4_3_65               0.000000                            0.318182   \n",
       "4_4_79               0.000000                            0.140000   \n",
       "\n",
       "        p11__lempel_ziv_complexity__bins_3  \\\n",
       "index                                        \n",
       "1_1_1                             0.250000   \n",
       "1_1_3                             0.200000   \n",
       "1_1_5                             0.220000   \n",
       "1_1_62                            0.220000   \n",
       "1_1_68                            0.240000   \n",
       "...                                    ...   \n",
       "4_3_60                            0.200000   \n",
       "4_3_61                            0.220000   \n",
       "4_3_63                            0.210000   \n",
       "4_3_65                            0.409091   \n",
       "4_4_79                            0.190000   \n",
       "\n",
       "        p11__lempel_ziv_complexity__bins_5  \\\n",
       "index                                        \n",
       "1_1_1                             0.290000   \n",
       "1_1_3                             0.270000   \n",
       "1_1_5                             0.270000   \n",
       "1_1_62                            0.280000   \n",
       "1_1_68                            0.333333   \n",
       "...                                    ...   \n",
       "4_3_60                            0.270000   \n",
       "4_3_61                            0.310000   \n",
       "4_3_63                            0.230000   \n",
       "4_3_65                            0.500000   \n",
       "4_4_79                            0.270000   \n",
       "\n",
       "        p11__lempel_ziv_complexity__bins_10  \\\n",
       "index                                         \n",
       "1_1_1                              0.390000   \n",
       "1_1_3                              0.400000   \n",
       "1_1_5                              0.340000   \n",
       "1_1_62                             0.360000   \n",
       "1_1_68                             0.360000   \n",
       "...                                     ...   \n",
       "4_3_60                             0.320000   \n",
       "4_3_61                             0.410000   \n",
       "4_3_63                             0.290000   \n",
       "4_3_65                             0.545455   \n",
       "4_4_79                             0.340000   \n",
       "\n",
       "        p11__lempel_ziv_complexity__bins_100    scores  anomaly_label  \n",
       "index                                                                  \n",
       "1_1_1                               0.570000 -0.072778             -1  \n",
       "1_1_3                               0.620000 -0.019914             -1  \n",
       "1_1_5                               0.550000 -0.033595             -1  \n",
       "1_1_62                              0.550000 -0.038153             -1  \n",
       "1_1_68                              0.573333 -0.100211             -1  \n",
       "...                                      ...       ...            ...  \n",
       "4_3_60                              0.490000 -0.007908             -1  \n",
       "4_3_61                              0.590000 -0.037801             -1  \n",
       "4_3_63                              0.440000 -0.050739             -1  \n",
       "4_3_65                              0.545455 -0.011141             -1  \n",
       "4_4_79                              0.560000 -0.005879             -1  \n",
       "\n",
       "[82 rows x 2430 columns]"
      ]
     },
     "execution_count": 22,
     "metadata": {},
     "output_type": "execute_result"
    }
   ],
   "source": [
    "data_cleaned[data_cleaned.anomaly_label == -1]"
   ]
  },
  {
   "cell_type": "code",
   "execution_count": 24,
   "id": "9f010847",
   "metadata": {},
   "outputs": [],
   "source": [
    "data_cleaned[\"anomaly\"] = data_cleaned[\"anomaly_label\"].apply(\n",
    "    lambda x: \"outlier\" if x == -1 else \"inlier\"\n",
    ")"
   ]
  },
  {
   "cell_type": "code",
   "execution_count": 25,
   "id": "d6f32701",
   "metadata": {},
   "outputs": [
    {
     "data": {
      "image/png": "[encoded data removed]",
      "text/plain": [
       "<Figure size 432x288 with 1 Axes>"
      ]
     },
     "metadata": {
      "needs_background": "light"
     },
     "output_type": "display_data"
    }
   ],
   "source": [
    "fig = sns.histplot(data=data_cleaned, x=\"scores\", hue=\"anomaly\")\n",
    "plt.show()"
   ]
  },
  {
   "cell_type": "markdown",
   "id": "a40c5acd",
   "metadata": {},
   "source": [
    "Having said that, If you are very confident about the results of Isolation Forest classifier and you have a capacity to train another model then you could use the output of Isolation Forest i.e -1/1 values as target-class to train a Random Forest classifier. This will give you feature importance for detecting anomaly."
   ]
  },
  {
   "cell_type": "code",
   "execution_count": 26,
   "id": "cb405522",
   "metadata": {},
   "outputs": [],
   "source": [
    "data_cleaned.to_csv(\"../data/tsfresh_data_cleaned.csv\")"
   ]
  },
  {
   "cell_type": "code",
   "execution_count": null,
   "id": "ff81100b-b3d5-45b3-b410-50fa26901f6c",
   "metadata": {},
   "outputs": [],
   "source": []
  }
 ],
 "metadata": {
  "kernelspec": {
   "display_name": "Python 3 (ipykernel)",
   "language": "python",
   "name": "python3"
  },
  "language_info": {
   "codemirror_mode": {
    "name": "ipython",
    "version": 3
   },
   "file_extension": ".py",
   "mimetype": "text/x-python",
   "name": "python",
   "nbconvert_exporter": "python",
   "pygments_lexer": "ipython3",
   "version": "3.8.12"
  }
 },
 "nbformat": 4,
 "nbformat_minor": 5
}

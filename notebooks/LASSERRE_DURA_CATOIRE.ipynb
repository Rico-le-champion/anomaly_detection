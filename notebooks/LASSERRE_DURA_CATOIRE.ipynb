{
 "cells": [
  {
   "cell_type": "markdown",
   "id": "36315720-838f-49bc-b0b9-10d106dd6b6e",
   "metadata": {},
   "source": [
    "# Import des librairies"
   ]
  },
  {
   "cell_type": "code",
   "execution_count": 3,
   "id": "18d5ed96-c4d7-4c41-81ef-6f23039af6ff",
   "metadata": {},
   "outputs": [],
   "source": [
    "import pandas as pd\n",
    "import numpy as np\n",
    "import matplotlib.pyplot as plt\n",
    "import seaborn as sns\n",
    "from sklearn.ensemble import IsolationForest\n",
    "from sklearn.neighbors import LocalOutlierFactor\n",
    "from sklearn.decomposition import PCA\n",
    "from sklearn.preprocessing import MinMaxScaler"
   ]
  },
  {
   "cell_type": "markdown",
   "id": "6ca3eda0-b804-495e-8bd9-fbc024758091",
   "metadata": {},
   "source": [
    "# Chargement des données"
   ]
  },
  {
   "cell_type": "code",
   "execution_count": 4,
   "id": "ae23ecd7-ac57-45f6-b1c1-591c36f1500b",
   "metadata": {},
   "outputs": [],
   "source": [
    "df_full = pd.read_csv(\"../data/dataset.csv\")\n",
    "df = pd.read_csv(\"../data/tsfresh_data_cleaned.csv\")\n",
    "df.drop(columns={\"Unnamed: 0\"}, inplace=True)\n",
    "outliers_predictions = pd.DataFrame()\n",
    "outliers_predictions.index = df[\"index\"]"
   ]
  },
  {
   "cell_type": "markdown",
   "id": "a7d2846c",
   "metadata": {},
   "source": [
    "On charge deux datasets: \n",
    "    \n",
    "    \n",
    "   * le premier \"df_full\" correspond simplement aux dataset fournis sans traitement. \n",
    "   \n",
    "    \n",
    "   * Le deuxieme \"df\", plus complexe, correspond à un jeu de données de features extrait via la librairie tsfresh. Tsfresh est une librairie qui permet d'extraire des milliers de features d'un jeu de données automatiquement. Pour des raisons de lisibilité et de temps de calcul, ce jeu de données a été crée dans le notebook \"create Tsfresh\" dans le dossier \"notebook\". Evidemment de nombreux features ne sont pas utiles dans notre cas ou se répetent, nous lnettoyons ce dataset dans la suite.\n",
    "    "
   ]
  },
  {
   "cell_type": "markdown",
   "id": "de0cdb08-6d0b-4a10-af32-7d72b5ed1b51",
   "metadata": {},
   "source": [
    "# Netoyage des données"
   ]
  },
  {
   "cell_type": "markdown",
   "id": "2283f324-4196-4ddc-b555-7fa92a8c0cf2",
   "metadata": {},
   "source": [
    "Tout d'abord, on enleve tous les features qui sont trop corrélés entre eux, on considère qu'au dela de 0.9 ils contiennent des informations presque semblables."
   ]
  },
  {
   "cell_type": "code",
   "execution_count": 7,
   "id": "2535d6b3-57e2-4257-a4fd-7f3e4683aa9c",
   "metadata": {},
   "outputs": [],
   "source": [
    "corr = df.corr() #calcul de la matrice de corrélation\n",
    "for col in corr.columns:\n",
    "    if len(corr[corr[col] == 1]) > 0.9:\n",
    "        temp = corr[corr[col] == 1]\n",
    "        to_be_removed = temp.index.tolist()\n",
    "        to_be_removed.remove(to_be_removed[0])\n",
    "        try:\n",
    "            df.drop(columns=to_be_removed, inplace=True)\n",
    "        except:\n",
    "            pass"
   ]
  },
  {
   "cell_type": "code",
   "execution_count": 8,
   "id": "cc1d6e69-a0eb-45d3-b8d1-a418f371cc3a",
   "metadata": {},
   "outputs": [],
   "source": [
    "def cycle(x):\n",
    "    return int(x[\"day_cycle_window\"].split(\"_\")[1])"
   ]
  },
  {
   "cell_type": "code",
   "execution_count": 9,
   "id": "3b292ccd-b2af-4739-8a70-752924c965b4",
   "metadata": {},
   "outputs": [
    {
     "data": {
      "text/html": [
       "<div>\n",
       "<style scoped>\n",
       "    .dataframe tbody tr th:only-of-type {\n",
       "        vertical-align: middle;\n",
       "    }\n",
       "\n",
       "    .dataframe tbody tr th {\n",
       "        vertical-align: top;\n",
       "    }\n",
       "\n",
       "    .dataframe thead th {\n",
       "        text-align: right;\n",
       "    }\n",
       "</style>\n",
       "<table border=\"1\" class=\"dataframe\">\n",
       "  <thead>\n",
       "    <tr style=\"text-align: right;\">\n",
       "      <th></th>\n",
       "      <th>day_cycle_window</th>\n",
       "      <th>p1</th>\n",
       "      <th>p2</th>\n",
       "      <th>p3</th>\n",
       "      <th>p4</th>\n",
       "      <th>p5</th>\n",
       "      <th>p6</th>\n",
       "      <th>p7</th>\n",
       "      <th>p8</th>\n",
       "      <th>p9</th>\n",
       "      <th>p10</th>\n",
       "      <th>p11</th>\n",
       "      <th>cycle</th>\n",
       "    </tr>\n",
       "  </thead>\n",
       "  <tbody>\n",
       "    <tr>\n",
       "      <th>0</th>\n",
       "      <td>1_1_1</td>\n",
       "      <td>-0.805191</td>\n",
       "      <td>-1.141993</td>\n",
       "      <td>-1.328327</td>\n",
       "      <td>-1.516693</td>\n",
       "      <td>-1.373962</td>\n",
       "      <td>-0.80827</td>\n",
       "      <td>-1.070547</td>\n",
       "      <td>-0.504352</td>\n",
       "      <td>2.807146</td>\n",
       "      <td>0.495528</td>\n",
       "      <td>-1.246737</td>\n",
       "      <td>1</td>\n",
       "    </tr>\n",
       "    <tr>\n",
       "      <th>1</th>\n",
       "      <td>1_1_1</td>\n",
       "      <td>-0.805191</td>\n",
       "      <td>-1.134902</td>\n",
       "      <td>-1.320393</td>\n",
       "      <td>-1.505848</td>\n",
       "      <td>-1.361560</td>\n",
       "      <td>-0.80784</td>\n",
       "      <td>-1.064212</td>\n",
       "      <td>-0.516000</td>\n",
       "      <td>2.894177</td>\n",
       "      <td>0.494467</td>\n",
       "      <td>-1.244472</td>\n",
       "      <td>1</td>\n",
       "    </tr>\n",
       "    <tr>\n",
       "      <th>2</th>\n",
       "      <td>1_1_1</td>\n",
       "      <td>-0.805191</td>\n",
       "      <td>-1.117304</td>\n",
       "      <td>-1.307167</td>\n",
       "      <td>-1.505848</td>\n",
       "      <td>-1.361560</td>\n",
       "      <td>-0.80784</td>\n",
       "      <td>-1.064212</td>\n",
       "      <td>-0.516000</td>\n",
       "      <td>2.981904</td>\n",
       "      <td>0.429370</td>\n",
       "      <td>-1.244472</td>\n",
       "      <td>1</td>\n",
       "    </tr>\n",
       "    <tr>\n",
       "      <th>3</th>\n",
       "      <td>1_1_1</td>\n",
       "      <td>-0.814231</td>\n",
       "      <td>-1.114206</td>\n",
       "      <td>-1.287593</td>\n",
       "      <td>-1.442302</td>\n",
       "      <td>-1.287565</td>\n",
       "      <td>-0.80784</td>\n",
       "      <td>-1.045557</td>\n",
       "      <td>-0.516000</td>\n",
       "      <td>3.063298</td>\n",
       "      <td>0.348056</td>\n",
       "      <td>-1.244472</td>\n",
       "      <td>1</td>\n",
       "    </tr>\n",
       "    <tr>\n",
       "      <th>4</th>\n",
       "      <td>1_1_1</td>\n",
       "      <td>-0.848104</td>\n",
       "      <td>-1.112276</td>\n",
       "      <td>-1.285393</td>\n",
       "      <td>-1.429076</td>\n",
       "      <td>-1.270722</td>\n",
       "      <td>-0.80784</td>\n",
       "      <td>-1.017575</td>\n",
       "      <td>-0.664906</td>\n",
       "      <td>3.049237</td>\n",
       "      <td>0.118828</td>\n",
       "      <td>-1.270237</td>\n",
       "      <td>1</td>\n",
       "    </tr>\n",
       "  </tbody>\n",
       "</table>\n",
       "</div>"
      ],
      "text/plain": [
       "  day_cycle_window        p1        p2        p3        p4        p5       p6  \\\n",
       "0            1_1_1 -0.805191 -1.141993 -1.328327 -1.516693 -1.373962 -0.80827   \n",
       "1            1_1_1 -0.805191 -1.134902 -1.320393 -1.505848 -1.361560 -0.80784   \n",
       "2            1_1_1 -0.805191 -1.117304 -1.307167 -1.505848 -1.361560 -0.80784   \n",
       "3            1_1_1 -0.814231 -1.114206 -1.287593 -1.442302 -1.287565 -0.80784   \n",
       "4            1_1_1 -0.848104 -1.112276 -1.285393 -1.429076 -1.270722 -0.80784   \n",
       "\n",
       "         p7        p8        p9       p10       p11  cycle  \n",
       "0 -1.070547 -0.504352  2.807146  0.495528 -1.246737      1  \n",
       "1 -1.064212 -0.516000  2.894177  0.494467 -1.244472      1  \n",
       "2 -1.064212 -0.516000  2.981904  0.429370 -1.244472      1  \n",
       "3 -1.045557 -0.516000  3.063298  0.348056 -1.244472      1  \n",
       "4 -1.017575 -0.664906  3.049237  0.118828 -1.270237      1  "
      ]
     },
     "execution_count": 9,
     "metadata": {},
     "output_type": "execute_result"
    }
   ],
   "source": [
    "#on crée ici une colonne cycle, ce qui sera utile plus tard dans le notebook\n",
    "df_full[\"cycle\"] = df_full.apply(cycle, axis=1)\n",
    "df_full.head()"
   ]
  },
  {
   "cell_type": "markdown",
   "id": "034bba24",
   "metadata": {},
   "source": [
    "# Exploration de données"
   ]
  },
  {
   "cell_type": "code",
   "execution_count": 10,
   "id": "a30c0ac4",
   "metadata": {},
   "outputs": [
    {
     "data": {
      "text/html": [
       "<div>\n",
       "<style scoped>\n",
       "    .dataframe tbody tr th:only-of-type {\n",
       "        vertical-align: middle;\n",
       "    }\n",
       "\n",
       "    .dataframe tbody tr th {\n",
       "        vertical-align: top;\n",
       "    }\n",
       "\n",
       "    .dataframe thead th {\n",
       "        text-align: right;\n",
       "    }\n",
       "</style>\n",
       "<table border=\"1\" class=\"dataframe\">\n",
       "  <thead>\n",
       "    <tr style=\"text-align: right;\">\n",
       "      <th></th>\n",
       "      <th>p1</th>\n",
       "      <th>p2</th>\n",
       "      <th>p3</th>\n",
       "      <th>p4</th>\n",
       "      <th>p5</th>\n",
       "      <th>p6</th>\n",
       "      <th>p7</th>\n",
       "      <th>p8</th>\n",
       "      <th>p9</th>\n",
       "      <th>p10</th>\n",
       "      <th>p11</th>\n",
       "      <th>cycle</th>\n",
       "    </tr>\n",
       "  </thead>\n",
       "  <tbody>\n",
       "    <tr>\n",
       "      <th>count</th>\n",
       "      <td>162702.000000</td>\n",
       "      <td>162702.000000</td>\n",
       "      <td>162702.000000</td>\n",
       "      <td>162702.000000</td>\n",
       "      <td>162702.000000</td>\n",
       "      <td>162702.000000</td>\n",
       "      <td>162702.000000</td>\n",
       "      <td>162702.000000</td>\n",
       "      <td>162702.000000</td>\n",
       "      <td>162702.000000</td>\n",
       "      <td>162702.000000</td>\n",
       "      <td>162702.000000</td>\n",
       "    </tr>\n",
       "    <tr>\n",
       "      <th>mean</th>\n",
       "      <td>0.000009</td>\n",
       "      <td>0.000011</td>\n",
       "      <td>0.000031</td>\n",
       "      <td>0.000005</td>\n",
       "      <td>0.000016</td>\n",
       "      <td>-0.000005</td>\n",
       "      <td>-0.000002</td>\n",
       "      <td>0.000003</td>\n",
       "      <td>-0.000021</td>\n",
       "      <td>0.000026</td>\n",
       "      <td>0.000030</td>\n",
       "      <td>2.337716</td>\n",
       "    </tr>\n",
       "    <tr>\n",
       "      <th>std</th>\n",
       "      <td>0.999950</td>\n",
       "      <td>0.999925</td>\n",
       "      <td>0.999961</td>\n",
       "      <td>0.999925</td>\n",
       "      <td>0.999963</td>\n",
       "      <td>0.999926</td>\n",
       "      <td>0.999950</td>\n",
       "      <td>0.999949</td>\n",
       "      <td>0.997770</td>\n",
       "      <td>0.999686</td>\n",
       "      <td>0.999847</td>\n",
       "      <td>1.170402</td>\n",
       "    </tr>\n",
       "    <tr>\n",
       "      <th>min</th>\n",
       "      <td>-3.211980</td>\n",
       "      <td>-3.395387</td>\n",
       "      <td>-3.325651</td>\n",
       "      <td>-3.378450</td>\n",
       "      <td>-3.281286</td>\n",
       "      <td>-4.200181</td>\n",
       "      <td>-3.898025</td>\n",
       "      <td>-3.524957</td>\n",
       "      <td>-13.704556</td>\n",
       "      <td>-12.044778</td>\n",
       "      <td>-3.183571</td>\n",
       "      <td>1.000000</td>\n",
       "    </tr>\n",
       "    <tr>\n",
       "      <th>25%</th>\n",
       "      <td>-0.678808</td>\n",
       "      <td>-0.482716</td>\n",
       "      <td>-0.629123</td>\n",
       "      <td>-0.491585</td>\n",
       "      <td>-0.612334</td>\n",
       "      <td>-0.559023</td>\n",
       "      <td>-0.606135</td>\n",
       "      <td>-0.736398</td>\n",
       "      <td>-0.593096</td>\n",
       "      <td>-0.498480</td>\n",
       "      <td>-0.658530</td>\n",
       "      <td>1.000000</td>\n",
       "    </tr>\n",
       "    <tr>\n",
       "      <th>50%</th>\n",
       "      <td>0.041883</td>\n",
       "      <td>0.180361</td>\n",
       "      <td>0.041442</td>\n",
       "      <td>0.147397</td>\n",
       "      <td>0.117040</td>\n",
       "      <td>0.153972</td>\n",
       "      <td>0.186038</td>\n",
       "      <td>-0.012354</td>\n",
       "      <td>-0.034882</td>\n",
       "      <td>-0.257635</td>\n",
       "      <td>-0.015437</td>\n",
       "      <td>2.000000</td>\n",
       "    </tr>\n",
       "    <tr>\n",
       "      <th>75%</th>\n",
       "      <td>0.743973</td>\n",
       "      <td>0.656920</td>\n",
       "      <td>0.659246</td>\n",
       "      <td>0.636887</td>\n",
       "      <td>0.712393</td>\n",
       "      <td>0.685353</td>\n",
       "      <td>0.718237</td>\n",
       "      <td>0.802395</td>\n",
       "      <td>0.508232</td>\n",
       "      <td>0.359773</td>\n",
       "      <td>0.636740</td>\n",
       "      <td>3.000000</td>\n",
       "    </tr>\n",
       "    <tr>\n",
       "      <th>max</th>\n",
       "      <td>5.013899</td>\n",
       "      <td>6.260782</td>\n",
       "      <td>8.652950</td>\n",
       "      <td>8.359670</td>\n",
       "      <td>6.424227</td>\n",
       "      <td>5.638259</td>\n",
       "      <td>3.735957</td>\n",
       "      <td>4.667058</td>\n",
       "      <td>8.203706</td>\n",
       "      <td>5.597387</td>\n",
       "      <td>9.204384</td>\n",
       "      <td>5.000000</td>\n",
       "    </tr>\n",
       "  </tbody>\n",
       "</table>\n",
       "</div>"
      ],
      "text/plain": [
       "                  p1             p2             p3             p4  \\\n",
       "count  162702.000000  162702.000000  162702.000000  162702.000000   \n",
       "mean        0.000009       0.000011       0.000031       0.000005   \n",
       "std         0.999950       0.999925       0.999961       0.999925   \n",
       "min        -3.211980      -3.395387      -3.325651      -3.378450   \n",
       "25%        -0.678808      -0.482716      -0.629123      -0.491585   \n",
       "50%         0.041883       0.180361       0.041442       0.147397   \n",
       "75%         0.743973       0.656920       0.659246       0.636887   \n",
       "max         5.013899       6.260782       8.652950       8.359670   \n",
       "\n",
       "                  p5             p6             p7             p8  \\\n",
       "count  162702.000000  162702.000000  162702.000000  162702.000000   \n",
       "mean        0.000016      -0.000005      -0.000002       0.000003   \n",
       "std         0.999963       0.999926       0.999950       0.999949   \n",
       "min        -3.281286      -4.200181      -3.898025      -3.524957   \n",
       "25%        -0.612334      -0.559023      -0.606135      -0.736398   \n",
       "50%         0.117040       0.153972       0.186038      -0.012354   \n",
       "75%         0.712393       0.685353       0.718237       0.802395   \n",
       "max         6.424227       5.638259       3.735957       4.667058   \n",
       "\n",
       "                  p9            p10            p11          cycle  \n",
       "count  162702.000000  162702.000000  162702.000000  162702.000000  \n",
       "mean       -0.000021       0.000026       0.000030       2.337716  \n",
       "std         0.997770       0.999686       0.999847       1.170402  \n",
       "min       -13.704556     -12.044778      -3.183571       1.000000  \n",
       "25%        -0.593096      -0.498480      -0.658530       1.000000  \n",
       "50%        -0.034882      -0.257635      -0.015437       2.000000  \n",
       "75%         0.508232       0.359773       0.636740       3.000000  \n",
       "max         8.203706       5.597387       9.204384       5.000000  "
      ]
     },
     "execution_count": 10,
     "metadata": {},
     "output_type": "execute_result"
    }
   ],
   "source": [
    "#première analyse simple du jeu de données de base\n",
    "df_full.describe()"
   ]
  },
  {
   "cell_type": "code",
   "execution_count": 11,
   "id": "b20abb89",
   "metadata": {},
   "outputs": [
    {
     "data": {
      "image/png": "[encoded data removed]",
      "text/plain": [
       "<Figure size 432x288 with 1 Axes>"
      ]
     },
     "metadata": {
      "needs_background": "light"
     },
     "output_type": "display_data"
    },
    {
     "name": "stdout",
     "output_type": "stream",
     "text": [
      "           p1        p2        p3        p4        p5        p6        p7  \\\n",
      "p1   1.000000  0.743804  0.565838  0.645121  0.624481  0.613244  0.639742   \n",
      "p2   0.743804  1.000000  0.682531  0.772694  0.752933  0.722363  0.775408   \n",
      "p3   0.565838  0.682531  1.000000  0.675952  0.668370  0.583064  0.517204   \n",
      "p4   0.645121  0.772694  0.675952  1.000000  0.744707  0.740058  0.699865   \n",
      "p5   0.624481  0.752933  0.668370  0.744707  1.000000  0.669007  0.717467   \n",
      "p6   0.613244  0.722363  0.583064  0.740058  0.669007  1.000000  0.759859   \n",
      "p7   0.639742  0.775408  0.517204  0.699865  0.717467  0.759859  1.000000   \n",
      "p8   0.560869  0.678819  0.579898  0.575245  0.624363  0.635648  0.668587   \n",
      "p9  -0.503502 -0.567669 -0.605091 -0.607031 -0.574300 -0.547077 -0.532341   \n",
      "p10 -0.163234 -0.192766  0.110260 -0.212327 -0.115710 -0.249565 -0.309137   \n",
      "p11  0.563531  0.650339  0.918913  0.623993  0.627748  0.534820  0.497391   \n",
      "\n",
      "           p8        p9       p10       p11  \n",
      "p1   0.560869 -0.503502 -0.163234  0.563531  \n",
      "p2   0.678819 -0.567669 -0.192766  0.650339  \n",
      "p3   0.579898 -0.605091  0.110260  0.918913  \n",
      "p4   0.575245 -0.607031 -0.212327  0.623993  \n",
      "p5   0.624363 -0.574300 -0.115710  0.627748  \n",
      "p6   0.635648 -0.547077 -0.249565  0.534820  \n",
      "p7   0.668587 -0.532341 -0.309137  0.497391  \n",
      "p8   1.000000 -0.510558 -0.136902  0.595250  \n",
      "p9  -0.510558  1.000000  0.079156 -0.630761  \n",
      "p10 -0.136902  0.079156  1.000000  0.202441  \n",
      "p11  0.595250 -0.630761  0.202441  1.000000  \n"
     ]
    }
   ],
   "source": [
    "#représentation en boxplot des données et affichage de la matrice de corrélation\n",
    "df_full.drop([\"cycle\"],axis=1).plot.box()\n",
    "corr_matrix = df_full.drop([\"cycle\"],axis=1).corr()\n",
    "plt.show()\n",
    "print (corr_matrix)"
   ]
  },
  {
   "cell_type": "code",
   "execution_count": 14,
   "id": "950e09cf",
   "metadata": {},
   "outputs": [
    {
     "data": {
      "text/html": [
       "<div>\n",
       "<style scoped>\n",
       "    .dataframe tbody tr th:only-of-type {\n",
       "        vertical-align: middle;\n",
       "    }\n",
       "\n",
       "    .dataframe tbody tr th {\n",
       "        vertical-align: top;\n",
       "    }\n",
       "\n",
       "    .dataframe thead th {\n",
       "        text-align: right;\n",
       "    }\n",
       "</style>\n",
       "<table border=\"1\" class=\"dataframe\">\n",
       "  <thead>\n",
       "    <tr style=\"text-align: right;\">\n",
       "      <th></th>\n",
       "      <th>day_cycle_window</th>\n",
       "      <th>p1</th>\n",
       "      <th>p2</th>\n",
       "      <th>p3</th>\n",
       "      <th>p4</th>\n",
       "      <th>p5</th>\n",
       "      <th>p6</th>\n",
       "      <th>p7</th>\n",
       "      <th>p8</th>\n",
       "      <th>p9</th>\n",
       "      <th>p10</th>\n",
       "      <th>p11</th>\n",
       "    </tr>\n",
       "    <tr>\n",
       "      <th>cycle</th>\n",
       "      <th></th>\n",
       "      <th></th>\n",
       "      <th></th>\n",
       "      <th></th>\n",
       "      <th></th>\n",
       "      <th></th>\n",
       "      <th></th>\n",
       "      <th></th>\n",
       "      <th></th>\n",
       "      <th></th>\n",
       "      <th></th>\n",
       "      <th></th>\n",
       "    </tr>\n",
       "  </thead>\n",
       "  <tbody>\n",
       "    <tr>\n",
       "      <th>1</th>\n",
       "      <td>4_1_9</td>\n",
       "      <td>3.973754</td>\n",
       "      <td>5.713043</td>\n",
       "      <td>7.901281</td>\n",
       "      <td>8.359670</td>\n",
       "      <td>6.424227</td>\n",
       "      <td>5.638259</td>\n",
       "      <td>3.316650</td>\n",
       "      <td>3.351174</td>\n",
       "      <td>5.298698</td>\n",
       "      <td>3.894761</td>\n",
       "      <td>8.078495</td>\n",
       "    </tr>\n",
       "    <tr>\n",
       "      <th>2</th>\n",
       "      <td>4_2_99</td>\n",
       "      <td>5.013899</td>\n",
       "      <td>6.260782</td>\n",
       "      <td>8.652950</td>\n",
       "      <td>8.125177</td>\n",
       "      <td>5.647312</td>\n",
       "      <td>5.466831</td>\n",
       "      <td>3.735957</td>\n",
       "      <td>4.667058</td>\n",
       "      <td>6.704715</td>\n",
       "      <td>4.187271</td>\n",
       "      <td>9.204384</td>\n",
       "    </tr>\n",
       "    <tr>\n",
       "      <th>3</th>\n",
       "      <td>4_3_9</td>\n",
       "      <td>3.653069</td>\n",
       "      <td>2.762197</td>\n",
       "      <td>3.263029</td>\n",
       "      <td>2.279766</td>\n",
       "      <td>2.583843</td>\n",
       "      <td>2.554707</td>\n",
       "      <td>2.673096</td>\n",
       "      <td>2.756354</td>\n",
       "      <td>8.203706</td>\n",
       "      <td>5.597387</td>\n",
       "      <td>4.155548</td>\n",
       "    </tr>\n",
       "    <tr>\n",
       "      <th>4</th>\n",
       "      <td>4_4_99</td>\n",
       "      <td>1.850660</td>\n",
       "      <td>1.757681</td>\n",
       "      <td>1.817051</td>\n",
       "      <td>1.748211</td>\n",
       "      <td>1.767266</td>\n",
       "      <td>1.656887</td>\n",
       "      <td>1.706925</td>\n",
       "      <td>1.800247</td>\n",
       "      <td>2.781179</td>\n",
       "      <td>5.506079</td>\n",
       "      <td>1.874538</td>\n",
       "    </tr>\n",
       "    <tr>\n",
       "      <th>5</th>\n",
       "      <td>1_5_94</td>\n",
       "      <td>1.167915</td>\n",
       "      <td>1.158708</td>\n",
       "      <td>1.164610</td>\n",
       "      <td>1.159595</td>\n",
       "      <td>1.175287</td>\n",
       "      <td>1.188213</td>\n",
       "      <td>1.164331</td>\n",
       "      <td>1.170039</td>\n",
       "      <td>2.046494</td>\n",
       "      <td>2.966753</td>\n",
       "      <td>1.155134</td>\n",
       "    </tr>\n",
       "  </tbody>\n",
       "</table>\n",
       "</div>"
      ],
      "text/plain": [
       "      day_cycle_window        p1        p2        p3        p4        p5  \\\n",
       "cycle                                                                      \n",
       "1                4_1_9  3.973754  5.713043  7.901281  8.359670  6.424227   \n",
       "2               4_2_99  5.013899  6.260782  8.652950  8.125177  5.647312   \n",
       "3                4_3_9  3.653069  2.762197  3.263029  2.279766  2.583843   \n",
       "4               4_4_99  1.850660  1.757681  1.817051  1.748211  1.767266   \n",
       "5               1_5_94  1.167915  1.158708  1.164610  1.159595  1.175287   \n",
       "\n",
       "             p6        p7        p8        p9       p10       p11  \n",
       "cycle                                                              \n",
       "1      5.638259  3.316650  3.351174  5.298698  3.894761  8.078495  \n",
       "2      5.466831  3.735957  4.667058  6.704715  4.187271  9.204384  \n",
       "3      2.554707  2.673096  2.756354  8.203706  5.597387  4.155548  \n",
       "4      1.656887  1.706925  1.800247  2.781179  5.506079  1.874538  \n",
       "5      1.188213  1.164331  1.170039  2.046494  2.966753  1.155134  "
      ]
     },
     "execution_count": 14,
     "metadata": {},
     "output_type": "execute_result"
    }
   ],
   "source": [
    "#on essaye de voir si les données sont différentes par cycle\n",
    "df_var = df_full.drop([\"day_cycle_window\",\"cycle\"],axis = 1)\n",
    "df_cycle_mean = df_full.groupby([\"cycle\"]).mean()\n",
    "df_cycle_std = df_full.groupby([\"cycle\"]).std()\n",
    "df_cycle_min = df_full.groupby([\"cycle\"]).min()\n",
    "df_cycle_max = df_full.groupby([\"cycle\"]).max()\n",
    "df_cycle_max"
   ]
  },
  {
   "cell_type": "markdown",
   "id": "2a6adf7d",
   "metadata": {},
   "source": [
    "On remarque que même en regardant cycle par cycle les moyennes et écarts-types ne diffèrrent pas. En revanche on voit que les maximums et minimums de chaque variable sont différents en fonction des cycles. Il serait surement intéressant d'aller plus loin dans l'analyse."
   ]
  },
  {
   "cell_type": "code",
   "execution_count": 16,
   "id": "b87e4870",
   "metadata": {},
   "outputs": [
    {
     "data": {
      "image/png": "[encoded data removed]",
      "text/plain": [
       "<Figure size 432x288 with 1 Axes>"
      ]
     },
     "metadata": {
      "needs_background": "light"
     },
     "output_type": "display_data"
    }
   ],
   "source": [
    "#PCA sur le jeu de données de base\n",
    "n_components = 2\n",
    "pca = PCA(n_components = n_components)\n",
    "pca.fit(df_var)\n",
    "variance_ratio = pca.explained_variance_ratio_\n",
    "print\n",
    "df_pca = pd.DataFrame(pca.fit_transform(df_var))\n",
    "df_pca.insert(loc=0, column='cycle', value=df_full['cycle'])\n",
    "plt.bar(range(n_components),variance_ratio)\n",
    "plt.title('variance ratio of the components')\n",
    "plt.show()"
   ]
  },
  {
   "cell_type": "code",
   "execution_count": 17,
   "id": "c6a0b027",
   "metadata": {},
   "outputs": [
    {
     "data": {
      "image/png": "[encoded data removed]",
      "text/plain": [
       "<Figure size 1080x720 with 10 Axes>"
      ]
     },
     "metadata": {
      "needs_background": "light"
     },
     "output_type": "display_data"
    }
   ],
   "source": [
    "#On regarde si les données diffèrent en fonction des cycles\n",
    "#La PCA permet d'avoir une lecture plus visible\n",
    "plt.figure(figsize = (15,5*n_components))\n",
    "loc =0\n",
    "for i in range(n_components):\n",
    "    for j in range(1,6):\n",
    "        loc +=1\n",
    "        ax = plt.subplot(n_components,5,loc)\n",
    "        dataframe = df_pca[df_pca['cycle'] == j][i]\n",
    "        plt.boxplot(dataframe)\n",
    "        plt.title('composante : '+ str(i) + ', '+'cycle :' +str(j) )\n",
    "plt.show()"
   ]
  },
  {
   "cell_type": "markdown",
   "id": "a9d54d76",
   "metadata": {},
   "source": [
    "On peut remarquer que chaque cycle a un comportement différent que ce soit pour la premiere composante de la pca ou pour la deuxieme composante. Il sera donc interessant de détecter les fenêtres anormales dans chaque cycle."
   ]
  },
  {
   "cell_type": "markdown",
   "id": "f7e4c48c",
   "metadata": {},
   "source": [
    "# Detection des fenetres anormales"
   ]
  },
  {
   "cell_type": "markdown",
   "id": "03f66b55",
   "metadata": {},
   "source": [
    "Le jeu de données que nous avons contient très peu d'information et permet peu d'interpretabilités de nos résultats sans connaissance métier. De plus, sans information supplémentaires il est fifficile d'optimiser les hyperparamètres de chaque modèle, c'est pour cela que nous privilégions des méthodes avec peu d'hyperparamètres. Afin de rendre notre détection robuste, nous réalisons plusieurs méthodes de detéction et nous regardons si les fenêtres sont considéres anormales par chaque méthodes ou non."
   ]
  },
  {
   "cell_type": "markdown",
   "id": "0bc7601d-2cdd-4de9-af66-72f37e70330d",
   "metadata": {},
   "source": [
    "## On concentre le travail par cycle"
   ]
  },
  {
   "cell_type": "markdown",
   "id": "92430117-57ed-4e2a-9d75-2cf431b04cf6",
   "metadata": {},
   "source": [
    "Nous avons vu dans l'analyse des données que selon le cycle, les comportements n'étaient pas les mêmes, on raisonne donc cycle par cycle.\n"
   ]
  },
  {
   "cell_type": "code",
   "execution_count": 19,
   "id": "e82fc313-c42b-4234-9c20-90d91d2190d6",
   "metadata": {},
   "outputs": [
    {
     "ename": "KeyError",
     "evalue": "\"None of ['index'] are in the columns\"",
     "output_type": "error",
     "traceback": [
      "\u001b[0;31m---------------------------------------------------------------------------\u001b[0m",
      "\u001b[0;31mKeyError\u001b[0m                                  Traceback (most recent call last)",
      "\u001b[0;32m/tmp/ipykernel_436/115775895.py\u001b[0m in \u001b[0;36m<module>\u001b[0;34m\u001b[0m\n\u001b[0;32m----> 1\u001b[0;31m \u001b[0mdf\u001b[0m\u001b[0;34m.\u001b[0m\u001b[0mset_index\u001b[0m\u001b[0;34m(\u001b[0m\u001b[0;34m\"index\"\u001b[0m\u001b[0;34m,\u001b[0m \u001b[0mdrop\u001b[0m\u001b[0;34m=\u001b[0m\u001b[0;32mTrue\u001b[0m\u001b[0;34m,\u001b[0m \u001b[0minplace\u001b[0m\u001b[0;34m=\u001b[0m\u001b[0;32mTrue\u001b[0m\u001b[0;34m)\u001b[0m\u001b[0;34m\u001b[0m\u001b[0;34m\u001b[0m\u001b[0m\n\u001b[0m",
      "\u001b[0;32m~/miniconda3/envs/sdd-env/lib/python3.8/site-packages/pandas/util/_decorators.py\u001b[0m in \u001b[0;36mwrapper\u001b[0;34m(*args, **kwargs)\u001b[0m\n\u001b[1;32m    309\u001b[0m                     \u001b[0mstacklevel\u001b[0m\u001b[0;34m=\u001b[0m\u001b[0mstacklevel\u001b[0m\u001b[0;34m,\u001b[0m\u001b[0;34m\u001b[0m\u001b[0;34m\u001b[0m\u001b[0m\n\u001b[1;32m    310\u001b[0m                 )\n\u001b[0;32m--> 311\u001b[0;31m             \u001b[0;32mreturn\u001b[0m \u001b[0mfunc\u001b[0m\u001b[0;34m(\u001b[0m\u001b[0;34m*\u001b[0m\u001b[0margs\u001b[0m\u001b[0;34m,\u001b[0m \u001b[0;34m**\u001b[0m\u001b[0mkwargs\u001b[0m\u001b[0;34m)\u001b[0m\u001b[0;34m\u001b[0m\u001b[0;34m\u001b[0m\u001b[0m\n\u001b[0m\u001b[1;32m    312\u001b[0m \u001b[0;34m\u001b[0m\u001b[0m\n\u001b[1;32m    313\u001b[0m         \u001b[0;32mreturn\u001b[0m \u001b[0mwrapper\u001b[0m\u001b[0;34m\u001b[0m\u001b[0;34m\u001b[0m\u001b[0m\n",
      "\u001b[0;32m~/miniconda3/envs/sdd-env/lib/python3.8/site-packages/pandas/core/frame.py\u001b[0m in \u001b[0;36mset_index\u001b[0;34m(self, keys, drop, append, inplace, verify_integrity)\u001b[0m\n\u001b[1;32m   5449\u001b[0m \u001b[0;34m\u001b[0m\u001b[0m\n\u001b[1;32m   5450\u001b[0m         \u001b[0;32mif\u001b[0m \u001b[0mmissing\u001b[0m\u001b[0;34m:\u001b[0m\u001b[0;34m\u001b[0m\u001b[0;34m\u001b[0m\u001b[0m\n\u001b[0;32m-> 5451\u001b[0;31m             \u001b[0;32mraise\u001b[0m \u001b[0mKeyError\u001b[0m\u001b[0;34m(\u001b[0m\u001b[0;34mf\"None of {missing} are in the columns\"\u001b[0m\u001b[0;34m)\u001b[0m\u001b[0;34m\u001b[0m\u001b[0;34m\u001b[0m\u001b[0m\n\u001b[0m\u001b[1;32m   5452\u001b[0m \u001b[0;34m\u001b[0m\u001b[0m\n\u001b[1;32m   5453\u001b[0m         \u001b[0;32mif\u001b[0m \u001b[0minplace\u001b[0m\u001b[0;34m:\u001b[0m\u001b[0;34m\u001b[0m\u001b[0;34m\u001b[0m\u001b[0m\n",
      "\u001b[0;31mKeyError\u001b[0m: \"None of ['index'] are in the columns\""
     ]
    }
   ],
   "source": [
    "df.set_index(\"index\", drop=True, inplace=True)"
   ]
  },
  {
   "cell_type": "code",
   "execution_count": 20,
   "id": "bc09f4e4-f1e2-4db0-aa88-74d069f9c386",
   "metadata": {},
   "outputs": [],
   "source": [
    "dict_df_cycles = {}\n",
    "dict_df_outliers = {}\n",
    "dict_df_cycles_full = {}\n",
    "for i in range(5):\n",
    "    dict_df_cycles[i] = df[df[\"cycle\"] == (i + 1)]\n",
    "\n",
    "    outliers_cycle_1 = pd.DataFrame()\n",
    "    outliers_cycle_1.index = dict_df_cycles[i].index\n",
    "    dict_df_outliers[i] = outliers_cycle_1\n",
    "\n",
    "    dict_df_cycles_full[i] = df_full[df_full[\"cycle\"] == (i + 1)].copy()"
   ]
  },
  {
   "cell_type": "markdown",
   "id": "e1480507-9434-4209-9f55-3295610d5c97",
   "metadata": {},
   "source": [
    "## Isolation forest sur chaque point "
   ]
  },
  {
   "cell_type": "markdown",
   "id": "ad05e1ac-f61f-4ee6-9f52-5dc6c02dbb59",
   "metadata": {},
   "source": [
    "On utilise un algorithme d'isolation forest pour identifier parmi tous les pas de temps ceux qui sont potentiellement anormaux. On regroupe ensuite ces observations pour regarder si des fenêtres sortent du lot (on utilise les données bruts et non les features calculées avec Tsfresh)"
   ]
  },
  {
   "cell_type": "code",
   "execution_count": 21,
   "id": "3188a1ca-fe66-4401-8519-67aadc0046c5",
   "metadata": {},
   "outputs": [],
   "source": [
    "def isolation_forest_on_points(df_full_cycle, outliers_cycle):\n",
    "\n",
    "    iforest = IsolationForest()\n",
    "    pred = iforest.fit_predict(df_full_cycle.values)\n",
    "    df_full_cycle[\"mean_scores\"] = iforest.decision_function(df_full_cycle.values)\n",
    "    df_full_cycle[\"anomaly_label\"] = pred\n",
    "\n",
    "    print(\"Anomalies sur les points\")\n",
    "    df_full_cycle[\"anomaly\"] = df_full_cycle[\"anomaly_label\"].apply(\n",
    "        lambda x: \"outlier\" if x == -1 else \"inlier\"\n",
    "    )\n",
    "    fig = sns.histplot(data=df_full_cycle, x=\"mean_scores\", hue=\"anomaly\")\n",
    "    plt.show()\n",
    "    df_full_cycle.drop(columns=[\"anomaly\"], inplace=True)\n",
    "\n",
    "    df_temp = (\n",
    "        df_full_cycle[[\"day_cycle_window\", \"mean_scores\"]]\n",
    "        .groupby(\"day_cycle_window\")\n",
    "        .mean()[[\"mean_scores\"]]\n",
    "    )\n",
    "\n",
    "    print(\"les anomalies sont les fenetres avec un score négatif\")\n",
    "    sns.histplot(df_temp[\"mean_scores\"])\n",
    "    plt.show()\n",
    "\n",
    "    outliers_cycle[\"RF_on_points\"] = np.where(df_temp[\"mean_scores\"] > 0, 0, 1)"
   ]
  },
  {
   "cell_type": "code",
   "execution_count": 22,
   "id": "ca8ef250",
   "metadata": {},
   "outputs": [
    {
     "name": "stdout",
     "output_type": "stream",
     "text": [
      "\n",
      " Traitement du cycle numéro 1\n",
      "Anomalies sur les points\n"
     ]
    },
    {
     "data": {
      "image/png": "[encoded data removed]",
      "text/plain": [
       "<Figure size 432x288 with 1 Axes>"
      ]
     },
     "metadata": {
      "needs_background": "light"
     },
     "output_type": "display_data"
    },
    {
     "name": "stdout",
     "output_type": "stream",
     "text": [
      "les anomalies sont les fenetres avec un score négatif\n"
     ]
    },
    {
     "data": {
      "image/png": "[encoded data removed]",
      "text/plain": [
       "<Figure size 432x288 with 1 Axes>"
      ]
     },
     "metadata": {
      "needs_background": "light"
     },
     "output_type": "display_data"
    },
    {
     "name": "stdout",
     "output_type": "stream",
     "text": [
      "\n",
      " Traitement du cycle numéro 2\n",
      "Anomalies sur les points\n"
     ]
    },
    {
     "data": {
      "image/png": "[encoded data removed]",
      "text/plain": [
       "<Figure size 432x288 with 1 Axes>"
      ]
     },
     "metadata": {
      "needs_background": "light"
     },
     "output_type": "display_data"
    },
    {
     "name": "stdout",
     "output_type": "stream",
     "text": [
      "les anomalies sont les fenetres avec un score négatif\n"
     ]
    },
    {
     "data": {
      "image/png": "[encoded data removed]",
      "text/plain": [
       "<Figure size 432x288 with 1 Axes>"
      ]
     },
     "metadata": {
      "needs_background": "light"
     },
     "output_type": "display_data"
    },
    {
     "name": "stdout",
     "output_type": "stream",
     "text": [
      "\n",
      " Traitement du cycle numéro 3\n",
      "Anomalies sur les points\n"
     ]
    },
    {
     "data": {
      "image/png": "[encoded data removed]",
      "text/plain": [
       "<Figure size 432x288 with 1 Axes>"
      ]
     },
     "metadata": {
      "needs_background": "light"
     },
     "output_type": "display_data"
    },
    {
     "name": "stdout",
     "output_type": "stream",
     "text": [
      "les anomalies sont les fenetres avec un score négatif\n"
     ]
    },
    {
     "data": {
      "image/png": "[encoded data removed]",
      "text/plain": [
       "<Figure size 432x288 with 1 Axes>"
      ]
     },
     "metadata": {
      "needs_background": "light"
     },
     "output_type": "display_data"
    },
    {
     "name": "stdout",
     "output_type": "stream",
     "text": [
      "\n",
      " Traitement du cycle numéro 4\n",
      "Anomalies sur les points\n"
     ]
    },
    {
     "data": {
      "image/png": "[encoded data removed]",
      "text/plain": [
       "<Figure size 432x288 with 1 Axes>"
      ]
     },
     "metadata": {
      "needs_background": "light"
     },
     "output_type": "display_data"
    },
    {
     "name": "stdout",
     "output_type": "stream",
     "text": [
      "les anomalies sont les fenetres avec un score négatif\n"
     ]
    },
    {
     "data": {
      "image/png": "[encoded data removed]",
      "text/plain": [
       "<Figure size 432x288 with 1 Axes>"
      ]
     },
     "metadata": {
      "needs_background": "light"
     },
     "output_type": "display_data"
    },
    {
     "name": "stdout",
     "output_type": "stream",
     "text": [
      "\n",
      " Traitement du cycle numéro 5\n",
      "Anomalies sur les points\n"
     ]
    },
    {
     "data": {
      "image/png": "[encoded data removed]",
      "text/plain": [
       "<Figure size 432x288 with 1 Axes>"
      ]
     },
     "metadata": {
      "needs_background": "light"
     },
     "output_type": "display_data"
    },
    {
     "name": "stdout",
     "output_type": "stream",
     "text": [
      "les anomalies sont les fenetres avec un score négatif\n"
     ]
    },
    {
     "data": {
      "image/png": "[encoded data removed]",
      "text/plain": [
       "<Figure size 432x288 with 1 Axes>"
      ]
     },
     "metadata": {
      "needs_background": "light"
     },
     "output_type": "display_data"
    }
   ],
   "source": [
    "for i in range(5):\n",
    "    print(\"\\n Traitement du cycle numéro\", str(i + 1))\n",
    "    isolation_forest_on_points(dict_df_cycles_full[i], dict_df_outliers[i])"
   ]
  },
  {
   "cell_type": "markdown",
   "id": "b461873b-a862-43cd-bc02-71d831abe679",
   "metadata": {},
   "source": [
    "On remarque une part non négligeables de fenêtres anormales, il serait intéressant de comparer ces résultats avec d'autres méthodes."
   ]
  },
  {
   "cell_type": "markdown",
   "id": "b34a74f3-3987-40ca-aef4-83b31de2d29f",
   "metadata": {},
   "source": [
    "## Local Outlier Factor"
   ]
  },
  {
   "cell_type": "raw",
   "id": "99a0132c",
   "metadata": {},
   "source": [
    "Dans cette partie, on réalise la méthode de local outlier factor avec 5 voisins sur les features Tsfresh. Nous avons au préable réduit la dimension par PCA (on garde 95%de la variance) car nous avions énormément de features (curse of dimensionality)."
   ]
  },
  {
   "cell_type": "code",
   "execution_count": 23,
   "id": "5959e56c-a79d-4c44-904f-9b73deabf5b5",
   "metadata": {},
   "outputs": [],
   "source": [
    "def pca_lof(df_cycle_1, outliers_cycle_1):\n",
    "\n",
    "    scaler = MinMaxScaler()\n",
    "    df_scaled = pd.DataFrame(\n",
    "        scaler.fit_transform(df_cycle_1), columns=df_cycle_1.columns\n",
    "    )\n",
    "\n",
    "    pca = PCA()\n",
    "    pca.fit(df_scaled)\n",
    "    kep = np.sum(1 - (np.cumsum(pca.explained_variance_ratio_) > 0.95))\n",
    "    print(\"Nombre de variables gardées dans la pca : \", kep)\n",
    "    pca = PCA(n_components=kep)\n",
    "    df_pcaed = pd.DataFrame(pca.fit_transform(df_scaled))\n",
    "\n",
    "    temp = df_pcaed.select_dtypes(exclude=[\"object\"])\n",
    "\n",
    "    clf = LocalOutlierFactor(n_neighbors=5, contamination=0.15, novelty=True)\n",
    "    clf.fit(temp.values)\n",
    "\n",
    "    print(\n",
    "        \"Histogramme des scores donnés par le LOF, les anomalies sont les scores négatifs\"\n",
    "    )\n",
    "    sns.histplot(clf.decision_function(temp.values))\n",
    "    plt.show()\n",
    "\n",
    "    outliers_cycle_1[\"LOF\"] = np.where(clf.decision_function(temp.values) > 0, 0, 1)"
   ]
  },
  {
   "cell_type": "code",
   "execution_count": 24,
   "id": "6e2df154-8633-4d04-9a05-b6f75b312bed",
   "metadata": {},
   "outputs": [
    {
     "name": "stdout",
     "output_type": "stream",
     "text": [
      "\n",
      " Traitement du cycle numéro 1\n",
      "Nombre de variables gardées dans la pca :  197\n",
      "Histogramme des scores donnés par le LOF, les anomalies sont les scores négatifs\n"
     ]
    },
    {
     "data": {
      "image/png": "[encoded data removed]",
      "text/plain": [
       "<Figure size 432x288 with 1 Axes>"
      ]
     },
     "metadata": {
      "needs_background": "light"
     },
     "output_type": "display_data"
    },
    {
     "name": "stdout",
     "output_type": "stream",
     "text": [
      "\n",
      " Traitement du cycle numéro 2\n",
      "Nombre de variables gardées dans la pca :  206\n",
      "Histogramme des scores donnés par le LOF, les anomalies sont les scores négatifs\n"
     ]
    },
    {
     "data": {
      "image/png": "[encoded data removed]",
      "text/plain": [
       "<Figure size 432x288 with 1 Axes>"
      ]
     },
     "metadata": {
      "needs_background": "light"
     },
     "output_type": "display_data"
    },
    {
     "name": "stdout",
     "output_type": "stream",
     "text": [
      "\n",
      " Traitement du cycle numéro 3\n",
      "Nombre de variables gardées dans la pca :  175\n",
      "Histogramme des scores donnés par le LOF, les anomalies sont les scores négatifs\n"
     ]
    },
    {
     "data": {
      "image/png": "[encoded data removed]",
      "text/plain": [
       "<Figure size 432x288 with 1 Axes>"
      ]
     },
     "metadata": {
      "needs_background": "light"
     },
     "output_type": "display_data"
    },
    {
     "name": "stdout",
     "output_type": "stream",
     "text": [
      "\n",
      " Traitement du cycle numéro 4\n",
      "Nombre de variables gardées dans la pca :  95\n",
      "Histogramme des scores donnés par le LOF, les anomalies sont les scores négatifs\n"
     ]
    },
    {
     "data": {
      "image/png": "[encoded data removed]",
      "text/plain": [
       "<Figure size 432x288 with 1 Axes>"
      ]
     },
     "metadata": {
      "needs_background": "light"
     },
     "output_type": "display_data"
    },
    {
     "name": "stdout",
     "output_type": "stream",
     "text": [
      "\n",
      " Traitement du cycle numéro 5\n",
      "Nombre de variables gardées dans la pca :  44\n",
      "Histogramme des scores donnés par le LOF, les anomalies sont les scores négatifs\n"
     ]
    },
    {
     "data": {
      "image/png": "[encoded data removed]",
      "text/plain": [
       "<Figure size 432x288 with 1 Axes>"
      ]
     },
     "metadata": {
      "needs_background": "light"
     },
     "output_type": "display_data"
    }
   ],
   "source": [
    "for i in range(5):\n",
    "    print(\"\\n Traitement du cycle numéro\", str(i + 1))\n",
    "    pca_lof(dict_df_cycles[i], dict_df_outliers[i])"
   ]
  },
  {
   "cell_type": "markdown",
   "id": "85ce9d43-2aba-4821-8350-d4ad8ba8887a",
   "metadata": {},
   "source": [
    "## Raw data and Isolation Forest"
   ]
  },
  {
   "cell_type": "markdown",
   "id": "8e2cb94e-fddb-4fb9-8807-06a06f5a8785",
   "metadata": {},
   "source": [
    "Ici nous appliquons la méthode d'isolation forest sur les données tsfresh."
   ]
  },
  {
   "cell_type": "code",
   "execution_count": 25,
   "id": "7a7fb06c-24ba-459f-b18e-9081185e9e18",
   "metadata": {},
   "outputs": [],
   "source": [
    "def raw_IF(df_cycle_1, outliers_cycle_1):\n",
    "    df_cycle = df_cycle_1.copy()\n",
    "    iforest = IsolationForest(random_state=2, max_features=10)\n",
    "    pred = iforest.fit_predict(df_cycle_1)\n",
    "    df_cycle[\"scores\"] = iforest.decision_function(df_cycle_1)\n",
    "    df_cycle[\"anomaly_label\"] = pred\n",
    "\n",
    "    df_cycle[\"anomaly\"] = df_cycle[\"anomaly_label\"].apply(\n",
    "        lambda x: \"outlier\" if x == -1 else \"inlier\"\n",
    "    )\n",
    "    fig = sns.histplot(data=df_cycle, x=\"scores\", hue=\"anomaly\")\n",
    "    plt.show()\n",
    "    df_cycle.drop(columns=[\"anomaly\"], inplace=True)\n",
    "\n",
    "    outliers_cycle_1[\"RF\"] = np.where(df_cycle[\"scores\"] > 0, 0, 1)"
   ]
  },
  {
   "cell_type": "code",
   "execution_count": 26,
   "id": "d9f3cd4a-5a48-48b8-b611-cc2d1816673d",
   "metadata": {},
   "outputs": [
    {
     "name": "stdout",
     "output_type": "stream",
     "text": [
      "\n",
      " Traitement du cycle numéro 1\n"
     ]
    },
    {
     "data": {
      "image/png": "[encoded data removed]",
      "text/plain": [
       "<Figure size 432x288 with 1 Axes>"
      ]
     },
     "metadata": {
      "needs_background": "light"
     },
     "output_type": "display_data"
    },
    {
     "name": "stdout",
     "output_type": "stream",
     "text": [
      "\n",
      " Traitement du cycle numéro 2\n"
     ]
    },
    {
     "data": {
      "image/png": "[encoded data removed]",
      "text/plain": [
       "<Figure size 432x288 with 1 Axes>"
      ]
     },
     "metadata": {
      "needs_background": "light"
     },
     "output_type": "display_data"
    },
    {
     "name": "stdout",
     "output_type": "stream",
     "text": [
      "\n",
      " Traitement du cycle numéro 3\n"
     ]
    },
    {
     "data": {
      "image/png": "[encoded data removed]",
      "text/plain": [
       "<Figure size 432x288 with 1 Axes>"
      ]
     },
     "metadata": {
      "needs_background": "light"
     },
     "output_type": "display_data"
    },
    {
     "name": "stdout",
     "output_type": "stream",
     "text": [
      "\n",
      " Traitement du cycle numéro 4\n"
     ]
    },
    {
     "data": {
      "image/png": "[encoded data removed]",
      "text/plain": [
       "<Figure size 432x288 with 1 Axes>"
      ]
     },
     "metadata": {
      "needs_background": "light"
     },
     "output_type": "display_data"
    },
    {
     "name": "stdout",
     "output_type": "stream",
     "text": [
      "\n",
      " Traitement du cycle numéro 5\n"
     ]
    },
    {
     "data": {
      "image/png": "[encoded data removed]",
      "text/plain": [
       "<Figure size 432x288 with 1 Axes>"
      ]
     },
     "metadata": {
      "needs_background": "light"
     },
     "output_type": "display_data"
    }
   ],
   "source": [
    "for i in range(5):\n",
    "    print(\"\\n Traitement du cycle numéro\", str(i + 1))\n",
    "    raw_IF(dict_df_cycles[i], dict_df_outliers[i])"
   ]
  },
  {
   "cell_type": "markdown",
   "id": "dd233b46-04ef-4d4d-9195-6cfeed12fb4c",
   "metadata": {},
   "source": [
    "# MAD"
   ]
  },
  {
   "cell_type": "markdown",
   "id": "58440a68-b959-4059-91da-1ac3c026fb4a",
   "metadata": {},
   "source": [
    "Ici on s'intéresse aux écart à la médiane (MAD) pour chaque variable (pour être plus robuste aux outliers). On somme ensuite ces écarts pour chaque fenêtre en ayant au préalable normaliser les écarts pour chaque individus. Cela nous permet d'avoir une idée globale et non par variable de à quel point une fenêtre diffère de la normale.\n",
    "\n",
    "On peut ensuite visualiser sur un histogramme leur répartition. Nous décidons que la limite entre des potentielles outliers et le groupe central de la distributiuon centré autour de 0 est un écart type. Donc on considère comme outlier toutes fenêtres dont la somme des écarts à la médiane centré réduits est supérieur à l'écart type de la distribution."
   ]
  },
  {
   "cell_type": "code",
   "execution_count": 27,
   "id": "3be15126-6dac-42ff-8c3e-ba81f7fb7784",
   "metadata": {},
   "outputs": [],
   "source": [
    "def mad(df_cycle_1, outliers_cycle_1):\n",
    "    non_binary = df_cycle_1.apply(lambda x: x.nunique()) > 5\n",
    "    col_intersting = non_binary[non_binary == True].drop([\"window\"])\n",
    "    df_cycle_1_mad = df_cycle_1[col_intersting.index]\n",
    "\n",
    "    def MAD(col):\n",
    "        med = col.median()\n",
    "        mad = (col - med).abs().median()\n",
    "\n",
    "        anomalies = col - med\n",
    "        return anomalies.copy()\n",
    "\n",
    "    mad = df_cycle_1_mad.apply(MAD)\n",
    "    normalized_mad = (mad - mad.mean()) / mad.std()\n",
    "    temp = normalized_mad.sum(axis=1)\n",
    "    anomalie = (\n",
    "        temp - temp.std()\n",
    "    )  # on place arbitrairement la limite entre anomalies et pas anomalies à zéro\n",
    "\n",
    "    print(\"Les anomalies se situent à droite du trait rouge\")\n",
    "    sns.histplot(anomalie)\n",
    "    plt.axvline(x=0, color=\"r\")\n",
    "    plt.show()\n",
    "\n",
    "    outliers_cycle_1[\"MAD\"] = np.where(anomalie < 0, 0, 1)"
   ]
  },
  {
   "cell_type": "code",
   "execution_count": 28,
   "id": "0cc18d1a-d4b9-4abe-b9e5-a16c8e34c063",
   "metadata": {},
   "outputs": [
    {
     "name": "stdout",
     "output_type": "stream",
     "text": [
      "\n",
      " Traitement du cycle numéro 1\n",
      "Les anomalies se situent à droite du trait rouge\n"
     ]
    },
    {
     "data": {
      "image/png": "[encoded data removed]",
      "text/plain": [
       "<Figure size 432x288 with 1 Axes>"
      ]
     },
     "metadata": {
      "needs_background": "light"
     },
     "output_type": "display_data"
    },
    {
     "name": "stdout",
     "output_type": "stream",
     "text": [
      "\n",
      " Traitement du cycle numéro 2\n",
      "Les anomalies se situent à droite du trait rouge\n"
     ]
    },
    {
     "data": {
      "image/png": "[encoded data removed]",
      "text/plain": [
       "<Figure size 432x288 with 1 Axes>"
      ]
     },
     "metadata": {
      "needs_background": "light"
     },
     "output_type": "display_data"
    },
    {
     "name": "stdout",
     "output_type": "stream",
     "text": [
      "\n",
      " Traitement du cycle numéro 3\n",
      "Les anomalies se situent à droite du trait rouge\n"
     ]
    },
    {
     "data": {
      "image/png": "[encoded data removed]",
      "text/plain": [
       "<Figure size 432x288 with 1 Axes>"
      ]
     },
     "metadata": {
      "needs_background": "light"
     },
     "output_type": "display_data"
    },
    {
     "name": "stdout",
     "output_type": "stream",
     "text": [
      "\n",
      " Traitement du cycle numéro 4\n",
      "Les anomalies se situent à droite du trait rouge\n"
     ]
    },
    {
     "data": {
      "image/png": "[encoded data removed]",
      "text/plain": [
       "<Figure size 432x288 with 1 Axes>"
      ]
     },
     "metadata": {
      "needs_background": "light"
     },
     "output_type": "display_data"
    },
    {
     "name": "stdout",
     "output_type": "stream",
     "text": [
      "\n",
      " Traitement du cycle numéro 5\n",
      "Les anomalies se situent à droite du trait rouge\n"
     ]
    },
    {
     "data": {
      "image/png": "[encoded data removed]",
      "text/plain": [
       "<Figure size 432x288 with 1 Axes>"
      ]
     },
     "metadata": {
      "needs_background": "light"
     },
     "output_type": "display_data"
    }
   ],
   "source": [
    "for i in range(5):\n",
    "    print(\"\\n Traitement du cycle numéro\", str(i + 1))\n",
    "    mad(dict_df_cycles[i], dict_df_outliers[i])"
   ]
  },
  {
   "cell_type": "markdown",
   "id": "75b509cb-4e14-486c-a81b-fc606aba3872",
   "metadata": {},
   "source": [
    "# Résultats"
   ]
  },
  {
   "cell_type": "code",
   "execution_count": 29,
   "id": "af81549f-d8d2-4460-887d-a42d17feb7b4",
   "metadata": {},
   "outputs": [],
   "source": [
    "results = pd.concat(\n",
    "    [dict_df_outliers[i] for i in range(5)]\n",
    ")"
   ]
  },
  {
   "cell_type": "code",
   "execution_count": 30,
   "id": "95d4fcee-83d2-4430-b615-500c1d30b9fa",
   "metadata": {},
   "outputs": [
    {
     "data": {
      "text/plain": [
       "Index(['1_1_1', '1_1_2', '1_1_3', '1_1_4', '1_1_5', '1_1_6', '1_1_62',\n",
       "       '1_1_68', '2_1_1', '2_1_126',\n",
       "       ...\n",
       "       '1_5_64', '1_5_65', '1_5_66', '1_5_67', '1_5_68', '1_5_69', '1_5_70',\n",
       "       '1_5_92', '1_5_93', '1_5_94'],\n",
       "      dtype='object', name='index', length=123)"
      ]
     },
     "execution_count": 30,
     "metadata": {},
     "output_type": "execute_result"
    }
   ],
   "source": [
    "windows_anomalies=results[results.sum(axis=1) > 1].index\n",
    "windows_anomalies"
   ]
  },
  {
   "cell_type": "code",
   "execution_count": 31,
   "id": "6ffa50f6-b410-4f8c-ad53-91046898173b",
   "metadata": {},
   "outputs": [
    {
     "data": {
      "text/plain": [
       "123"
      ]
     },
     "execution_count": 31,
     "metadata": {},
     "output_type": "execute_result"
    }
   ],
   "source": [
    "len(windows_anomalies)"
   ]
  },
  {
   "cell_type": "code",
   "execution_count": 32,
   "id": "dc3d0c68-4b46-42e8-b5c5-c149263f3125",
   "metadata": {},
   "outputs": [
    {
     "ename": "NameError",
     "evalue": "name 'results_cycle_1' is not defined",
     "output_type": "error",
     "traceback": [
      "\u001b[0;31m---------------------------------------------------------------------------\u001b[0m",
      "\u001b[0;31mNameError\u001b[0m                                 Traceback (most recent call last)",
      "\u001b[0;32m/tmp/ipykernel_436/4167470025.py\u001b[0m in \u001b[0;36m<module>\u001b[0;34m\u001b[0m\n\u001b[0;32m----> 1\u001b[0;31m \u001b[0mnp\u001b[0m\u001b[0;34m.\u001b[0m\u001b[0mmean\u001b[0m\u001b[0;34m(\u001b[0m\u001b[0mresults_cycle_1\u001b[0m\u001b[0;34m.\u001b[0m\u001b[0msum\u001b[0m\u001b[0;34m(\u001b[0m\u001b[0maxis\u001b[0m\u001b[0;34m=\u001b[0m\u001b[0;36m1\u001b[0m\u001b[0;34m)\u001b[0m \u001b[0;34m>\u001b[0m \u001b[0;36m1\u001b[0m\u001b[0;34m)\u001b[0m\u001b[0;34m\u001b[0m\u001b[0;34m\u001b[0m\u001b[0m\n\u001b[0m",
      "\u001b[0;31mNameError\u001b[0m: name 'results_cycle_1' is not defined"
     ]
    }
   ],
   "source": [
    "np.mean(results_cycle_1.sum(axis=1) > 1)"
   ]
  },
  {
   "cell_type": "code",
   "execution_count": null,
   "id": "0416707d-3102-43d9-ac55-3d828407aa13",
   "metadata": {},
   "outputs": [],
   "source": [
    "results_cycle_1"
   ]
  },
  {
   "cell_type": "markdown",
   "id": "204df667-dd41-41aa-b5a5-5ac52c878e4b",
   "metadata": {},
   "source": [
    "Pour avoir une idée un peu plus robuste, de quelle fenetre est une anomalie nous gardons seulement les fenêtre qui ont été predis comme anormales par au moins 2 méthodes. "
   ]
  },
  {
   "cell_type": "code",
   "execution_count": null,
   "id": "5d54bcd9",
   "metadata": {},
   "outputs": [],
   "source": [
    "fenetres "
   ]
  },
  {
   "cell_type": "markdown",
   "id": "4523361e",
   "metadata": {},
   "source": [
    "# Conclusion"
   ]
  },
  {
   "cell_type": "markdown",
   "id": "734b1bdf",
   "metadata": {},
   "source": [
    "Après nettoyage, analyse et prédictions, nous avons trouvé les fenêtres qui ont l'air statistiquement anormales. Toutefois, sans en connaitre plus sur le contexte et la signification des variables, il parait difficile d'évaluer la justesse de nos résultats."
   ]
  },
  {
   "cell_type": "markdown",
   "id": "359e72f4",
   "metadata": {},
   "source": [
    "C'est pour cela que nous deandons au clients une vérification métier de ces anomalies. Ayant une réelle connaissance du secteur, il pourra approuver nos résultats. Dans le cas contraire, un retour de sa part nous permettra d'affiner nos modèles qui seront alors plus pertinent pour le jeu de données. Nous affichons plusieurs fenêtres que nous avons classifier d'anormales."
   ]
  },
  {
   "cell_type": "code",
   "execution_count": null,
   "id": "62e42b0c",
   "metadata": {},
   "outputs": [],
   "source": [
    "#Affichages des fenêtres outliers"
   ]
  },
  {
   "cell_type": "markdown",
   "id": "3828ca5d",
   "metadata": {},
   "source": [
    "Une autre possibilité serait de demander au client de classifier \"à la main\" une petite partie des fenetres, cela nous permettrait d'avoir un eidée plus clair sur la normalité des données."
   ]
  }
 ],
 "metadata": {
  "kernelspec": {
   "display_name": "Python 3 (ipykernel)",
   "language": "python",
   "name": "python3"
  },
  "language_info": {
   "codemirror_mode": {
    "name": "ipython",
    "version": 3
   },
   "file_extension": ".py",
   "mimetype": "text/x-python",
   "name": "python",
   "nbconvert_exporter": "python",
   "pygments_lexer": "ipython3",
   "version": "3.8.11"
  }
 },
 "nbformat": 4,
 "nbformat_minor": 5
}

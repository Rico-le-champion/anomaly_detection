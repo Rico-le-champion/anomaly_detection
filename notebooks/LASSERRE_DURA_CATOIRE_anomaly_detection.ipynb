{
 "cells": [
  {
   "cell_type": "markdown",
   "id": "36315720-838f-49bc-b0b9-10d106dd6b6e",
   "metadata": {},
   "source": [
    "# Import des librairies"
   ]
  },
  {
   "cell_type": "code",
   "execution_count": 1,
   "id": "18d5ed96-c4d7-4c41-81ef-6f23039af6ff",
   "metadata": {},
   "outputs": [],
   "source": [
    "import pandas as pd\n",
    "import numpy as np\n",
    "import matplotlib.pyplot as plt\n",
    "import seaborn as sns\n",
    "from sklearn.ensemble import IsolationForest\n",
    "from sklearn.neighbors import LocalOutlierFactor\n",
    "from sklearn.decomposition import PCA\n",
    "from sklearn.preprocessing import MinMaxScaler\n",
    "import seaborn as sns"
   ]
  },
  {
   "cell_type": "markdown",
   "id": "6ca3eda0-b804-495e-8bd9-fbc024758091",
   "metadata": {},
   "source": [
    "# Chargement des données"
   ]
  },
  {
   "cell_type": "code",
   "execution_count": 2,
   "id": "ae23ecd7-ac57-45f6-b1c1-591c36f1500b",
   "metadata": {},
   "outputs": [],
   "source": [
    "df_full = pd.read_csv(\"../data/dataset.csv\")\n",
    "\n",
    "\n",
    "df = pd.read_csv(\"../data/tsfresh_data_cleaned.csv\")\n",
    "df.drop(columns={\"Unnamed: 0\"}, inplace=True)\n",
    "\n",
    "\n",
    "outliers_predictions = pd.DataFrame()\n",
    "outliers_predictions.index = df[\"index\"]\n"
   ]
  },
  {
   "cell_type": "markdown",
   "id": "a7d2846c",
   "metadata": {},
   "source": [
    "On charge deux jeux de données: \n",
    "    \n",
    "    \n",
    "   * le premier \"df_full\" correspond simplement aux données fournies par le client sans traitement. \n",
    "   \n",
    "    \n",
    "   * Le deuxieme \"df\", plus complexe, correspond à un jeu de données de variables extrait via la librairie tsfresh. Tsfresh est une librairie qui permet d'extraire des milliers de features d'un jeu de données automatiquement. Pour des raisons de lisibilité et de temps de calcul, ce jeu de données a été crée dans le notebook \"create Tsfresh\" dans le dossier \"notebook\". Evidemment de nombreux features ne sont pas utiles dans notre cas ou se répetent, nous nettoyons ce dataset dans la suite. Chaque ligne correspond agrège les informations d'une \"window\".\n",
    "    "
   ]
  },
  {
   "cell_type": "markdown",
   "id": "de0cdb08-6d0b-4a10-af32-7d72b5ed1b51",
   "metadata": {},
   "source": [
    "# Nettoyage des données"
   ]
  },
  {
   "cell_type": "markdown",
   "id": "2283f324-4196-4ddc-b555-7fa92a8c0cf2",
   "metadata": {},
   "source": [
    "Tout d'abord, on enlève toutes les variables qui sont trop corrélées entre elles dans la table créée grâce à Tsfresh. On considère qu'une corrélation de plus de 0.9 signifie que les variables apportent sensiblement la même quantité d'information. Nous retirons donc ces variables."
   ]
  },
  {
   "cell_type": "code",
   "execution_count": 3,
   "id": "2535d6b3-57e2-4257-a4fd-7f3e4683aa9c",
   "metadata": {},
   "outputs": [],
   "source": [
    "corr = df.corr()  # calcul de la matrice de corrélation\n",
    "for col in corr.columns:\n",
    "    if len(corr[corr[col] == 1]) > 0.9:\n",
    "        temp = corr[corr[col] == 1]\n",
    "        to_be_removed = temp.index.tolist()\n",
    "        to_be_removed.remove(to_be_removed[0])\n",
    "\n",
    "        try:\n",
    "            df.drop(columns=to_be_removed, inplace=True)\n",
    "        except:\n",
    "            pass"
   ]
  },
  {
   "cell_type": "markdown",
   "id": "51c9bc0b-fb57-4e49-9edc-c7bbbf1265f2",
   "metadata": {},
   "source": [
    "Ici, on rajoute des variables qui seront utiles dans la suite du notebook."
   ]
  },
  {
   "cell_type": "code",
   "execution_count": 4,
   "id": "cc1d6e69-a0eb-45d3-b8d1-a418f371cc3a",
   "metadata": {},
   "outputs": [],
   "source": [
    "def cycle(x):\n",
    "    return (\n",
    "        x[\"day_cycle_window\"].split(\"_\")[0] + \"_\" + x[\"day_cycle_window\"].split(\"_\")[1]\n",
    "    )"
   ]
  },
  {
   "cell_type": "code",
   "execution_count": 5,
   "id": "3b292ccd-b2af-4739-8a70-752924c965b4",
   "metadata": {},
   "outputs": [
    {
     "data": {
      "text/html": [
       "<div>\n",
       "<style scoped>\n",
       "    .dataframe tbody tr th:only-of-type {\n",
       "        vertical-align: middle;\n",
       "    }\n",
       "\n",
       "    .dataframe tbody tr th {\n",
       "        vertical-align: top;\n",
       "    }\n",
       "\n",
       "    .dataframe thead th {\n",
       "        text-align: right;\n",
       "    }\n",
       "</style>\n",
       "<table border=\"1\" class=\"dataframe\">\n",
       "  <thead>\n",
       "    <tr style=\"text-align: right;\">\n",
       "      <th></th>\n",
       "      <th>day_cycle_window</th>\n",
       "      <th>p1</th>\n",
       "      <th>p2</th>\n",
       "      <th>p3</th>\n",
       "      <th>p4</th>\n",
       "      <th>p5</th>\n",
       "      <th>p6</th>\n",
       "      <th>p7</th>\n",
       "      <th>p8</th>\n",
       "      <th>p9</th>\n",
       "      <th>p10</th>\n",
       "      <th>p11</th>\n",
       "      <th>code</th>\n",
       "    </tr>\n",
       "  </thead>\n",
       "  <tbody>\n",
       "    <tr>\n",
       "      <th>0</th>\n",
       "      <td>1_1_1</td>\n",
       "      <td>-0.805191</td>\n",
       "      <td>-1.141993</td>\n",
       "      <td>-1.328327</td>\n",
       "      <td>-1.516693</td>\n",
       "      <td>-1.373962</td>\n",
       "      <td>-0.80827</td>\n",
       "      <td>-1.070547</td>\n",
       "      <td>-0.504352</td>\n",
       "      <td>2.807146</td>\n",
       "      <td>0.495528</td>\n",
       "      <td>-1.246737</td>\n",
       "      <td>1_1</td>\n",
       "    </tr>\n",
       "    <tr>\n",
       "      <th>1</th>\n",
       "      <td>1_1_1</td>\n",
       "      <td>-0.805191</td>\n",
       "      <td>-1.134902</td>\n",
       "      <td>-1.320393</td>\n",
       "      <td>-1.505848</td>\n",
       "      <td>-1.361560</td>\n",
       "      <td>-0.80784</td>\n",
       "      <td>-1.064212</td>\n",
       "      <td>-0.516000</td>\n",
       "      <td>2.894177</td>\n",
       "      <td>0.494467</td>\n",
       "      <td>-1.244472</td>\n",
       "      <td>1_1</td>\n",
       "    </tr>\n",
       "    <tr>\n",
       "      <th>2</th>\n",
       "      <td>1_1_1</td>\n",
       "      <td>-0.805191</td>\n",
       "      <td>-1.117304</td>\n",
       "      <td>-1.307167</td>\n",
       "      <td>-1.505848</td>\n",
       "      <td>-1.361560</td>\n",
       "      <td>-0.80784</td>\n",
       "      <td>-1.064212</td>\n",
       "      <td>-0.516000</td>\n",
       "      <td>2.981904</td>\n",
       "      <td>0.429370</td>\n",
       "      <td>-1.244472</td>\n",
       "      <td>1_1</td>\n",
       "    </tr>\n",
       "    <tr>\n",
       "      <th>3</th>\n",
       "      <td>1_1_1</td>\n",
       "      <td>-0.814231</td>\n",
       "      <td>-1.114206</td>\n",
       "      <td>-1.287593</td>\n",
       "      <td>-1.442302</td>\n",
       "      <td>-1.287565</td>\n",
       "      <td>-0.80784</td>\n",
       "      <td>-1.045557</td>\n",
       "      <td>-0.516000</td>\n",
       "      <td>3.063298</td>\n",
       "      <td>0.348056</td>\n",
       "      <td>-1.244472</td>\n",
       "      <td>1_1</td>\n",
       "    </tr>\n",
       "    <tr>\n",
       "      <th>4</th>\n",
       "      <td>1_1_1</td>\n",
       "      <td>-0.848104</td>\n",
       "      <td>-1.112276</td>\n",
       "      <td>-1.285393</td>\n",
       "      <td>-1.429076</td>\n",
       "      <td>-1.270722</td>\n",
       "      <td>-0.80784</td>\n",
       "      <td>-1.017575</td>\n",
       "      <td>-0.664906</td>\n",
       "      <td>3.049237</td>\n",
       "      <td>0.118828</td>\n",
       "      <td>-1.270237</td>\n",
       "      <td>1_1</td>\n",
       "    </tr>\n",
       "  </tbody>\n",
       "</table>\n",
       "</div>"
      ],
      "text/plain": [
       "  day_cycle_window        p1        p2        p3        p4        p5       p6  \\\n",
       "0            1_1_1 -0.805191 -1.141993 -1.328327 -1.516693 -1.373962 -0.80827   \n",
       "1            1_1_1 -0.805191 -1.134902 -1.320393 -1.505848 -1.361560 -0.80784   \n",
       "2            1_1_1 -0.805191 -1.117304 -1.307167 -1.505848 -1.361560 -0.80784   \n",
       "3            1_1_1 -0.814231 -1.114206 -1.287593 -1.442302 -1.287565 -0.80784   \n",
       "4            1_1_1 -0.848104 -1.112276 -1.285393 -1.429076 -1.270722 -0.80784   \n",
       "\n",
       "         p7        p8        p9       p10       p11 code  \n",
       "0 -1.070547 -0.504352  2.807146  0.495528 -1.246737  1_1  \n",
       "1 -1.064212 -0.516000  2.894177  0.494467 -1.244472  1_1  \n",
       "2 -1.064212 -0.516000  2.981904  0.429370 -1.244472  1_1  \n",
       "3 -1.045557 -0.516000  3.063298  0.348056 -1.244472  1_1  \n",
       "4 -1.017575 -0.664906  3.049237  0.118828 -1.270237  1_1  "
      ]
     },
     "execution_count": 5,
     "metadata": {},
     "output_type": "execute_result"
    }
   ],
   "source": [
    "# on crée ici une colonne code, ce qui sera utile plus tard dans le notebook, \n",
    "#et qui caractérise chaque association jour - cycle\n",
    "df_full[\"code\"] = df_full.apply(cycle, axis=1)\n",
    "df_full.head()"
   ]
  },
  {
   "cell_type": "code",
   "execution_count": 6,
   "id": "27b6526f-0922-43bd-9498-5f0ddec874d0",
   "metadata": {},
   "outputs": [
    {
     "data": {
      "text/html": [
       "<div>\n",
       "<style scoped>\n",
       "    .dataframe tbody tr th:only-of-type {\n",
       "        vertical-align: middle;\n",
       "    }\n",
       "\n",
       "    .dataframe tbody tr th {\n",
       "        vertical-align: top;\n",
       "    }\n",
       "\n",
       "    .dataframe thead th {\n",
       "        text-align: right;\n",
       "    }\n",
       "</style>\n",
       "<table border=\"1\" class=\"dataframe\">\n",
       "  <thead>\n",
       "    <tr style=\"text-align: right;\">\n",
       "      <th></th>\n",
       "      <th>day_cycle_window</th>\n",
       "      <th>p1__variance_larger_than_standard_deviation</th>\n",
       "      <th>p1__has_duplicate_max</th>\n",
       "      <th>p1__has_duplicate_min</th>\n",
       "      <th>p1__has_duplicate</th>\n",
       "      <th>p1__sum_values</th>\n",
       "      <th>p1__abs_energy</th>\n",
       "      <th>p1__mean_abs_change</th>\n",
       "      <th>p1__mean_change</th>\n",
       "      <th>p1__median</th>\n",
       "      <th>...</th>\n",
       "      <th>p11__count_below__t_0</th>\n",
       "      <th>p11__lempel_ziv_complexity__bins_2</th>\n",
       "      <th>p11__lempel_ziv_complexity__bins_3</th>\n",
       "      <th>p11__lempel_ziv_complexity__bins_5</th>\n",
       "      <th>p11__lempel_ziv_complexity__bins_10</th>\n",
       "      <th>p11__lempel_ziv_complexity__bins_100</th>\n",
       "      <th>day</th>\n",
       "      <th>cycle</th>\n",
       "      <th>window</th>\n",
       "      <th>code</th>\n",
       "    </tr>\n",
       "  </thead>\n",
       "  <tbody>\n",
       "    <tr>\n",
       "      <th>0</th>\n",
       "      <td>1_1_1</td>\n",
       "      <td>0.0</td>\n",
       "      <td>1.0</td>\n",
       "      <td>0.0</td>\n",
       "      <td>1.0</td>\n",
       "      <td>-192.614108</td>\n",
       "      <td>405.598886</td>\n",
       "      <td>0.068423</td>\n",
       "      <td>-0.010094</td>\n",
       "      <td>-1.849016</td>\n",
       "      <td>...</td>\n",
       "      <td>1.0</td>\n",
       "      <td>0.17</td>\n",
       "      <td>0.25</td>\n",
       "      <td>0.29</td>\n",
       "      <td>0.39</td>\n",
       "      <td>0.57</td>\n",
       "      <td>1</td>\n",
       "      <td>1</td>\n",
       "      <td>1</td>\n",
       "      <td>1_1</td>\n",
       "    </tr>\n",
       "    <tr>\n",
       "      <th>1</th>\n",
       "      <td>1_1_10</td>\n",
       "      <td>0.0</td>\n",
       "      <td>1.0</td>\n",
       "      <td>0.0</td>\n",
       "      <td>1.0</td>\n",
       "      <td>120.473475</td>\n",
       "      <td>151.127600</td>\n",
       "      <td>0.006904</td>\n",
       "      <td>-0.006863</td>\n",
       "      <td>1.118294</td>\n",
       "      <td>...</td>\n",
       "      <td>0.0</td>\n",
       "      <td>0.15</td>\n",
       "      <td>0.20</td>\n",
       "      <td>0.26</td>\n",
       "      <td>0.34</td>\n",
       "      <td>0.54</td>\n",
       "      <td>1</td>\n",
       "      <td>1</td>\n",
       "      <td>10</td>\n",
       "      <td>1_1</td>\n",
       "    </tr>\n",
       "    <tr>\n",
       "      <th>2</th>\n",
       "      <td>1_1_11</td>\n",
       "      <td>0.0</td>\n",
       "      <td>1.0</td>\n",
       "      <td>1.0</td>\n",
       "      <td>1.0</td>\n",
       "      <td>74.247523</td>\n",
       "      <td>56.894703</td>\n",
       "      <td>0.004179</td>\n",
       "      <td>-0.004179</td>\n",
       "      <td>0.800962</td>\n",
       "      <td>...</td>\n",
       "      <td>0.0</td>\n",
       "      <td>0.16</td>\n",
       "      <td>0.21</td>\n",
       "      <td>0.27</td>\n",
       "      <td>0.38</td>\n",
       "      <td>0.54</td>\n",
       "      <td>1</td>\n",
       "      <td>1</td>\n",
       "      <td>11</td>\n",
       "      <td>1_1</td>\n",
       "    </tr>\n",
       "    <tr>\n",
       "      <th>3</th>\n",
       "      <td>1_1_12</td>\n",
       "      <td>0.0</td>\n",
       "      <td>0.0</td>\n",
       "      <td>1.0</td>\n",
       "      <td>1.0</td>\n",
       "      <td>30.016230</td>\n",
       "      <td>9.796148</td>\n",
       "      <td>0.003210</td>\n",
       "      <td>-0.003210</td>\n",
       "      <td>0.290764</td>\n",
       "      <td>...</td>\n",
       "      <td>0.0</td>\n",
       "      <td>0.17</td>\n",
       "      <td>0.22</td>\n",
       "      <td>0.29</td>\n",
       "      <td>0.36</td>\n",
       "      <td>0.49</td>\n",
       "      <td>1</td>\n",
       "      <td>1</td>\n",
       "      <td>12</td>\n",
       "      <td>1_1</td>\n",
       "    </tr>\n",
       "    <tr>\n",
       "      <th>4</th>\n",
       "      <td>1_1_13</td>\n",
       "      <td>0.0</td>\n",
       "      <td>0.0</td>\n",
       "      <td>1.0</td>\n",
       "      <td>1.0</td>\n",
       "      <td>14.093456</td>\n",
       "      <td>1.990687</td>\n",
       "      <td>0.000239</td>\n",
       "      <td>-0.000239</td>\n",
       "      <td>0.137776</td>\n",
       "      <td>...</td>\n",
       "      <td>0.0</td>\n",
       "      <td>0.17</td>\n",
       "      <td>0.22</td>\n",
       "      <td>0.27</td>\n",
       "      <td>0.30</td>\n",
       "      <td>0.31</td>\n",
       "      <td>1</td>\n",
       "      <td>1</td>\n",
       "      <td>13</td>\n",
       "      <td>1_1</td>\n",
       "    </tr>\n",
       "  </tbody>\n",
       "</table>\n",
       "<p>5 rows × 2213 columns</p>\n",
       "</div>"
      ],
      "text/plain": [
       "  day_cycle_window  p1__variance_larger_than_standard_deviation  \\\n",
       "0            1_1_1                                          0.0   \n",
       "1           1_1_10                                          0.0   \n",
       "2           1_1_11                                          0.0   \n",
       "3           1_1_12                                          0.0   \n",
       "4           1_1_13                                          0.0   \n",
       "\n",
       "   p1__has_duplicate_max  p1__has_duplicate_min  p1__has_duplicate  \\\n",
       "0                    1.0                    0.0                1.0   \n",
       "1                    1.0                    0.0                1.0   \n",
       "2                    1.0                    1.0                1.0   \n",
       "3                    0.0                    1.0                1.0   \n",
       "4                    0.0                    1.0                1.0   \n",
       "\n",
       "   p1__sum_values  p1__abs_energy  p1__mean_abs_change  p1__mean_change  \\\n",
       "0     -192.614108      405.598886             0.068423        -0.010094   \n",
       "1      120.473475      151.127600             0.006904        -0.006863   \n",
       "2       74.247523       56.894703             0.004179        -0.004179   \n",
       "3       30.016230        9.796148             0.003210        -0.003210   \n",
       "4       14.093456        1.990687             0.000239        -0.000239   \n",
       "\n",
       "   p1__median  ...  p11__count_below__t_0  p11__lempel_ziv_complexity__bins_2  \\\n",
       "0   -1.849016  ...                    1.0                                0.17   \n",
       "1    1.118294  ...                    0.0                                0.15   \n",
       "2    0.800962  ...                    0.0                                0.16   \n",
       "3    0.290764  ...                    0.0                                0.17   \n",
       "4    0.137776  ...                    0.0                                0.17   \n",
       "\n",
       "   p11__lempel_ziv_complexity__bins_3  p11__lempel_ziv_complexity__bins_5  \\\n",
       "0                                0.25                                0.29   \n",
       "1                                0.20                                0.26   \n",
       "2                                0.21                                0.27   \n",
       "3                                0.22                                0.29   \n",
       "4                                0.22                                0.27   \n",
       "\n",
       "   p11__lempel_ziv_complexity__bins_10  p11__lempel_ziv_complexity__bins_100  \\\n",
       "0                                 0.39                                  0.57   \n",
       "1                                 0.34                                  0.54   \n",
       "2                                 0.38                                  0.54   \n",
       "3                                 0.36                                  0.49   \n",
       "4                                 0.30                                  0.31   \n",
       "\n",
       "   day  cycle  window  code  \n",
       "0    1      1       1   1_1  \n",
       "1    1      1      10   1_1  \n",
       "2    1      1      11   1_1  \n",
       "3    1      1      12   1_1  \n",
       "4    1      1      13   1_1  \n",
       "\n",
       "[5 rows x 2213 columns]"
      ]
     },
     "execution_count": 6,
     "metadata": {},
     "output_type": "execute_result"
    }
   ],
   "source": [
    "df=df.rename(columns={\"index\":\"day_cycle_window\"})\n",
    "df[\"code\"] = df.apply(cycle, axis=1)\n",
    "df.head()"
   ]
  },
  {
   "cell_type": "code",
   "execution_count": 7,
   "id": "f1824cd2-08ea-4793-bff8-bb152b571b1a",
   "metadata": {},
   "outputs": [],
   "source": [
    "def cycle_2(x):\n",
    "    return (\n",
    "        int(x[\"day_cycle_window\"].split(\"_\")[1])\n",
    "    )"
   ]
  },
  {
   "cell_type": "code",
   "execution_count": 8,
   "id": "8156bb60-83a7-4f4f-8f3a-7c3517d8435d",
   "metadata": {},
   "outputs": [],
   "source": [
    "df_full[\"cycle\"] = df_full.apply(cycle_2, axis=1)"
   ]
  },
  {
   "cell_type": "markdown",
   "id": "252d9d1b-23db-46d4-939b-f0205c7ebc5c",
   "metadata": {},
   "source": [
    "On appelera \"code\" dans la suite du fichier, l'assocation entre un cycle et une jour. par exemple le cycle 2 du jour 3 aura pour code 3_2"
   ]
  },
  {
   "cell_type": "markdown",
   "id": "034bba24",
   "metadata": {},
   "source": [
    "# Exploration des données"
   ]
  },
  {
   "cell_type": "markdown",
   "id": "0a37b3ec-a51e-491e-a73f-d775e7c2e8dd",
   "metadata": {},
   "source": [
    "On explore les données avec comme idée principale de trouver des ressemblances / différences entre les différents cycles."
   ]
  },
  {
   "cell_type": "code",
   "execution_count": 9,
   "id": "a30c0ac4",
   "metadata": {},
   "outputs": [
    {
     "data": {
      "text/html": [
       "<div>\n",
       "<style scoped>\n",
       "    .dataframe tbody tr th:only-of-type {\n",
       "        vertical-align: middle;\n",
       "    }\n",
       "\n",
       "    .dataframe tbody tr th {\n",
       "        vertical-align: top;\n",
       "    }\n",
       "\n",
       "    .dataframe thead th {\n",
       "        text-align: right;\n",
       "    }\n",
       "</style>\n",
       "<table border=\"1\" class=\"dataframe\">\n",
       "  <thead>\n",
       "    <tr style=\"text-align: right;\">\n",
       "      <th></th>\n",
       "      <th>p1</th>\n",
       "      <th>p2</th>\n",
       "      <th>p3</th>\n",
       "      <th>p4</th>\n",
       "      <th>p5</th>\n",
       "      <th>p6</th>\n",
       "      <th>p7</th>\n",
       "      <th>p8</th>\n",
       "      <th>p9</th>\n",
       "      <th>p10</th>\n",
       "      <th>p11</th>\n",
       "      <th>cycle</th>\n",
       "    </tr>\n",
       "  </thead>\n",
       "  <tbody>\n",
       "    <tr>\n",
       "      <th>count</th>\n",
       "      <td>162702.000000</td>\n",
       "      <td>162702.000000</td>\n",
       "      <td>162702.000000</td>\n",
       "      <td>162702.000000</td>\n",
       "      <td>162702.000000</td>\n",
       "      <td>162702.000000</td>\n",
       "      <td>162702.000000</td>\n",
       "      <td>162702.000000</td>\n",
       "      <td>162702.000000</td>\n",
       "      <td>162702.000000</td>\n",
       "      <td>162702.000000</td>\n",
       "      <td>162702.000000</td>\n",
       "    </tr>\n",
       "    <tr>\n",
       "      <th>mean</th>\n",
       "      <td>0.000009</td>\n",
       "      <td>0.000011</td>\n",
       "      <td>0.000031</td>\n",
       "      <td>0.000005</td>\n",
       "      <td>0.000016</td>\n",
       "      <td>-0.000005</td>\n",
       "      <td>-0.000002</td>\n",
       "      <td>0.000003</td>\n",
       "      <td>-0.000021</td>\n",
       "      <td>0.000026</td>\n",
       "      <td>0.000030</td>\n",
       "      <td>2.337716</td>\n",
       "    </tr>\n",
       "    <tr>\n",
       "      <th>std</th>\n",
       "      <td>0.999950</td>\n",
       "      <td>0.999925</td>\n",
       "      <td>0.999961</td>\n",
       "      <td>0.999925</td>\n",
       "      <td>0.999963</td>\n",
       "      <td>0.999926</td>\n",
       "      <td>0.999950</td>\n",
       "      <td>0.999949</td>\n",
       "      <td>0.997770</td>\n",
       "      <td>0.999686</td>\n",
       "      <td>0.999847</td>\n",
       "      <td>1.170402</td>\n",
       "    </tr>\n",
       "    <tr>\n",
       "      <th>min</th>\n",
       "      <td>-3.211980</td>\n",
       "      <td>-3.395387</td>\n",
       "      <td>-3.325651</td>\n",
       "      <td>-3.378450</td>\n",
       "      <td>-3.281286</td>\n",
       "      <td>-4.200181</td>\n",
       "      <td>-3.898025</td>\n",
       "      <td>-3.524957</td>\n",
       "      <td>-13.704556</td>\n",
       "      <td>-12.044778</td>\n",
       "      <td>-3.183571</td>\n",
       "      <td>1.000000</td>\n",
       "    </tr>\n",
       "    <tr>\n",
       "      <th>25%</th>\n",
       "      <td>-0.678808</td>\n",
       "      <td>-0.482716</td>\n",
       "      <td>-0.629123</td>\n",
       "      <td>-0.491585</td>\n",
       "      <td>-0.612334</td>\n",
       "      <td>-0.559023</td>\n",
       "      <td>-0.606135</td>\n",
       "      <td>-0.736398</td>\n",
       "      <td>-0.593096</td>\n",
       "      <td>-0.498480</td>\n",
       "      <td>-0.658530</td>\n",
       "      <td>1.000000</td>\n",
       "    </tr>\n",
       "    <tr>\n",
       "      <th>50%</th>\n",
       "      <td>0.041883</td>\n",
       "      <td>0.180361</td>\n",
       "      <td>0.041442</td>\n",
       "      <td>0.147397</td>\n",
       "      <td>0.117040</td>\n",
       "      <td>0.153972</td>\n",
       "      <td>0.186038</td>\n",
       "      <td>-0.012354</td>\n",
       "      <td>-0.034882</td>\n",
       "      <td>-0.257635</td>\n",
       "      <td>-0.015437</td>\n",
       "      <td>2.000000</td>\n",
       "    </tr>\n",
       "    <tr>\n",
       "      <th>75%</th>\n",
       "      <td>0.743973</td>\n",
       "      <td>0.656920</td>\n",
       "      <td>0.659246</td>\n",
       "      <td>0.636887</td>\n",
       "      <td>0.712393</td>\n",
       "      <td>0.685353</td>\n",
       "      <td>0.718237</td>\n",
       "      <td>0.802395</td>\n",
       "      <td>0.508232</td>\n",
       "      <td>0.359773</td>\n",
       "      <td>0.636740</td>\n",
       "      <td>3.000000</td>\n",
       "    </tr>\n",
       "    <tr>\n",
       "      <th>max</th>\n",
       "      <td>5.013899</td>\n",
       "      <td>6.260782</td>\n",
       "      <td>8.652950</td>\n",
       "      <td>8.359670</td>\n",
       "      <td>6.424227</td>\n",
       "      <td>5.638259</td>\n",
       "      <td>3.735957</td>\n",
       "      <td>4.667058</td>\n",
       "      <td>8.203706</td>\n",
       "      <td>5.597387</td>\n",
       "      <td>9.204384</td>\n",
       "      <td>5.000000</td>\n",
       "    </tr>\n",
       "  </tbody>\n",
       "</table>\n",
       "</div>"
      ],
      "text/plain": [
       "                  p1             p2             p3             p4  \\\n",
       "count  162702.000000  162702.000000  162702.000000  162702.000000   \n",
       "mean        0.000009       0.000011       0.000031       0.000005   \n",
       "std         0.999950       0.999925       0.999961       0.999925   \n",
       "min        -3.211980      -3.395387      -3.325651      -3.378450   \n",
       "25%        -0.678808      -0.482716      -0.629123      -0.491585   \n",
       "50%         0.041883       0.180361       0.041442       0.147397   \n",
       "75%         0.743973       0.656920       0.659246       0.636887   \n",
       "max         5.013899       6.260782       8.652950       8.359670   \n",
       "\n",
       "                  p5             p6             p7             p8  \\\n",
       "count  162702.000000  162702.000000  162702.000000  162702.000000   \n",
       "mean        0.000016      -0.000005      -0.000002       0.000003   \n",
       "std         0.999963       0.999926       0.999950       0.999949   \n",
       "min        -3.281286      -4.200181      -3.898025      -3.524957   \n",
       "25%        -0.612334      -0.559023      -0.606135      -0.736398   \n",
       "50%         0.117040       0.153972       0.186038      -0.012354   \n",
       "75%         0.712393       0.685353       0.718237       0.802395   \n",
       "max         6.424227       5.638259       3.735957       4.667058   \n",
       "\n",
       "                  p9            p10            p11          cycle  \n",
       "count  162702.000000  162702.000000  162702.000000  162702.000000  \n",
       "mean       -0.000021       0.000026       0.000030       2.337716  \n",
       "std         0.997770       0.999686       0.999847       1.170402  \n",
       "min       -13.704556     -12.044778      -3.183571       1.000000  \n",
       "25%        -0.593096      -0.498480      -0.658530       1.000000  \n",
       "50%        -0.034882      -0.257635      -0.015437       2.000000  \n",
       "75%         0.508232       0.359773       0.636740       3.000000  \n",
       "max         8.203706       5.597387       9.204384       5.000000  "
      ]
     },
     "execution_count": 9,
     "metadata": {},
     "output_type": "execute_result"
    }
   ],
   "source": [
    "# première analyse simple du jeu de données de base\n",
    "df_full.describe()"
   ]
  },
  {
   "cell_type": "markdown",
   "id": "a8466f99-a1b4-4f55-a7bc-8cf0047b00ad",
   "metadata": {},
   "source": [
    "On constate que toutes les données sont normalisées, ce qui nous prive d'une partie des informations qu'elles contiennent. On obtient donc un jeu de donnée quasi identique en apparence pour toutes les variables et tous les cycles."
   ]
  },
  {
   "cell_type": "code",
   "execution_count": 10,
   "id": "bcca8c53-9f43-42be-9137-d625965cd125",
   "metadata": {},
   "outputs": [
    {
     "data": {
      "text/html": [
       "<div>\n",
       "<style scoped>\n",
       "    .dataframe tbody tr th:only-of-type {\n",
       "        vertical-align: middle;\n",
       "    }\n",
       "\n",
       "    .dataframe tbody tr th {\n",
       "        vertical-align: top;\n",
       "    }\n",
       "\n",
       "    .dataframe thead th {\n",
       "        text-align: right;\n",
       "    }\n",
       "</style>\n",
       "<table border=\"1\" class=\"dataframe\">\n",
       "  <thead>\n",
       "    <tr style=\"text-align: right;\">\n",
       "      <th></th>\n",
       "      <th>p1</th>\n",
       "      <th>p2</th>\n",
       "      <th>p3</th>\n",
       "      <th>p4</th>\n",
       "      <th>p5</th>\n",
       "      <th>p6</th>\n",
       "      <th>p7</th>\n",
       "      <th>p8</th>\n",
       "      <th>p9</th>\n",
       "      <th>p10</th>\n",
       "      <th>p11</th>\n",
       "    </tr>\n",
       "    <tr>\n",
       "      <th>cycle</th>\n",
       "      <th></th>\n",
       "      <th></th>\n",
       "      <th></th>\n",
       "      <th></th>\n",
       "      <th></th>\n",
       "      <th></th>\n",
       "      <th></th>\n",
       "      <th></th>\n",
       "      <th></th>\n",
       "      <th></th>\n",
       "      <th></th>\n",
       "    </tr>\n",
       "  </thead>\n",
       "  <tbody>\n",
       "    <tr>\n",
       "      <th>1</th>\n",
       "      <td>0.000005</td>\n",
       "      <td>2.596622e-06</td>\n",
       "      <td>0.000008</td>\n",
       "      <td>-0.000006</td>\n",
       "      <td>-0.000005</td>\n",
       "      <td>-0.000009</td>\n",
       "      <td>0.000007</td>\n",
       "      <td>-0.000010</td>\n",
       "      <td>-0.000007</td>\n",
       "      <td>-0.000008</td>\n",
       "      <td>0.000003</td>\n",
       "    </tr>\n",
       "    <tr>\n",
       "      <th>2</th>\n",
       "      <td>0.000031</td>\n",
       "      <td>4.838205e-05</td>\n",
       "      <td>0.000079</td>\n",
       "      <td>0.000042</td>\n",
       "      <td>0.000062</td>\n",
       "      <td>0.000023</td>\n",
       "      <td>0.000022</td>\n",
       "      <td>0.000006</td>\n",
       "      <td>-0.000048</td>\n",
       "      <td>0.000074</td>\n",
       "      <td>0.000079</td>\n",
       "    </tr>\n",
       "    <tr>\n",
       "      <th>3</th>\n",
       "      <td>-0.000008</td>\n",
       "      <td>-1.715890e-05</td>\n",
       "      <td>0.000014</td>\n",
       "      <td>-0.000019</td>\n",
       "      <td>0.000002</td>\n",
       "      <td>-0.000039</td>\n",
       "      <td>-0.000041</td>\n",
       "      <td>0.000018</td>\n",
       "      <td>0.000011</td>\n",
       "      <td>0.000026</td>\n",
       "      <td>0.000017</td>\n",
       "    </tr>\n",
       "    <tr>\n",
       "      <th>4</th>\n",
       "      <td>0.000006</td>\n",
       "      <td>2.575343e-06</td>\n",
       "      <td>0.000008</td>\n",
       "      <td>-0.000004</td>\n",
       "      <td>-0.000006</td>\n",
       "      <td>0.000006</td>\n",
       "      <td>0.000002</td>\n",
       "      <td>0.000004</td>\n",
       "      <td>-0.000047</td>\n",
       "      <td>0.000017</td>\n",
       "      <td>0.000013</td>\n",
       "    </tr>\n",
       "    <tr>\n",
       "      <th>5</th>\n",
       "      <td>-0.000008</td>\n",
       "      <td>-2.457873e-08</td>\n",
       "      <td>0.000016</td>\n",
       "      <td>-0.000011</td>\n",
       "      <td>-0.000021</td>\n",
       "      <td>-0.000013</td>\n",
       "      <td>-0.000010</td>\n",
       "      <td>-0.000011</td>\n",
       "      <td>-0.000035</td>\n",
       "      <td>-0.000026</td>\n",
       "      <td>-0.000001</td>\n",
       "    </tr>\n",
       "  </tbody>\n",
       "</table>\n",
       "</div>"
      ],
      "text/plain": [
       "             p1            p2        p3        p4        p5        p6  \\\n",
       "cycle                                                                   \n",
       "1      0.000005  2.596622e-06  0.000008 -0.000006 -0.000005 -0.000009   \n",
       "2      0.000031  4.838205e-05  0.000079  0.000042  0.000062  0.000023   \n",
       "3     -0.000008 -1.715890e-05  0.000014 -0.000019  0.000002 -0.000039   \n",
       "4      0.000006  2.575343e-06  0.000008 -0.000004 -0.000006  0.000006   \n",
       "5     -0.000008 -2.457873e-08  0.000016 -0.000011 -0.000021 -0.000013   \n",
       "\n",
       "             p7        p8        p9       p10       p11  \n",
       "cycle                                                    \n",
       "1      0.000007 -0.000010 -0.000007 -0.000008  0.000003  \n",
       "2      0.000022  0.000006 -0.000048  0.000074  0.000079  \n",
       "3     -0.000041  0.000018  0.000011  0.000026  0.000017  \n",
       "4      0.000002  0.000004 -0.000047  0.000017  0.000013  \n",
       "5     -0.000010 -0.000011 -0.000035 -0.000026 -0.000001  "
      ]
     },
     "execution_count": 10,
     "metadata": {},
     "output_type": "execute_result"
    }
   ],
   "source": [
    "df_full.groupby(\"cycle\").mean()"
   ]
  },
  {
   "cell_type": "code",
   "execution_count": 11,
   "id": "42b1387c-0cea-4e0a-a2b4-fe49664cdc59",
   "metadata": {},
   "outputs": [
    {
     "data": {
      "text/html": [
       "<div>\n",
       "<style scoped>\n",
       "    .dataframe tbody tr th:only-of-type {\n",
       "        vertical-align: middle;\n",
       "    }\n",
       "\n",
       "    .dataframe tbody tr th {\n",
       "        vertical-align: top;\n",
       "    }\n",
       "\n",
       "    .dataframe thead th {\n",
       "        text-align: right;\n",
       "    }\n",
       "</style>\n",
       "<table border=\"1\" class=\"dataframe\">\n",
       "  <thead>\n",
       "    <tr style=\"text-align: right;\">\n",
       "      <th></th>\n",
       "      <th>p1</th>\n",
       "      <th>p2</th>\n",
       "      <th>p3</th>\n",
       "      <th>p4</th>\n",
       "      <th>p5</th>\n",
       "      <th>p6</th>\n",
       "      <th>p7</th>\n",
       "      <th>p8</th>\n",
       "      <th>p9</th>\n",
       "      <th>p10</th>\n",
       "      <th>p11</th>\n",
       "    </tr>\n",
       "    <tr>\n",
       "      <th>cycle</th>\n",
       "      <th></th>\n",
       "      <th></th>\n",
       "      <th></th>\n",
       "      <th></th>\n",
       "      <th></th>\n",
       "      <th></th>\n",
       "      <th></th>\n",
       "      <th></th>\n",
       "      <th></th>\n",
       "      <th></th>\n",
       "      <th></th>\n",
       "    </tr>\n",
       "  </thead>\n",
       "  <tbody>\n",
       "    <tr>\n",
       "      <th>1</th>\n",
       "      <td>0.999971</td>\n",
       "      <td>0.999952</td>\n",
       "      <td>0.999961</td>\n",
       "      <td>0.999929</td>\n",
       "      <td>0.999955</td>\n",
       "      <td>0.999945</td>\n",
       "      <td>0.999965</td>\n",
       "      <td>0.999971</td>\n",
       "      <td>0.999301</td>\n",
       "      <td>0.999756</td>\n",
       "      <td>0.999942</td>\n",
       "    </tr>\n",
       "    <tr>\n",
       "      <th>2</th>\n",
       "      <td>1.000005</td>\n",
       "      <td>1.000005</td>\n",
       "      <td>1.000075</td>\n",
       "      <td>0.999973</td>\n",
       "      <td>1.000026</td>\n",
       "      <td>0.999950</td>\n",
       "      <td>0.999984</td>\n",
       "      <td>0.999973</td>\n",
       "      <td>0.996572</td>\n",
       "      <td>0.999899</td>\n",
       "      <td>1.000033</td>\n",
       "    </tr>\n",
       "    <tr>\n",
       "      <th>3</th>\n",
       "      <td>0.999887</td>\n",
       "      <td>0.999818</td>\n",
       "      <td>0.999864</td>\n",
       "      <td>0.999882</td>\n",
       "      <td>0.999933</td>\n",
       "      <td>0.999893</td>\n",
       "      <td>0.999926</td>\n",
       "      <td>0.999924</td>\n",
       "      <td>0.995932</td>\n",
       "      <td>0.999385</td>\n",
       "      <td>0.999477</td>\n",
       "    </tr>\n",
       "    <tr>\n",
       "      <th>4</th>\n",
       "      <td>0.999968</td>\n",
       "      <td>0.999949</td>\n",
       "      <td>0.999958</td>\n",
       "      <td>0.999958</td>\n",
       "      <td>0.999968</td>\n",
       "      <td>0.999957</td>\n",
       "      <td>0.999962</td>\n",
       "      <td>0.999968</td>\n",
       "      <td>0.999974</td>\n",
       "      <td>0.999774</td>\n",
       "      <td>0.999945</td>\n",
       "    </tr>\n",
       "    <tr>\n",
       "      <th>5</th>\n",
       "      <td>0.999997</td>\n",
       "      <td>0.999996</td>\n",
       "      <td>0.999997</td>\n",
       "      <td>0.999998</td>\n",
       "      <td>1.000001</td>\n",
       "      <td>0.999996</td>\n",
       "      <td>0.999996</td>\n",
       "      <td>0.999997</td>\n",
       "      <td>0.999997</td>\n",
       "      <td>0.999539</td>\n",
       "      <td>0.999990</td>\n",
       "    </tr>\n",
       "  </tbody>\n",
       "</table>\n",
       "</div>"
      ],
      "text/plain": [
       "             p1        p2        p3        p4        p5        p6        p7  \\\n",
       "cycle                                                                         \n",
       "1      0.999971  0.999952  0.999961  0.999929  0.999955  0.999945  0.999965   \n",
       "2      1.000005  1.000005  1.000075  0.999973  1.000026  0.999950  0.999984   \n",
       "3      0.999887  0.999818  0.999864  0.999882  0.999933  0.999893  0.999926   \n",
       "4      0.999968  0.999949  0.999958  0.999958  0.999968  0.999957  0.999962   \n",
       "5      0.999997  0.999996  0.999997  0.999998  1.000001  0.999996  0.999996   \n",
       "\n",
       "             p8        p9       p10       p11  \n",
       "cycle                                          \n",
       "1      0.999971  0.999301  0.999756  0.999942  \n",
       "2      0.999973  0.996572  0.999899  1.000033  \n",
       "3      0.999924  0.995932  0.999385  0.999477  \n",
       "4      0.999968  0.999974  0.999774  0.999945  \n",
       "5      0.999997  0.999997  0.999539  0.999990  "
      ]
     },
     "execution_count": 11,
     "metadata": {},
     "output_type": "execute_result"
    }
   ],
   "source": [
    "df_full.groupby(\"cycle\").std()"
   ]
  },
  {
   "cell_type": "code",
   "execution_count": 12,
   "id": "8e47079d-8b58-49c6-b659-22d60e4032b2",
   "metadata": {},
   "outputs": [
    {
     "data": {
      "text/html": [
       "<div>\n",
       "<style scoped>\n",
       "    .dataframe tbody tr th:only-of-type {\n",
       "        vertical-align: middle;\n",
       "    }\n",
       "\n",
       "    .dataframe tbody tr th {\n",
       "        vertical-align: top;\n",
       "    }\n",
       "\n",
       "    .dataframe thead th {\n",
       "        text-align: right;\n",
       "    }\n",
       "</style>\n",
       "<table border=\"1\" class=\"dataframe\">\n",
       "  <thead>\n",
       "    <tr style=\"text-align: right;\">\n",
       "      <th></th>\n",
       "      <th>day_cycle_window</th>\n",
       "      <th>p1</th>\n",
       "      <th>p2</th>\n",
       "      <th>p3</th>\n",
       "      <th>p4</th>\n",
       "      <th>p5</th>\n",
       "      <th>p6</th>\n",
       "      <th>p7</th>\n",
       "      <th>p8</th>\n",
       "      <th>p9</th>\n",
       "      <th>p10</th>\n",
       "      <th>p11</th>\n",
       "      <th>code</th>\n",
       "    </tr>\n",
       "    <tr>\n",
       "      <th>cycle</th>\n",
       "      <th></th>\n",
       "      <th></th>\n",
       "      <th></th>\n",
       "      <th></th>\n",
       "      <th></th>\n",
       "      <th></th>\n",
       "      <th></th>\n",
       "      <th></th>\n",
       "      <th></th>\n",
       "      <th></th>\n",
       "      <th></th>\n",
       "      <th></th>\n",
       "      <th></th>\n",
       "    </tr>\n",
       "  </thead>\n",
       "  <tbody>\n",
       "    <tr>\n",
       "      <th>1</th>\n",
       "      <td>4_1_9</td>\n",
       "      <td>3.973754</td>\n",
       "      <td>5.713043</td>\n",
       "      <td>7.901281</td>\n",
       "      <td>8.359670</td>\n",
       "      <td>6.424227</td>\n",
       "      <td>5.638259</td>\n",
       "      <td>3.316650</td>\n",
       "      <td>3.351174</td>\n",
       "      <td>5.298698</td>\n",
       "      <td>3.894761</td>\n",
       "      <td>8.078495</td>\n",
       "      <td>4_1</td>\n",
       "    </tr>\n",
       "    <tr>\n",
       "      <th>2</th>\n",
       "      <td>4_2_99</td>\n",
       "      <td>5.013899</td>\n",
       "      <td>6.260782</td>\n",
       "      <td>8.652950</td>\n",
       "      <td>8.125177</td>\n",
       "      <td>5.647312</td>\n",
       "      <td>5.466831</td>\n",
       "      <td>3.735957</td>\n",
       "      <td>4.667058</td>\n",
       "      <td>6.704715</td>\n",
       "      <td>4.187271</td>\n",
       "      <td>9.204384</td>\n",
       "      <td>4_2</td>\n",
       "    </tr>\n",
       "    <tr>\n",
       "      <th>3</th>\n",
       "      <td>4_3_9</td>\n",
       "      <td>3.653069</td>\n",
       "      <td>2.762197</td>\n",
       "      <td>3.263029</td>\n",
       "      <td>2.279766</td>\n",
       "      <td>2.583843</td>\n",
       "      <td>2.554707</td>\n",
       "      <td>2.673096</td>\n",
       "      <td>2.756354</td>\n",
       "      <td>8.203706</td>\n",
       "      <td>5.597387</td>\n",
       "      <td>4.155548</td>\n",
       "      <td>4_3</td>\n",
       "    </tr>\n",
       "    <tr>\n",
       "      <th>4</th>\n",
       "      <td>4_4_99</td>\n",
       "      <td>1.850660</td>\n",
       "      <td>1.757681</td>\n",
       "      <td>1.817051</td>\n",
       "      <td>1.748211</td>\n",
       "      <td>1.767266</td>\n",
       "      <td>1.656887</td>\n",
       "      <td>1.706925</td>\n",
       "      <td>1.800247</td>\n",
       "      <td>2.781179</td>\n",
       "      <td>5.506079</td>\n",
       "      <td>1.874538</td>\n",
       "      <td>4_4</td>\n",
       "    </tr>\n",
       "    <tr>\n",
       "      <th>5</th>\n",
       "      <td>1_5_94</td>\n",
       "      <td>1.167915</td>\n",
       "      <td>1.158708</td>\n",
       "      <td>1.164610</td>\n",
       "      <td>1.159595</td>\n",
       "      <td>1.175287</td>\n",
       "      <td>1.188213</td>\n",
       "      <td>1.164331</td>\n",
       "      <td>1.170039</td>\n",
       "      <td>2.046494</td>\n",
       "      <td>2.966753</td>\n",
       "      <td>1.155134</td>\n",
       "      <td>1_5</td>\n",
       "    </tr>\n",
       "  </tbody>\n",
       "</table>\n",
       "</div>"
      ],
      "text/plain": [
       "      day_cycle_window        p1        p2        p3        p4        p5  \\\n",
       "cycle                                                                      \n",
       "1                4_1_9  3.973754  5.713043  7.901281  8.359670  6.424227   \n",
       "2               4_2_99  5.013899  6.260782  8.652950  8.125177  5.647312   \n",
       "3                4_3_9  3.653069  2.762197  3.263029  2.279766  2.583843   \n",
       "4               4_4_99  1.850660  1.757681  1.817051  1.748211  1.767266   \n",
       "5               1_5_94  1.167915  1.158708  1.164610  1.159595  1.175287   \n",
       "\n",
       "             p6        p7        p8        p9       p10       p11 code  \n",
       "cycle                                                                   \n",
       "1      5.638259  3.316650  3.351174  5.298698  3.894761  8.078495  4_1  \n",
       "2      5.466831  3.735957  4.667058  6.704715  4.187271  9.204384  4_2  \n",
       "3      2.554707  2.673096  2.756354  8.203706  5.597387  4.155548  4_3  \n",
       "4      1.656887  1.706925  1.800247  2.781179  5.506079  1.874538  4_4  \n",
       "5      1.188213  1.164331  1.170039  2.046494  2.966753  1.155134  1_5  "
      ]
     },
     "execution_count": 12,
     "metadata": {},
     "output_type": "execute_result"
    }
   ],
   "source": [
    "df_full.groupby(\"cycle\").max()"
   ]
  },
  {
   "cell_type": "markdown",
   "id": "2a6adf7d",
   "metadata": {},
   "source": [
    "On remarque que même en regardant cycle par cycle les moyennes et écarts-types ne différent pas. En revanche on voit que les maximas et minimas de chaque variable sont différents en fonction des cycles. On constate que les différents cycles semblent avoir des comportement similaires. Il serait surement intéressant d'aller plus loin dans l'analyse. Nous allons maintenant nous intéresser aux différences entre les \"codes\". Pour mieux visualiser cela, nous allons utiliser un outil de réduction de variables appelé PCA."
   ]
  },
  {
   "cell_type": "code",
   "execution_count": 13,
   "id": "f8c23fd2-cb3a-4c8c-8860-a3fcb493ab91",
   "metadata": {},
   "outputs": [],
   "source": [
    "df_var=df_full.drop(columns=[\"code\",\"day_cycle_window\"])"
   ]
  },
  {
   "cell_type": "code",
   "execution_count": 14,
   "id": "b87e4870",
   "metadata": {},
   "outputs": [
    {
     "data": {
      "image/png": "[encoded data removed]",
      "text/plain": [
       "<Figure size 432x288 with 1 Axes>"
      ]
     },
     "metadata": {
      "needs_background": "light"
     },
     "output_type": "display_data"
    }
   ],
   "source": [
    "# PCA sur le jeu de données de base\n",
    "n_components = 2\n",
    "pca = PCA(n_components=n_components)\n",
    "pca.fit(df_var)\n",
    "variance_ratio = pca.explained_variance_ratio_\n",
    "df_pca = pd.DataFrame(pca.fit_transform(df_var))\n",
    "df_pca.insert(loc=0, column=\"code\", value=df_full[\"code\"])\n",
    "plt.bar(range(n_components), variance_ratio)\n",
    "plt.title(\"% of initial variance explained by the 2 first variables found by PCA\")\n",
    "plt.show()"
   ]
  },
  {
   "cell_type": "markdown",
   "id": "b62f31c0-79a4-43ad-b255-56779ed95f3d",
   "metadata": {},
   "source": [
    "Avec ces deux premières variables on garde 70% de la variance initiale. On va maintenant visualiser les comportements des différents codes sur ces deux variables."
   ]
  },
  {
   "cell_type": "code",
   "execution_count": 15,
   "id": "a75afc84-ccdb-4232-a793-7f5cf48379a7",
   "metadata": {},
   "outputs": [
    {
     "data": {
      "image/png": "[encoded data removed]",
      "text/plain": [
       "<Figure size 720x720 with 1 Axes>"
      ]
     },
     "metadata": {
      "needs_background": "light"
     },
     "output_type": "display_data"
    },
    {
     "data": {
      "image/png": "[encoded data removed]",
      "text/plain": [
       "<Figure size 720x720 with 1 Axes>"
      ]
     },
     "metadata": {
      "needs_background": "light"
     },
     "output_type": "display_data"
    }
   ],
   "source": [
    "for j in range(2):\n",
    "    plt.figure(figsize=(10, 10))\n",
    "    data = [df_pca[df_pca.code == i][j] for i in df_pca.code.unique()]\n",
    "    plt.boxplot(data)\n",
    "    plt.xlabel(\"Code\")\n",
    "    plt.title(\" Variable \" + str(j + 1) + \" de la PCA\")\n",
    "    plt.xticks(\n",
    "        [i for i in range(len(df_pca.code.unique()))], df_pca.code.unique().tolist()\n",
    "    )\n",
    "    plt.show()"
   ]
  },
  {
   "cell_type": "markdown",
   "id": "a9d54d76",
   "metadata": {},
   "source": [
    "On peut remarquer que chaque code semble avoir un comportement différent que ce soit pour la premiere composante de la pca ou pour la deuxieme composante. \n",
    "\n",
    "On va donc traiter chaque code comme un élément indépendant et nous allons chercher au sein de chacun quelles sont les fenêtres qui nous paraissent anormales."
   ]
  },
  {
   "cell_type": "markdown",
   "id": "f7e4c48c",
   "metadata": {},
   "source": [
    "# Détection des fenêtres anormales"
   ]
  },
  {
   "cell_type": "markdown",
   "id": "03f66b55",
   "metadata": {},
   "source": [
    "Les résultats obtenues sont difficilement interprétable sans connaissance métier. De plus, sans informations supplémentaires il est difficile d'optimiser les hyperparamètres de chaque modèle, c'est pour cela que nous privilégierons des méthodes avec **peu d'hyperparamètres**. \n",
    "\n",
    "Afin de rendre notre détection robuste, nous réalisons quatre méthodes de détection d'anomalies et notre verdict sera le résultat **d'un vote** entre toutes les méthodes. Si **3 méthodes** ou plus ont détecté la fenêtre comme une anomalie alors **elle sera considéré comme une anomalie.**\n",
    "\n",
    "Pour chaque méthode nous n'afficherons pas la totalité des anomalies de chaque code par soucis de lisibilité du notebook."
   ]
  },
  {
   "cell_type": "markdown",
   "id": "0bc7601d-2cdd-4de9-af66-72f37e70330d",
   "metadata": {},
   "source": [
    "## Préparation des données"
   ]
  },
  {
   "cell_type": "markdown",
   "id": "92430117-57ed-4e2a-9d75-2cf431b04cf6",
   "metadata": {},
   "source": [
    "Nous avons vu dans l'analyse des données que selon le code, les comportements n'étaient pas les mêmes, on raisonne donc code par code.\n"
   ]
  },
  {
   "cell_type": "code",
   "execution_count": 16,
   "id": "e82fc313-c42b-4234-9c20-90d91d2190d6",
   "metadata": {},
   "outputs": [],
   "source": [
    "df.set_index(\"day_cycle_window\", drop=True, inplace=True)"
   ]
  },
  {
   "cell_type": "code",
   "execution_count": 17,
   "id": "bc09f4e4-f1e2-4db0-aa88-74d069f9c386",
   "metadata": {},
   "outputs": [],
   "source": [
    "dict_df_code = {}\n",
    "dict_df_outliers = {}\n",
    "dict_df_codes_full = {}\n",
    "for i in df[\"code\"].unique():\n",
    "    dict_df_code[i] = df[df[\"code\"] == i]\n",
    "\n",
    "    outliers_code_1 = pd.DataFrame()\n",
    "    outliers_code_1.index = dict_df_code[i].index\n",
    "    dict_df_outliers[i] = outliers_code_1\n",
    "\n",
    "    dict_df_codes_full[i] = df_full[df_full[\"code\"] == i].copy()"
   ]
  },
  {
   "cell_type": "markdown",
   "id": "e1480507-9434-4209-9f55-3295610d5c97",
   "metadata": {
    "tags": []
   },
   "source": [
    "## Isolation forest sur chaque point "
   ]
  },
  {
   "cell_type": "markdown",
   "id": "ad05e1ac-f61f-4ee6-9f52-5dc6c02dbb59",
   "metadata": {},
   "source": [
    "On utilise d'abord un algorithme d'isolation forest pour identifier parmi tous les pas de temps ceux qui sont potentiellement anormaux. On regroupe ensuite ces observations par \"window\" pour regarder si des fenêtres sortent du lot (on utilise les données bruts et non les features calculées avec Tsfresh)"
   ]
  },
  {
   "cell_type": "code",
   "execution_count": 18,
   "id": "3188a1ca-fe66-4401-8519-67aadc0046c5",
   "metadata": {},
   "outputs": [],
   "source": [
    "def isolation_forest_on_points(df_full_code, outliers_code,idx):\n",
    "\n",
    "    iforest = IsolationForest()\n",
    "    pred = iforest.fit_predict(df_full_code.values)\n",
    "    df_full_code[\"mean_scores\"] = iforest.decision_function(df_full_code.values)\n",
    "    df_full_code[\"anomaly_label\"] = pred\n",
    "\n",
    "    \n",
    "    df_full_code[\"anomaly\"] = df_full_code[\"anomaly_label\"].apply(\n",
    "        lambda x: \"outlier\" if x == -1 else \"inlier\"\n",
    "    )\n",
    "    if idx==0:\n",
    "        print(\"Anomalies sur les points\")\n",
    "        fig = sns.histplot(data=df_full_code, x=\"mean_scores\", hue=\"anomaly\")\n",
    "        plt.show()\n",
    "    df_full_code.drop(columns=[\"anomaly\"], inplace=True)\n",
    "\n",
    "    df_temp = (\n",
    "        df_full_code[[\"day_cycle_window\", \"mean_scores\"]]\n",
    "        .groupby(\"day_cycle_window\")\n",
    "        .mean()[[\"mean_scores\"]]\n",
    "    )\n",
    "    if idx ==0:\n",
    "        print(\"les anomalies sont les fenetres avec un score négatif\")\n",
    "        sns.histplot(df_temp[\"mean_scores\"])\n",
    "        plt.xlabel(\"Window mean average score\")\n",
    "        plt.show()\n",
    "    outliers_code[\"RF_on_points\"] = np.where(df_temp[\"mean_scores\"] > 0, 0, 1)"
   ]
  },
  {
   "cell_type": "code",
   "execution_count": 19,
   "id": "ca8ef250",
   "metadata": {},
   "outputs": [
    {
     "name": "stdout",
     "output_type": "stream",
     "text": [
      "\n",
      "Traitement du code numéro 1_1\n",
      "Anomalies sur les points\n"
     ]
    },
    {
     "data": {
      "image/png": "[encoded data removed]",
      "text/plain": [
       "<Figure size 432x288 with 1 Axes>"
      ]
     },
     "metadata": {
      "needs_background": "light"
     },
     "output_type": "display_data"
    },
    {
     "name": "stdout",
     "output_type": "stream",
     "text": [
      "les anomalies sont les fenetres avec un score négatif\n"
     ]
    },
    {
     "data": {
      "image/png": "[encoded data removed]",
      "text/plain": [
       "<Figure size 432x288 with 1 Axes>"
      ]
     },
     "metadata": {
      "needs_background": "light"
     },
     "output_type": "display_data"
    },
    {
     "name": "stdout",
     "output_type": "stream",
     "text": [
      "\n",
      "Traitement du code numéro 1_2\n",
      "\n",
      "Traitement du code numéro 1_3\n",
      "\n",
      "Traitement du code numéro 1_4\n",
      "\n",
      "Traitement du code numéro 1_5\n",
      "\n",
      "Traitement du code numéro 2_1\n",
      "\n",
      "Traitement du code numéro 2_2\n",
      "\n",
      "Traitement du code numéro 2_3\n",
      "\n",
      "Traitement du code numéro 3_1\n",
      "\n",
      "Traitement du code numéro 3_2\n",
      "\n",
      "Traitement du code numéro 3_3\n",
      "\n",
      "Traitement du code numéro 4_1\n",
      "\n",
      "Traitement du code numéro 4_2\n",
      "\n",
      "Traitement du code numéro 4_3\n",
      "\n",
      "Traitement du code numéro 4_4\n"
     ]
    }
   ],
   "source": [
    "for idx,i in enumerate(dict_df_codes_full.keys()):\n",
    "    print(\"\\nTraitement du code numéro\", i)\n",
    "    isolation_forest_on_points(dict_df_codes_full[i], dict_df_outliers[i],idx)"
   ]
  },
  {
   "cell_type": "markdown",
   "id": "b34a74f3-3987-40ca-aef4-83b31de2d29f",
   "metadata": {
    "tags": []
   },
   "source": [
    "## Local Outlier Factor"
   ]
  },
  {
   "cell_type": "markdown",
   "id": "ff3f0594-7f0f-442e-81fd-15c7ce8716eb",
   "metadata": {},
   "source": [
    "Dans cette partie, on réalise la méthode de local outlier factor avec 5 voisins sur les features Tsfresh. Nous avons au préalable réduit la dimension par PCA (on garde 95%de la variance) car nous avions énormément de features (curse of dimensionality)."
   ]
  },
  {
   "cell_type": "code",
   "execution_count": 20,
   "id": "5959e56c-a79d-4c44-904f-9b73deabf5b5",
   "metadata": {},
   "outputs": [],
   "source": [
    "def pca_lof(df_code, outliers_code,idx):\n",
    "\n",
    "    scaler = MinMaxScaler()\n",
    "    df_scaled = pd.DataFrame(\n",
    "        scaler.fit_transform(df_code), columns=df_code.columns\n",
    "    )\n",
    "\n",
    "    pca = PCA()\n",
    "    pca.fit(df_scaled)\n",
    "    kep = np.sum(1 - (np.cumsum(pca.explained_variance_ratio_) > 0.95))\n",
    "    print(\"Nombre de variables gardées dans la pca : \", kep)\n",
    "    pca = PCA(n_components=kep)\n",
    "    df_pcaed = pd.DataFrame(pca.fit_transform(df_scaled))\n",
    "\n",
    "    temp = df_pcaed.select_dtypes(exclude=[\"object\"])\n",
    "\n",
    "    clf = LocalOutlierFactor(n_neighbors=5, contamination=0.15, novelty=True)\n",
    "    clf.fit(temp.values)\n",
    "    if idx==0:\n",
    "        print(\n",
    "            \"Histogramme des scores donnés par le LOF, les anomalies sont les scores négatifs\"\n",
    "        )\n",
    "        sns.histplot(clf.decision_function(temp.values))\n",
    "        plt.show()\n",
    "\n",
    "    outliers_code[\"LOF\"] = np.where(clf.decision_function(temp.values) > 0, 0, 1)"
   ]
  },
  {
   "cell_type": "code",
   "execution_count": 21,
   "id": "6e2df154-8633-4d04-9a05-b6f75b312bed",
   "metadata": {},
   "outputs": [
    {
     "name": "stdout",
     "output_type": "stream",
     "text": [
      "\n",
      "Traitement du code numéro 1_1\n",
      "Nombre de variables gardées dans la pca :  33\n",
      "Histogramme des scores donnés par le LOF, les anomalies sont les scores négatifs\n"
     ]
    },
    {
     "data": {
      "image/png": "[encoded data removed]",
      "text/plain": [
       "<Figure size 432x288 with 1 Axes>"
      ]
     },
     "metadata": {
      "needs_background": "light"
     },
     "output_type": "display_data"
    },
    {
     "name": "stdout",
     "output_type": "stream",
     "text": [
      "\n",
      "Traitement du code numéro 1_2\n",
      "Nombre de variables gardées dans la pca :  117\n",
      "\n",
      "Traitement du code numéro 1_3\n",
      "Nombre de variables gardées dans la pca :  4\n",
      "\n",
      "Traitement du code numéro 1_4\n",
      "Nombre de variables gardées dans la pca :  7\n",
      "\n",
      "Traitement du code numéro 1_5\n",
      "Nombre de variables gardées dans la pca :  44\n",
      "\n",
      "Traitement du code numéro 2_1\n",
      "Nombre de variables gardées dans la pca :  118\n",
      "\n",
      "Traitement du code numéro 2_2\n",
      "Nombre de variables gardées dans la pca :  57\n",
      "\n",
      "Traitement du code numéro 2_3\n",
      "Nombre de variables gardées dans la pca :  97\n",
      "\n",
      "Traitement du code numéro 3_1\n",
      "Nombre de variables gardées dans la pca :  119\n",
      "\n",
      "Traitement du code numéro 3_2\n",
      "Nombre de variables gardées dans la pca :  39\n",
      "\n",
      "Traitement du code numéro 3_3\n",
      "Nombre de variables gardées dans la pca :  81\n",
      "\n",
      "Traitement du code numéro 4_1\n",
      "Nombre de variables gardées dans la pca :  32\n",
      "\n",
      "Traitement du code numéro 4_2\n",
      "Nombre de variables gardées dans la pca :  115\n",
      "\n",
      "Traitement du code numéro 4_3\n",
      "Nombre de variables gardées dans la pca :  49\n",
      "\n",
      "Traitement du code numéro 4_4\n",
      "Nombre de variables gardées dans la pca :  88\n"
     ]
    }
   ],
   "source": [
    "for idx,i in enumerate(dict_df_code.keys()):\n",
    "    print(\"\\nTraitement du code numéro\", i)\n",
    "    pca_lof(dict_df_code[i], dict_df_outliers[i],idx)"
   ]
  },
  {
   "cell_type": "markdown",
   "id": "5cdaac9e-98ff-4296-b733-6473152e4450",
   "metadata": {},
   "source": [
    "On constate bien que les comportements sont différents entre les codes car le nombre de variables gardées pour conserver 95% de la variance varie de 4 à 119"
   ]
  },
  {
   "cell_type": "markdown",
   "id": "85ce9d43-2aba-4821-8350-d4ad8ba8887a",
   "metadata": {
    "tags": []
   },
   "source": [
    "## Raw data and Isolation Forest"
   ]
  },
  {
   "cell_type": "markdown",
   "id": "8e2cb94e-fddb-4fb9-8807-06a06f5a8785",
   "metadata": {},
   "source": [
    "Ici nous appliquons la méthode d'isolation forest sur les données tsfresh."
   ]
  },
  {
   "cell_type": "code",
   "execution_count": 22,
   "id": "7a7fb06c-24ba-459f-b18e-9081185e9e18",
   "metadata": {},
   "outputs": [],
   "source": [
    "def raw_IF(df_code, outliers_code,idx):\n",
    "    df_cycle = df_code.copy()\n",
    "    iforest = IsolationForest(random_state=2, max_features=10)\n",
    "    pred = iforest.fit_predict(df_code)\n",
    "    df_cycle[\"scores\"] = iforest.decision_function(df_code)\n",
    "    df_cycle[\"anomaly_label\"] = pred\n",
    "\n",
    "    df_cycle[\"anomaly\"] = df_cycle[\"anomaly_label\"].apply(\n",
    "        lambda x: \"outlier\" if x == -1 else \"inlier\"\n",
    "    )\n",
    "    if idx==0:\n",
    "        fig = sns.histplot(data=df_cycle, x=\"scores\", hue=\"anomaly\")\n",
    "        plt.show()\n",
    "    df_cycle.drop(columns=[\"anomaly\"], inplace=True)\n",
    "\n",
    "    outliers_code[\"RF\"] = np.where(df_cycle[\"scores\"] > 0, 0, 1)"
   ]
  },
  {
   "cell_type": "code",
   "execution_count": 23,
   "id": "d9f3cd4a-5a48-48b8-b611-cc2d1816673d",
   "metadata": {},
   "outputs": [
    {
     "name": "stdout",
     "output_type": "stream",
     "text": [
      "\n",
      "Traitement du code numéro 1_1\n"
     ]
    },
    {
     "data": {
      "image/png": "[encoded data removed]",
      "text/plain": [
       "<Figure size 432x288 with 1 Axes>"
      ]
     },
     "metadata": {
      "needs_background": "light"
     },
     "output_type": "display_data"
    },
    {
     "name": "stdout",
     "output_type": "stream",
     "text": [
      "\n",
      "Traitement du code numéro 1_2\n",
      "\n",
      "Traitement du code numéro 1_3\n",
      "\n",
      "Traitement du code numéro 1_4\n",
      "\n",
      "Traitement du code numéro 1_5\n",
      "\n",
      "Traitement du code numéro 2_1\n",
      "\n",
      "Traitement du code numéro 2_2\n",
      "\n",
      "Traitement du code numéro 2_3\n",
      "\n",
      "Traitement du code numéro 3_1\n",
      "\n",
      "Traitement du code numéro 3_2\n",
      "\n",
      "Traitement du code numéro 3_3\n",
      "\n",
      "Traitement du code numéro 4_1\n",
      "\n",
      "Traitement du code numéro 4_2\n",
      "\n",
      "Traitement du code numéro 4_3\n",
      "\n",
      "Traitement du code numéro 4_4\n"
     ]
    }
   ],
   "source": [
    "for idx,i in enumerate(dict_df_code.keys()):\n",
    "    print(\"\\nTraitement du code numéro\", i)\n",
    "    raw_IF(dict_df_code[i], dict_df_outliers[i],idx)"
   ]
  },
  {
   "cell_type": "markdown",
   "id": "dd233b46-04ef-4d4d-9195-6cfeed12fb4c",
   "metadata": {
    "tags": []
   },
   "source": [
    "# MAD"
   ]
  },
  {
   "cell_type": "markdown",
   "id": "58440a68-b959-4059-91da-1ac3c026fb4a",
   "metadata": {},
   "source": [
    "Ici on s'intéresse aux écart à la médiane (MAD) pour chaque variable (pour être plus robuste aux outliers). On somme ensuite ces écarts pour chaque fenêtre en ayant au préalable normaliser les écarts pour chaque individus. Cela nous permet d'avoir une idée globale d'écart à la normale sans se focaliser sur une variable.\n",
    "\n",
    "On peut ensuite visualiser sur un histogramme leur répartition. Nous décidons que la limite entre des potentiels outliers et le groupe central de la distributiuon centré autour de 0 est un écart type. Nous considérons donc comme outlier toutes fenêtres dont la somme des écarts à la médiane centrés réduits est supérieur à l'écart type de la distribution."
   ]
  },
  {
   "cell_type": "code",
   "execution_count": 24,
   "id": "3be15126-6dac-42ff-8c3e-ba81f7fb7784",
   "metadata": {},
   "outputs": [],
   "source": [
    "def mad(df_code, outliers_code,idx):\n",
    "    non_binary = df_code.apply(lambda x: x.nunique()) > 5\n",
    "    col_intersting = non_binary[non_binary == True].drop([\"window\"])\n",
    "    df_code_mad = df_code[col_intersting.index]\n",
    "\n",
    "    def MAD(col):\n",
    "        med = col.median()\n",
    "        mad = (col - med).abs().median()\n",
    "\n",
    "        anomalies = col - med\n",
    "        return anomalies.copy()\n",
    "\n",
    "    mad = df_code_mad.apply(MAD)\n",
    "    normalized_mad = (mad - mad.mean()) / mad.std()\n",
    "    temp = normalized_mad.sum(axis=1)\n",
    "    anomalie = (\n",
    "        temp - temp.std()\n",
    "    )  # on place arbitrairement la limite entre anomalies et pas anomalies à zéro\n",
    "    if idx==0:\n",
    "        print(\"Les anomalies se situent à droite du trait rouge\")\n",
    "        sns.histplot(anomalie)\n",
    "        plt.axvline(x=0, color=\"r\")\n",
    "        plt.show()\n",
    "\n",
    "    outliers_code[\"MAD\"] = np.where(anomalie < 0, 0, 1)"
   ]
  },
  {
   "cell_type": "code",
   "execution_count": 25,
   "id": "0cc18d1a-d4b9-4abe-b9e5-a16c8e34c063",
   "metadata": {},
   "outputs": [
    {
     "name": "stdout",
     "output_type": "stream",
     "text": [
      "\n",
      "Traitement du code numéro 1_1\n",
      "Les anomalies se situent à droite du trait rouge\n"
     ]
    },
    {
     "data": {
      "image/png": "[encoded data removed]",
      "text/plain": [
       "<Figure size 432x288 with 1 Axes>"
      ]
     },
     "metadata": {
      "needs_background": "light"
     },
     "output_type": "display_data"
    },
    {
     "name": "stdout",
     "output_type": "stream",
     "text": [
      "\n",
      "Traitement du code numéro 1_2\n",
      "\n",
      "Traitement du code numéro 1_3\n",
      "\n",
      "Traitement du code numéro 1_4\n",
      "\n",
      "Traitement du code numéro 1_5\n",
      "\n",
      "Traitement du code numéro 2_1\n",
      "\n",
      "Traitement du code numéro 2_2\n",
      "\n",
      "Traitement du code numéro 2_3\n",
      "\n",
      "Traitement du code numéro 3_1\n",
      "\n",
      "Traitement du code numéro 3_2\n",
      "\n",
      "Traitement du code numéro 3_3\n",
      "\n",
      "Traitement du code numéro 4_1\n",
      "\n",
      "Traitement du code numéro 4_2\n",
      "\n",
      "Traitement du code numéro 4_3\n",
      "\n",
      "Traitement du code numéro 4_4\n"
     ]
    }
   ],
   "source": [
    "for idx,i in enumerate(dict_df_code.keys()):\n",
    "    print(\"\\nTraitement du code numéro\", i)\n",
    "    mad(dict_df_code[i], dict_df_outliers[i],idx)"
   ]
  },
  {
   "cell_type": "markdown",
   "id": "75b509cb-4e14-486c-a81b-fc606aba3872",
   "metadata": {},
   "source": [
    "# Résultats"
   ]
  },
  {
   "cell_type": "markdown",
   "id": "e7f4d7df-f72e-416f-afb1-fab20a0a6930",
   "metadata": {},
   "source": [
    "Avant de visualiser les résultats on les aggrège dans la même table de données."
   ]
  },
  {
   "cell_type": "code",
   "execution_count": 26,
   "id": "af81549f-d8d2-4460-887d-a42d17feb7b4",
   "metadata": {},
   "outputs": [],
   "source": [
    "results = pd.concat([dict_df_outliers[i] for i in dict_df_code.keys()])"
   ]
  },
  {
   "cell_type": "code",
   "execution_count": 27,
   "id": "91f8c3a8-91c6-441b-bc1e-3c5cd4fbd5dd",
   "metadata": {},
   "outputs": [
    {
     "data": {
      "text/html": [
       "<div>\n",
       "<style scoped>\n",
       "    .dataframe tbody tr th:only-of-type {\n",
       "        vertical-align: middle;\n",
       "    }\n",
       "\n",
       "    .dataframe tbody tr th {\n",
       "        vertical-align: top;\n",
       "    }\n",
       "\n",
       "    .dataframe thead th {\n",
       "        text-align: right;\n",
       "    }\n",
       "</style>\n",
       "<table border=\"1\" class=\"dataframe\">\n",
       "  <thead>\n",
       "    <tr style=\"text-align: right;\">\n",
       "      <th></th>\n",
       "      <th>RF_on_points</th>\n",
       "      <th>LOF</th>\n",
       "      <th>RF</th>\n",
       "      <th>MAD</th>\n",
       "    </tr>\n",
       "    <tr>\n",
       "      <th>day_cycle_window</th>\n",
       "      <th></th>\n",
       "      <th></th>\n",
       "      <th></th>\n",
       "      <th></th>\n",
       "    </tr>\n",
       "  </thead>\n",
       "  <tbody>\n",
       "    <tr>\n",
       "      <th>1_1_1</th>\n",
       "      <td>1</td>\n",
       "      <td>0</td>\n",
       "      <td>1</td>\n",
       "      <td>1</td>\n",
       "    </tr>\n",
       "    <tr>\n",
       "      <th>1_1_10</th>\n",
       "      <td>1</td>\n",
       "      <td>0</td>\n",
       "      <td>0</td>\n",
       "      <td>0</td>\n",
       "    </tr>\n",
       "    <tr>\n",
       "      <th>1_1_11</th>\n",
       "      <td>0</td>\n",
       "      <td>0</td>\n",
       "      <td>0</td>\n",
       "      <td>0</td>\n",
       "    </tr>\n",
       "    <tr>\n",
       "      <th>1_1_12</th>\n",
       "      <td>0</td>\n",
       "      <td>0</td>\n",
       "      <td>0</td>\n",
       "      <td>0</td>\n",
       "    </tr>\n",
       "    <tr>\n",
       "      <th>1_1_13</th>\n",
       "      <td>0</td>\n",
       "      <td>0</td>\n",
       "      <td>0</td>\n",
       "      <td>0</td>\n",
       "    </tr>\n",
       "  </tbody>\n",
       "</table>\n",
       "</div>"
      ],
      "text/plain": [
       "                  RF_on_points  LOF  RF  MAD\n",
       "day_cycle_window                            \n",
       "1_1_1                        1    0   1    1\n",
       "1_1_10                       1    0   0    0\n",
       "1_1_11                       0    0   0    0\n",
       "1_1_12                       0    0   0    0\n",
       "1_1_13                       0    0   0    0"
      ]
     },
     "execution_count": 27,
     "metadata": {},
     "output_type": "execute_result"
    }
   ],
   "source": [
    "results.head()"
   ]
  },
  {
   "cell_type": "markdown",
   "id": "aaa06da9-c41b-4cc2-8363-3140cd46a0ca",
   "metadata": {},
   "source": [
    "Pour chaque fenêtre, on a les prédictions de chacun des 4 détecteurs d'anomalies. Un 1 signifie que la fenêtre a été détecté comme une anomalie, et 0 signifie que c'est un point normal."
   ]
  },
  {
   "cell_type": "markdown",
   "id": "72383b02-c3cc-4953-b3ce-99861036d054",
   "metadata": {},
   "source": [
    "On procède ensuite au vote de chacun des détecteurs. Cela revient ici à faire la somme pour chaque fenêtre. dans notre étude, nous avons fixé la barre des votes à 3. C'est à dire que si 3 détecteurs ou plus prédisent une anomalie alors c'est une anomalie. Nous avons arbitrairement choisi cette barre de 3 mais ce choix devra être discuté avec le client. Ces derniers pourront également nous aider à discerner quelles methodes de prédiction sont les plus robustes et au besoin nous modifierons les prédicteurs."
   ]
  },
  {
   "cell_type": "markdown",
   "id": "7b40862f-3c06-4fd1-80b1-88e8cd1abed8",
   "metadata": {},
   "source": [
    "Avec cette méthode, voici donc les 111 anomalies que nous avons détecté parmi les 1637 fenêtres."
   ]
  },
  {
   "cell_type": "code",
   "execution_count": 28,
   "id": "95d4fcee-83d2-4430-b615-500c1d30b9fa",
   "metadata": {},
   "outputs": [
    {
     "data": {
      "text/plain": [
       "Index(['1_1_1', '1_1_3', '1_1_5', '1_1_6', '1_1_62', '1_1_68', '1_2_1',\n",
       "       '1_2_174', '1_2_176', '1_2_181',\n",
       "       ...\n",
       "       '4_3_61', '4_3_63', '4_3_64', '4_3_65', '4_4_1', '4_4_133', '4_4_160',\n",
       "       '4_4_2', '4_4_39', '4_4_79'],\n",
       "      dtype='object', name='day_cycle_window', length=111)"
      ]
     },
     "execution_count": 28,
     "metadata": {},
     "output_type": "execute_result"
    }
   ],
   "source": [
    "windows_anomalies = results[results.sum(axis=1) > 2].index\n",
    "windows_anomalies"
   ]
  },
  {
   "cell_type": "markdown",
   "id": "b43e9825-7dbc-4815-af5f-761e6857e171",
   "metadata": {},
   "source": [
    "Et voici les fenêtres dont nous sommes le plus confiant sur leur anomarlités"
   ]
  },
  {
   "cell_type": "code",
   "execution_count": 29,
   "id": "6ffa50f6-b410-4f8c-ad53-91046898173b",
   "metadata": {},
   "outputs": [
    {
     "data": {
      "text/plain": [
       "day_cycle_window\n",
       "4_4_39     4\n",
       "1_5_68     4\n",
       "3_3_41     4\n",
       "3_2_51     4\n",
       "3_2_52     4\n",
       "3_1_3      4\n",
       "4_2_3      4\n",
       "3_3_1      4\n",
       "1_5_70     4\n",
       "2_3_145    4\n",
       "dtype: int64"
      ]
     },
     "execution_count": 29,
     "metadata": {},
     "output_type": "execute_result"
    }
   ],
   "source": [
    "results.sum(axis=1).sort_values(ascending=False).head(10)"
   ]
  },
  {
   "cell_type": "code",
   "execution_count": 43,
   "id": "8bbc2791",
   "metadata": {},
   "outputs": [
    {
     "name": "stdout",
     "output_type": "stream",
     "text": [
      "le ratio de fenêtres predites anormales est : 0.0678069639584606\n"
     ]
    }
   ],
   "source": [
    "ratio_outlier = len(windows_anomalies)/len(results)\n",
    "print(f\"le ratio de fenêtres predites anormales est : {ratio_outlier}\")"
   ]
  },
  {
   "cell_type": "markdown",
   "id": "5563ee49-0f39-4cd4-b41c-8e8cf476506a",
   "metadata": {},
   "source": [
    "Beaucoup des windows initiales ont été détectées comme des anomalies, au point que leur quantité nous intérroge. Il serait intéressant de discuter de ce point là avec le client."
   ]
  },
  {
   "cell_type": "markdown",
   "id": "4523361e",
   "metadata": {},
   "source": [
    "# Conclusion"
   ]
  },
  {
   "cell_type": "markdown",
   "id": "734b1bdf",
   "metadata": {},
   "source": [
    "Après nettoyage, analyse et prédictions, nous avons trouvé les fenêtres qui ont l'air statistiquement anormales. Toutefois, sans en connaitre plus sur le contexte et la signification des variables, il parait difficile d'évaluer la justesse de nos résultats."
   ]
  },
  {
   "cell_type": "markdown",
   "id": "359e72f4",
   "metadata": {},
   "source": [
    "C'est pour cela que nous demanderions au client une vérification métier de ces anomalies. Ayant une réelle connaissance du secteur, il pourra approuver nos résultats. Dans le cas contraire, un retour de sa part nous permettra d'affiner nos modèles qui seront alors plus pertinent pour le jeu de données. Nous affichons plusieurs fenêtres que nous avons classifier d'anormales."
   ]
  },
  {
   "cell_type": "code",
   "execution_count": 30,
   "id": "62e42b0c",
   "metadata": {},
   "outputs": [
    {
     "data": {
      "text/plain": [
       "['1_1_1',\n",
       " '1_1_3',\n",
       " '1_1_5',\n",
       " '1_1_6',\n",
       " '1_1_62',\n",
       " '1_1_68',\n",
       " '1_2_1',\n",
       " '1_2_174',\n",
       " '1_2_176',\n",
       " '1_2_181',\n",
       " '1_2_2',\n",
       " '1_2_7',\n",
       " '1_3_2',\n",
       " '1_4_1',\n",
       " '1_4_2',\n",
       " '1_4_3',\n",
       " '1_5_43',\n",
       " '1_5_44',\n",
       " '1_5_64',\n",
       " '1_5_65',\n",
       " '1_5_66',\n",
       " '1_5_67',\n",
       " '1_5_68',\n",
       " '1_5_70',\n",
       " '1_5_92',\n",
       " '1_5_93',\n",
       " '1_5_94',\n",
       " '2_1_1',\n",
       " '2_1_126',\n",
       " '2_1_13',\n",
       " '2_1_17',\n",
       " '2_1_19',\n",
       " '2_1_2',\n",
       " '2_1_7',\n",
       " '2_1_8',\n",
       " '2_2_57',\n",
       " '2_2_60',\n",
       " '2_2_63',\n",
       " '2_2_64',\n",
       " '2_2_75',\n",
       " '2_2_76',\n",
       " '2_3_1',\n",
       " '2_3_114',\n",
       " '2_3_135',\n",
       " '2_3_138',\n",
       " '2_3_144',\n",
       " '2_3_145',\n",
       " '3_1_1',\n",
       " '3_1_16',\n",
       " '3_1_2',\n",
       " '3_1_20',\n",
       " '3_1_3',\n",
       " '3_1_33',\n",
       " '3_1_85',\n",
       " '3_1_9',\n",
       " '3_1_96',\n",
       " '3_2_44',\n",
       " '3_2_45',\n",
       " '3_2_49',\n",
       " '3_2_50',\n",
       " '3_2_51',\n",
       " '3_2_52',\n",
       " '3_3_1',\n",
       " '3_3_126',\n",
       " '3_3_128',\n",
       " '3_3_129',\n",
       " '3_3_148',\n",
       " '3_3_2',\n",
       " '3_3_22',\n",
       " '3_3_25',\n",
       " '3_3_41',\n",
       " '3_3_42',\n",
       " '3_3_46',\n",
       " '3_3_48',\n",
       " '3_3_49',\n",
       " '3_3_51',\n",
       " '3_3_52',\n",
       " '3_3_53',\n",
       " '3_3_55',\n",
       " '3_3_57',\n",
       " '4_1_15',\n",
       " '4_1_16',\n",
       " '4_1_17',\n",
       " '4_1_18',\n",
       " '4_1_19',\n",
       " '4_1_49',\n",
       " '4_2_1',\n",
       " '4_2_138',\n",
       " '4_2_15',\n",
       " '4_2_179',\n",
       " '4_2_18',\n",
       " '4_2_19',\n",
       " '4_2_2',\n",
       " '4_2_3',\n",
       " '4_2_4',\n",
       " '4_2_73',\n",
       " '4_2_74',\n",
       " '4_3_53',\n",
       " '4_3_58',\n",
       " '4_3_59',\n",
       " '4_3_60',\n",
       " '4_3_61',\n",
       " '4_3_63',\n",
       " '4_3_64',\n",
       " '4_3_65',\n",
       " '4_4_1',\n",
       " '4_4_133',\n",
       " '4_4_160',\n",
       " '4_4_2',\n",
       " '4_4_39',\n",
       " '4_4_79']"
      ]
     },
     "execution_count": 30,
     "metadata": {},
     "output_type": "execute_result"
    }
   ],
   "source": [
    "windows_anomalies.tolist()"
   ]
  },
  {
   "cell_type": "markdown",
   "id": "3828ca5d",
   "metadata": {},
   "source": [
    "Une autre possibilité serait de demander au client de classifier \"à la main\" une petite partie des fenêtres, cela nous permettrait d'avoir un idée plus claire sur la normalité des données et de pouvoir utiliser de nouvelles techniques qui n'ont pas été utilisées dans le cadre de cette première étude telle que la **novelty detection** ou des **autoencoder**."
   ]
  }
 ],
 "metadata": {
  "kernelspec": {
   "display_name": "Python 3 (ipykernel)",
   "language": "python",
   "name": "python3"
  },
  "language_info": {
   "codemirror_mode": {
    "name": "ipython",
    "version": 3
   },
   "file_extension": ".py",
   "mimetype": "text/x-python",
   "name": "python",
   "nbconvert_exporter": "python",
   "pygments_lexer": "ipython3",
   "version": "3.8.11"
  }
 },
 "nbformat": 4,
 "nbformat_minor": 5
}

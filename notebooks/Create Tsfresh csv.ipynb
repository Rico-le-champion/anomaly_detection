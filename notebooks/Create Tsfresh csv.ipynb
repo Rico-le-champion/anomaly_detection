{
 "cells": [
  {
   "cell_type": "markdown",
   "id": "eb8cb6ad",
   "metadata": {
    "tags": []
   },
   "source": [
    "# Import libraries"
   ]
  },
  {
   "cell_type": "code",
   "execution_count": 2,
   "id": "f0588493",
   "metadata": {},
   "outputs": [],
   "source": [
    "import pandas as pd\n",
    "import numpy as np\n",
    "import tsfresh as tf"
   ]
  },
  {
   "cell_type": "markdown",
   "id": "7a6e95c9",
   "metadata": {
    "tags": []
   },
   "source": [
    "# Load Data"
   ]
  },
  {
   "cell_type": "code",
   "execution_count": 14,
   "id": "8850c922",
   "metadata": {},
   "outputs": [],
   "source": [
    "data = pd.read_csv(\"./data/dataset.csv\")"
   ]
  },
  {
   "cell_type": "markdown",
   "id": "55f7b6b2",
   "metadata": {},
   "source": [
    "# Pré-processing "
   ]
  },
  {
   "cell_type": "code",
   "execution_count": 15,
   "id": "414c0d06",
   "metadata": {},
   "outputs": [],
   "source": [
    "data[\"day_cycle_window_temp\"] = data[\"day_cycle_window\"].str.split(\"_\")"
   ]
  },
  {
   "cell_type": "code",
   "execution_count": 17,
   "id": "15ff0827",
   "metadata": {},
   "outputs": [],
   "source": [
    "data[\"day\"] = data[\"day_cycle_window_temp\"].apply(lambda x: int(x[0]))\n",
    "data[\"cycle\"] = data[\"day_cycle_window_temp\"].apply(lambda x: int(x[1]))\n",
    "data[\"window\"] = data[\"day_cycle_window_temp\"].apply(lambda x: int(x[2]))\n",
    "data.drop(columns={\"day_cycle_window_temp\"}, inplace=True)"
   ]
  },
  {
   "cell_type": "code",
   "execution_count": 18,
   "id": "fdfd5612",
   "metadata": {},
   "outputs": [
    {
     "data": {
      "text/html": [
       "<div>\n",
       "<style scoped>\n",
       "    .dataframe tbody tr th:only-of-type {\n",
       "        vertical-align: middle;\n",
       "    }\n",
       "\n",
       "    .dataframe tbody tr th {\n",
       "        vertical-align: top;\n",
       "    }\n",
       "\n",
       "    .dataframe thead th {\n",
       "        text-align: right;\n",
       "    }\n",
       "</style>\n",
       "<table border=\"1\" class=\"dataframe\">\n",
       "  <thead>\n",
       "    <tr style=\"text-align: right;\">\n",
       "      <th></th>\n",
       "      <th>day_cycle_window</th>\n",
       "      <th>p1</th>\n",
       "      <th>p2</th>\n",
       "      <th>p3</th>\n",
       "      <th>p4</th>\n",
       "      <th>p5</th>\n",
       "      <th>p6</th>\n",
       "      <th>p7</th>\n",
       "      <th>p8</th>\n",
       "      <th>p9</th>\n",
       "      <th>p10</th>\n",
       "      <th>p11</th>\n",
       "      <th>day</th>\n",
       "      <th>cycle</th>\n",
       "      <th>window</th>\n",
       "    </tr>\n",
       "  </thead>\n",
       "  <tbody>\n",
       "    <tr>\n",
       "      <th>0</th>\n",
       "      <td>1_1_1</td>\n",
       "      <td>-0.805191</td>\n",
       "      <td>-1.141993</td>\n",
       "      <td>-1.328327</td>\n",
       "      <td>-1.516693</td>\n",
       "      <td>-1.373962</td>\n",
       "      <td>-0.808270</td>\n",
       "      <td>-1.070547</td>\n",
       "      <td>-0.504352</td>\n",
       "      <td>2.807146</td>\n",
       "      <td>0.495528</td>\n",
       "      <td>-1.246737</td>\n",
       "      <td>1</td>\n",
       "      <td>1</td>\n",
       "      <td>1</td>\n",
       "    </tr>\n",
       "    <tr>\n",
       "      <th>1</th>\n",
       "      <td>1_1_1</td>\n",
       "      <td>-0.805191</td>\n",
       "      <td>-1.134902</td>\n",
       "      <td>-1.320393</td>\n",
       "      <td>-1.505848</td>\n",
       "      <td>-1.361560</td>\n",
       "      <td>-0.807840</td>\n",
       "      <td>-1.064212</td>\n",
       "      <td>-0.516000</td>\n",
       "      <td>2.894177</td>\n",
       "      <td>0.494467</td>\n",
       "      <td>-1.244472</td>\n",
       "      <td>1</td>\n",
       "      <td>1</td>\n",
       "      <td>1</td>\n",
       "    </tr>\n",
       "    <tr>\n",
       "      <th>2</th>\n",
       "      <td>1_1_1</td>\n",
       "      <td>-0.805191</td>\n",
       "      <td>-1.117304</td>\n",
       "      <td>-1.307167</td>\n",
       "      <td>-1.505848</td>\n",
       "      <td>-1.361560</td>\n",
       "      <td>-0.807840</td>\n",
       "      <td>-1.064212</td>\n",
       "      <td>-0.516000</td>\n",
       "      <td>2.981904</td>\n",
       "      <td>0.429370</td>\n",
       "      <td>-1.244472</td>\n",
       "      <td>1</td>\n",
       "      <td>1</td>\n",
       "      <td>1</td>\n",
       "    </tr>\n",
       "    <tr>\n",
       "      <th>3</th>\n",
       "      <td>1_1_1</td>\n",
       "      <td>-0.814231</td>\n",
       "      <td>-1.114206</td>\n",
       "      <td>-1.287593</td>\n",
       "      <td>-1.442302</td>\n",
       "      <td>-1.287565</td>\n",
       "      <td>-0.807840</td>\n",
       "      <td>-1.045557</td>\n",
       "      <td>-0.516000</td>\n",
       "      <td>3.063298</td>\n",
       "      <td>0.348056</td>\n",
       "      <td>-1.244472</td>\n",
       "      <td>1</td>\n",
       "      <td>1</td>\n",
       "      <td>1</td>\n",
       "    </tr>\n",
       "    <tr>\n",
       "      <th>4</th>\n",
       "      <td>1_1_1</td>\n",
       "      <td>-0.848104</td>\n",
       "      <td>-1.112276</td>\n",
       "      <td>-1.285393</td>\n",
       "      <td>-1.429076</td>\n",
       "      <td>-1.270722</td>\n",
       "      <td>-0.807840</td>\n",
       "      <td>-1.017575</td>\n",
       "      <td>-0.664906</td>\n",
       "      <td>3.049237</td>\n",
       "      <td>0.118828</td>\n",
       "      <td>-1.270237</td>\n",
       "      <td>1</td>\n",
       "      <td>1</td>\n",
       "      <td>1</td>\n",
       "    </tr>\n",
       "    <tr>\n",
       "      <th>...</th>\n",
       "      <td>...</td>\n",
       "      <td>...</td>\n",
       "      <td>...</td>\n",
       "      <td>...</td>\n",
       "      <td>...</td>\n",
       "      <td>...</td>\n",
       "      <td>...</td>\n",
       "      <td>...</td>\n",
       "      <td>...</td>\n",
       "      <td>...</td>\n",
       "      <td>...</td>\n",
       "      <td>...</td>\n",
       "      <td>...</td>\n",
       "      <td>...</td>\n",
       "      <td>...</td>\n",
       "    </tr>\n",
       "    <tr>\n",
       "      <th>162697</th>\n",
       "      <td>4_4_160</td>\n",
       "      <td>0.147741</td>\n",
       "      <td>0.060913</td>\n",
       "      <td>0.185874</td>\n",
       "      <td>-0.163053</td>\n",
       "      <td>-0.284814</td>\n",
       "      <td>0.150407</td>\n",
       "      <td>0.029841</td>\n",
       "      <td>0.111318</td>\n",
       "      <td>-1.663704</td>\n",
       "      <td>0.614371</td>\n",
       "      <td>0.432218</td>\n",
       "      <td>4</td>\n",
       "      <td>4</td>\n",
       "      <td>160</td>\n",
       "    </tr>\n",
       "    <tr>\n",
       "      <th>162698</th>\n",
       "      <td>4_4_160</td>\n",
       "      <td>0.147741</td>\n",
       "      <td>0.060913</td>\n",
       "      <td>0.185874</td>\n",
       "      <td>-0.163053</td>\n",
       "      <td>-0.284814</td>\n",
       "      <td>0.177867</td>\n",
       "      <td>0.029841</td>\n",
       "      <td>0.113368</td>\n",
       "      <td>-1.663704</td>\n",
       "      <td>0.614371</td>\n",
       "      <td>0.432218</td>\n",
       "      <td>4</td>\n",
       "      <td>4</td>\n",
       "      <td>160</td>\n",
       "    </tr>\n",
       "    <tr>\n",
       "      <th>162699</th>\n",
       "      <td>4_4_160</td>\n",
       "      <td>0.147741</td>\n",
       "      <td>0.060913</td>\n",
       "      <td>0.185874</td>\n",
       "      <td>-0.163053</td>\n",
       "      <td>-0.284814</td>\n",
       "      <td>0.179901</td>\n",
       "      <td>0.029841</td>\n",
       "      <td>0.113368</td>\n",
       "      <td>-1.663704</td>\n",
       "      <td>0.614371</td>\n",
       "      <td>0.432218</td>\n",
       "      <td>4</td>\n",
       "      <td>4</td>\n",
       "      <td>160</td>\n",
       "    </tr>\n",
       "    <tr>\n",
       "      <th>162700</th>\n",
       "      <td>4_4_160</td>\n",
       "      <td>0.147741</td>\n",
       "      <td>0.060913</td>\n",
       "      <td>0.185874</td>\n",
       "      <td>-0.163053</td>\n",
       "      <td>-0.232045</td>\n",
       "      <td>0.179901</td>\n",
       "      <td>0.029841</td>\n",
       "      <td>0.113368</td>\n",
       "      <td>-1.663704</td>\n",
       "      <td>0.614371</td>\n",
       "      <td>0.432218</td>\n",
       "      <td>4</td>\n",
       "      <td>4</td>\n",
       "      <td>160</td>\n",
       "    </tr>\n",
       "    <tr>\n",
       "      <th>162701</th>\n",
       "      <td>4_4_160</td>\n",
       "      <td>0.196873</td>\n",
       "      <td>0.090617</td>\n",
       "      <td>0.292064</td>\n",
       "      <td>-0.132991</td>\n",
       "      <td>-0.219665</td>\n",
       "      <td>0.198205</td>\n",
       "      <td>0.058172</td>\n",
       "      <td>0.135439</td>\n",
       "      <td>-1.663704</td>\n",
       "      <td>0.614371</td>\n",
       "      <td>0.462288</td>\n",
       "      <td>4</td>\n",
       "      <td>4</td>\n",
       "      <td>160</td>\n",
       "    </tr>\n",
       "  </tbody>\n",
       "</table>\n",
       "<p>162702 rows × 15 columns</p>\n",
       "</div>"
      ],
      "text/plain": [
       "       day_cycle_window        p1        p2        p3        p4        p5  \\\n",
       "0                 1_1_1 -0.805191 -1.141993 -1.328327 -1.516693 -1.373962   \n",
       "1                 1_1_1 -0.805191 -1.134902 -1.320393 -1.505848 -1.361560   \n",
       "2                 1_1_1 -0.805191 -1.117304 -1.307167 -1.505848 -1.361560   \n",
       "3                 1_1_1 -0.814231 -1.114206 -1.287593 -1.442302 -1.287565   \n",
       "4                 1_1_1 -0.848104 -1.112276 -1.285393 -1.429076 -1.270722   \n",
       "...                 ...       ...       ...       ...       ...       ...   \n",
       "162697          4_4_160  0.147741  0.060913  0.185874 -0.163053 -0.284814   \n",
       "162698          4_4_160  0.147741  0.060913  0.185874 -0.163053 -0.284814   \n",
       "162699          4_4_160  0.147741  0.060913  0.185874 -0.163053 -0.284814   \n",
       "162700          4_4_160  0.147741  0.060913  0.185874 -0.163053 -0.232045   \n",
       "162701          4_4_160  0.196873  0.090617  0.292064 -0.132991 -0.219665   \n",
       "\n",
       "              p6        p7        p8        p9       p10       p11  day  \\\n",
       "0      -0.808270 -1.070547 -0.504352  2.807146  0.495528 -1.246737    1   \n",
       "1      -0.807840 -1.064212 -0.516000  2.894177  0.494467 -1.244472    1   \n",
       "2      -0.807840 -1.064212 -0.516000  2.981904  0.429370 -1.244472    1   \n",
       "3      -0.807840 -1.045557 -0.516000  3.063298  0.348056 -1.244472    1   \n",
       "4      -0.807840 -1.017575 -0.664906  3.049237  0.118828 -1.270237    1   \n",
       "...          ...       ...       ...       ...       ...       ...  ...   \n",
       "162697  0.150407  0.029841  0.111318 -1.663704  0.614371  0.432218    4   \n",
       "162698  0.177867  0.029841  0.113368 -1.663704  0.614371  0.432218    4   \n",
       "162699  0.179901  0.029841  0.113368 -1.663704  0.614371  0.432218    4   \n",
       "162700  0.179901  0.029841  0.113368 -1.663704  0.614371  0.432218    4   \n",
       "162701  0.198205  0.058172  0.135439 -1.663704  0.614371  0.462288    4   \n",
       "\n",
       "        cycle  window  \n",
       "0           1       1  \n",
       "1           1       1  \n",
       "2           1       1  \n",
       "3           1       1  \n",
       "4           1       1  \n",
       "...       ...     ...  \n",
       "162697      4     160  \n",
       "162698      4     160  \n",
       "162699      4     160  \n",
       "162700      4     160  \n",
       "162701      4     160  \n",
       "\n",
       "[162702 rows x 15 columns]"
      ]
     },
     "execution_count": 18,
     "metadata": {},
     "output_type": "execute_result"
    }
   ],
   "source": [
    "data"
   ]
  },
  {
   "cell_type": "code",
   "execution_count": 19,
   "id": "89ce387b",
   "metadata": {},
   "outputs": [],
   "source": [
    "windows_dict = {}\n",
    "for window in data.day_cycle_window.unique():\n",
    "    windows_dict[window] = data[data.day_cycle_window == window]"
   ]
  },
  {
   "cell_type": "code",
   "execution_count": 20,
   "id": "b172cf58",
   "metadata": {},
   "outputs": [],
   "source": [
    "for window in windows_dict.keys():\n",
    "    windows_dict[window].reset_index(drop=True, inplace=True)\n",
    "    windows_dict[window].reset_index(inplace=True)"
   ]
  },
  {
   "cell_type": "code",
   "execution_count": 21,
   "id": "050022cf",
   "metadata": {},
   "outputs": [],
   "source": [
    "modified_data = pd.DataFrame()\n",
    "for window in windows_dict.keys():\n",
    "    modified_data = pd.concat([modified_data, windows_dict[window]])"
   ]
  },
  {
   "cell_type": "code",
   "execution_count": 22,
   "id": "96356166",
   "metadata": {},
   "outputs": [],
   "source": [
    "modified_data.reset_index(drop=True, inplace=True)"
   ]
  },
  {
   "cell_type": "markdown",
   "id": "1892243f",
   "metadata": {},
   "source": [
    "# Tsfresh traitement"
   ]
  },
  {
   "cell_type": "code",
   "execution_count": 23,
   "id": "86d557d6",
   "metadata": {},
   "outputs": [
    {
     "name": "stderr",
     "output_type": "stream",
     "text": [
      "Feature Extraction: 100%|██████████████████████████████████████████████████████████████████████████████████████████████████| 10/10 [35:59<00:00, 215.91s/it]\n"
     ]
    }
   ],
   "source": [
    "df = tf.extract_features(\n",
    "    modified_data, column_id=\"day_cycle_window\", column_sort=\"index\"\n",
    ")"
   ]
  },
  {
   "cell_type": "markdown",
   "id": "6c785cd7",
   "metadata": {},
   "source": [
    "# Stats decriptives"
   ]
  },
  {
   "cell_type": "code",
   "execution_count": null,
   "id": "ff1126df",
   "metadata": {},
   "outputs": [],
   "source": [
    "data.groupby(\"cycle\").count()"
   ]
  },
  {
   "cell_type": "code",
   "execution_count": null,
   "id": "d6fa404f",
   "metadata": {},
   "outputs": [],
   "source": [
    "data.groupby(\"day\").count()"
   ]
  },
  {
   "cell_type": "code",
   "execution_count": 26,
   "id": "cc31e35e",
   "metadata": {},
   "outputs": [],
   "source": [
    "df.to_csv('../../data_anomaly/tsfreshfeatures.csv')"
   ]
  },
  {
   "cell_type": "code",
   "execution_count": null,
   "id": "be54b4a1",
   "metadata": {},
   "outputs": [],
   "source": []
  }
 ],
 "metadata": {
  "kernelspec": {
   "display_name": "Python 3 (ipykernel)",
   "language": "python",
   "name": "python3"
  },
  "language_info": {
   "codemirror_mode": {
    "name": "ipython",
    "version": 3
   },
   "file_extension": ".py",
   "mimetype": "text/x-python",
   "name": "python",
   "nbconvert_exporter": "python",
   "pygments_lexer": "ipython3",
   "version": "3.8.11"
  },
  "toc-autonumbering": true
 },
 "nbformat": 4,
 "nbformat_minor": 5
}
